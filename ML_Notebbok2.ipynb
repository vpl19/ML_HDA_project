{
 "cells": [
  {
   "cell_type": "markdown",
   "metadata": {},
   "source": [
    "# Project ML version 2 \n"
   ]
  },
  {
   "cell_type": "code",
   "execution_count": 90,
   "metadata": {},
   "outputs": [],
   "source": [
    "import pandas as pd\n",
    "appointment=pd.read_csv(\"KaggleV2-May-2016.csv\")"
   ]
  },
  {
   "cell_type": "code",
   "execution_count": 91,
   "metadata": {},
   "outputs": [],
   "source": [
    "import warnings\n",
    "warnings.filterwarnings('ignore')"
   ]
  },
  {
   "cell_type": "code",
   "execution_count": 92,
   "metadata": {},
   "outputs": [
    {
     "data": {
      "text/html": [
       "<div>\n",
       "<style scoped>\n",
       "    .dataframe tbody tr th:only-of-type {\n",
       "        vertical-align: middle;\n",
       "    }\n",
       "\n",
       "    .dataframe tbody tr th {\n",
       "        vertical-align: top;\n",
       "    }\n",
       "\n",
       "    .dataframe thead th {\n",
       "        text-align: right;\n",
       "    }\n",
       "</style>\n",
       "<table border=\"1\" class=\"dataframe\">\n",
       "  <thead>\n",
       "    <tr style=\"text-align: right;\">\n",
       "      <th></th>\n",
       "      <th>PatientId</th>\n",
       "      <th>AppointmentID</th>\n",
       "      <th>Gender</th>\n",
       "      <th>ScheduledDay</th>\n",
       "      <th>AppointmentDay</th>\n",
       "      <th>Age</th>\n",
       "      <th>Neighbourhood</th>\n",
       "      <th>Scholarship</th>\n",
       "      <th>Hipertension</th>\n",
       "      <th>Diabetes</th>\n",
       "      <th>Alcoholism</th>\n",
       "      <th>Handcap</th>\n",
       "      <th>SMS_received</th>\n",
       "      <th>No-show</th>\n",
       "    </tr>\n",
       "  </thead>\n",
       "  <tbody>\n",
       "    <tr>\n",
       "      <td>0</td>\n",
       "      <td>2.987250e+13</td>\n",
       "      <td>5642903</td>\n",
       "      <td>F</td>\n",
       "      <td>2016-04-29T18:38:08Z</td>\n",
       "      <td>2016-04-29T00:00:00Z</td>\n",
       "      <td>62</td>\n",
       "      <td>JARDIM DA PENHA</td>\n",
       "      <td>0</td>\n",
       "      <td>1</td>\n",
       "      <td>0</td>\n",
       "      <td>0</td>\n",
       "      <td>0</td>\n",
       "      <td>0</td>\n",
       "      <td>No</td>\n",
       "    </tr>\n",
       "    <tr>\n",
       "      <td>1</td>\n",
       "      <td>5.589978e+14</td>\n",
       "      <td>5642503</td>\n",
       "      <td>M</td>\n",
       "      <td>2016-04-29T16:08:27Z</td>\n",
       "      <td>2016-04-29T00:00:00Z</td>\n",
       "      <td>56</td>\n",
       "      <td>JARDIM DA PENHA</td>\n",
       "      <td>0</td>\n",
       "      <td>0</td>\n",
       "      <td>0</td>\n",
       "      <td>0</td>\n",
       "      <td>0</td>\n",
       "      <td>0</td>\n",
       "      <td>No</td>\n",
       "    </tr>\n",
       "    <tr>\n",
       "      <td>2</td>\n",
       "      <td>4.262962e+12</td>\n",
       "      <td>5642549</td>\n",
       "      <td>F</td>\n",
       "      <td>2016-04-29T16:19:04Z</td>\n",
       "      <td>2016-04-29T00:00:00Z</td>\n",
       "      <td>62</td>\n",
       "      <td>MATA DA PRAIA</td>\n",
       "      <td>0</td>\n",
       "      <td>0</td>\n",
       "      <td>0</td>\n",
       "      <td>0</td>\n",
       "      <td>0</td>\n",
       "      <td>0</td>\n",
       "      <td>No</td>\n",
       "    </tr>\n",
       "    <tr>\n",
       "      <td>3</td>\n",
       "      <td>8.679512e+11</td>\n",
       "      <td>5642828</td>\n",
       "      <td>F</td>\n",
       "      <td>2016-04-29T17:29:31Z</td>\n",
       "      <td>2016-04-29T00:00:00Z</td>\n",
       "      <td>8</td>\n",
       "      <td>PONTAL DE CAMBURI</td>\n",
       "      <td>0</td>\n",
       "      <td>0</td>\n",
       "      <td>0</td>\n",
       "      <td>0</td>\n",
       "      <td>0</td>\n",
       "      <td>0</td>\n",
       "      <td>No</td>\n",
       "    </tr>\n",
       "    <tr>\n",
       "      <td>4</td>\n",
       "      <td>8.841186e+12</td>\n",
       "      <td>5642494</td>\n",
       "      <td>F</td>\n",
       "      <td>2016-04-29T16:07:23Z</td>\n",
       "      <td>2016-04-29T00:00:00Z</td>\n",
       "      <td>56</td>\n",
       "      <td>JARDIM DA PENHA</td>\n",
       "      <td>0</td>\n",
       "      <td>1</td>\n",
       "      <td>1</td>\n",
       "      <td>0</td>\n",
       "      <td>0</td>\n",
       "      <td>0</td>\n",
       "      <td>No</td>\n",
       "    </tr>\n",
       "    <tr>\n",
       "      <td>5</td>\n",
       "      <td>9.598513e+13</td>\n",
       "      <td>5626772</td>\n",
       "      <td>F</td>\n",
       "      <td>2016-04-27T08:36:51Z</td>\n",
       "      <td>2016-04-29T00:00:00Z</td>\n",
       "      <td>76</td>\n",
       "      <td>REPÚBLICA</td>\n",
       "      <td>0</td>\n",
       "      <td>1</td>\n",
       "      <td>0</td>\n",
       "      <td>0</td>\n",
       "      <td>0</td>\n",
       "      <td>0</td>\n",
       "      <td>No</td>\n",
       "    </tr>\n",
       "    <tr>\n",
       "      <td>6</td>\n",
       "      <td>7.336882e+14</td>\n",
       "      <td>5630279</td>\n",
       "      <td>F</td>\n",
       "      <td>2016-04-27T15:05:12Z</td>\n",
       "      <td>2016-04-29T00:00:00Z</td>\n",
       "      <td>23</td>\n",
       "      <td>GOIABEIRAS</td>\n",
       "      <td>0</td>\n",
       "      <td>0</td>\n",
       "      <td>0</td>\n",
       "      <td>0</td>\n",
       "      <td>0</td>\n",
       "      <td>0</td>\n",
       "      <td>Yes</td>\n",
       "    </tr>\n",
       "    <tr>\n",
       "      <td>7</td>\n",
       "      <td>3.449833e+12</td>\n",
       "      <td>5630575</td>\n",
       "      <td>F</td>\n",
       "      <td>2016-04-27T15:39:58Z</td>\n",
       "      <td>2016-04-29T00:00:00Z</td>\n",
       "      <td>39</td>\n",
       "      <td>GOIABEIRAS</td>\n",
       "      <td>0</td>\n",
       "      <td>0</td>\n",
       "      <td>0</td>\n",
       "      <td>0</td>\n",
       "      <td>0</td>\n",
       "      <td>0</td>\n",
       "      <td>Yes</td>\n",
       "    </tr>\n",
       "    <tr>\n",
       "      <td>8</td>\n",
       "      <td>5.639473e+13</td>\n",
       "      <td>5638447</td>\n",
       "      <td>F</td>\n",
       "      <td>2016-04-29T08:02:16Z</td>\n",
       "      <td>2016-04-29T00:00:00Z</td>\n",
       "      <td>21</td>\n",
       "      <td>ANDORINHAS</td>\n",
       "      <td>0</td>\n",
       "      <td>0</td>\n",
       "      <td>0</td>\n",
       "      <td>0</td>\n",
       "      <td>0</td>\n",
       "      <td>0</td>\n",
       "      <td>No</td>\n",
       "    </tr>\n",
       "    <tr>\n",
       "      <td>9</td>\n",
       "      <td>7.812456e+13</td>\n",
       "      <td>5629123</td>\n",
       "      <td>F</td>\n",
       "      <td>2016-04-27T12:48:25Z</td>\n",
       "      <td>2016-04-29T00:00:00Z</td>\n",
       "      <td>19</td>\n",
       "      <td>CONQUISTA</td>\n",
       "      <td>0</td>\n",
       "      <td>0</td>\n",
       "      <td>0</td>\n",
       "      <td>0</td>\n",
       "      <td>0</td>\n",
       "      <td>0</td>\n",
       "      <td>No</td>\n",
       "    </tr>\n",
       "  </tbody>\n",
       "</table>\n",
       "</div>"
      ],
      "text/plain": [
       "      PatientId  AppointmentID Gender          ScheduledDay  \\\n",
       "0  2.987250e+13        5642903      F  2016-04-29T18:38:08Z   \n",
       "1  5.589978e+14        5642503      M  2016-04-29T16:08:27Z   \n",
       "2  4.262962e+12        5642549      F  2016-04-29T16:19:04Z   \n",
       "3  8.679512e+11        5642828      F  2016-04-29T17:29:31Z   \n",
       "4  8.841186e+12        5642494      F  2016-04-29T16:07:23Z   \n",
       "5  9.598513e+13        5626772      F  2016-04-27T08:36:51Z   \n",
       "6  7.336882e+14        5630279      F  2016-04-27T15:05:12Z   \n",
       "7  3.449833e+12        5630575      F  2016-04-27T15:39:58Z   \n",
       "8  5.639473e+13        5638447      F  2016-04-29T08:02:16Z   \n",
       "9  7.812456e+13        5629123      F  2016-04-27T12:48:25Z   \n",
       "\n",
       "         AppointmentDay  Age      Neighbourhood  Scholarship  Hipertension  \\\n",
       "0  2016-04-29T00:00:00Z   62    JARDIM DA PENHA            0             1   \n",
       "1  2016-04-29T00:00:00Z   56    JARDIM DA PENHA            0             0   \n",
       "2  2016-04-29T00:00:00Z   62      MATA DA PRAIA            0             0   \n",
       "3  2016-04-29T00:00:00Z    8  PONTAL DE CAMBURI            0             0   \n",
       "4  2016-04-29T00:00:00Z   56    JARDIM DA PENHA            0             1   \n",
       "5  2016-04-29T00:00:00Z   76          REPÚBLICA            0             1   \n",
       "6  2016-04-29T00:00:00Z   23         GOIABEIRAS            0             0   \n",
       "7  2016-04-29T00:00:00Z   39         GOIABEIRAS            0             0   \n",
       "8  2016-04-29T00:00:00Z   21         ANDORINHAS            0             0   \n",
       "9  2016-04-29T00:00:00Z   19          CONQUISTA            0             0   \n",
       "\n",
       "   Diabetes  Alcoholism  Handcap  SMS_received No-show  \n",
       "0         0           0        0             0      No  \n",
       "1         0           0        0             0      No  \n",
       "2         0           0        0             0      No  \n",
       "3         0           0        0             0      No  \n",
       "4         1           0        0             0      No  \n",
       "5         0           0        0             0      No  \n",
       "6         0           0        0             0     Yes  \n",
       "7         0           0        0             0     Yes  \n",
       "8         0           0        0             0      No  \n",
       "9         0           0        0             0      No  "
      ]
     },
     "execution_count": 92,
     "metadata": {},
     "output_type": "execute_result"
    }
   ],
   "source": [
    "appointment.head(10)"
   ]
  },
  {
   "cell_type": "code",
   "execution_count": 93,
   "metadata": {},
   "outputs": [
    {
     "data": {
      "text/html": [
       "<div>\n",
       "<style scoped>\n",
       "    .dataframe tbody tr th:only-of-type {\n",
       "        vertical-align: middle;\n",
       "    }\n",
       "\n",
       "    .dataframe tbody tr th {\n",
       "        vertical-align: top;\n",
       "    }\n",
       "\n",
       "    .dataframe thead th {\n",
       "        text-align: right;\n",
       "    }\n",
       "</style>\n",
       "<table border=\"1\" class=\"dataframe\">\n",
       "  <thead>\n",
       "    <tr style=\"text-align: right;\">\n",
       "      <th></th>\n",
       "      <th>PatientId</th>\n",
       "      <th>AppointmentID</th>\n",
       "      <th>Age</th>\n",
       "      <th>Scholarship</th>\n",
       "      <th>Hipertension</th>\n",
       "      <th>Diabetes</th>\n",
       "      <th>Alcoholism</th>\n",
       "      <th>Handcap</th>\n",
       "      <th>SMS_received</th>\n",
       "    </tr>\n",
       "  </thead>\n",
       "  <tbody>\n",
       "    <tr>\n",
       "      <td>count</td>\n",
       "      <td>1.105270e+05</td>\n",
       "      <td>1.105270e+05</td>\n",
       "      <td>110527.000000</td>\n",
       "      <td>110527.000000</td>\n",
       "      <td>110527.000000</td>\n",
       "      <td>110527.000000</td>\n",
       "      <td>110527.000000</td>\n",
       "      <td>110527.000000</td>\n",
       "      <td>110527.000000</td>\n",
       "    </tr>\n",
       "    <tr>\n",
       "      <td>mean</td>\n",
       "      <td>1.474963e+14</td>\n",
       "      <td>5.675305e+06</td>\n",
       "      <td>37.088874</td>\n",
       "      <td>0.098266</td>\n",
       "      <td>0.197246</td>\n",
       "      <td>0.071865</td>\n",
       "      <td>0.030400</td>\n",
       "      <td>0.022248</td>\n",
       "      <td>0.321026</td>\n",
       "    </tr>\n",
       "    <tr>\n",
       "      <td>std</td>\n",
       "      <td>2.560949e+14</td>\n",
       "      <td>7.129575e+04</td>\n",
       "      <td>23.110205</td>\n",
       "      <td>0.297675</td>\n",
       "      <td>0.397921</td>\n",
       "      <td>0.258265</td>\n",
       "      <td>0.171686</td>\n",
       "      <td>0.161543</td>\n",
       "      <td>0.466873</td>\n",
       "    </tr>\n",
       "    <tr>\n",
       "      <td>min</td>\n",
       "      <td>3.921784e+04</td>\n",
       "      <td>5.030230e+06</td>\n",
       "      <td>-1.000000</td>\n",
       "      <td>0.000000</td>\n",
       "      <td>0.000000</td>\n",
       "      <td>0.000000</td>\n",
       "      <td>0.000000</td>\n",
       "      <td>0.000000</td>\n",
       "      <td>0.000000</td>\n",
       "    </tr>\n",
       "    <tr>\n",
       "      <td>25%</td>\n",
       "      <td>4.172614e+12</td>\n",
       "      <td>5.640286e+06</td>\n",
       "      <td>18.000000</td>\n",
       "      <td>0.000000</td>\n",
       "      <td>0.000000</td>\n",
       "      <td>0.000000</td>\n",
       "      <td>0.000000</td>\n",
       "      <td>0.000000</td>\n",
       "      <td>0.000000</td>\n",
       "    </tr>\n",
       "    <tr>\n",
       "      <td>50%</td>\n",
       "      <td>3.173184e+13</td>\n",
       "      <td>5.680573e+06</td>\n",
       "      <td>37.000000</td>\n",
       "      <td>0.000000</td>\n",
       "      <td>0.000000</td>\n",
       "      <td>0.000000</td>\n",
       "      <td>0.000000</td>\n",
       "      <td>0.000000</td>\n",
       "      <td>0.000000</td>\n",
       "    </tr>\n",
       "    <tr>\n",
       "      <td>75%</td>\n",
       "      <td>9.439172e+13</td>\n",
       "      <td>5.725524e+06</td>\n",
       "      <td>55.000000</td>\n",
       "      <td>0.000000</td>\n",
       "      <td>0.000000</td>\n",
       "      <td>0.000000</td>\n",
       "      <td>0.000000</td>\n",
       "      <td>0.000000</td>\n",
       "      <td>1.000000</td>\n",
       "    </tr>\n",
       "    <tr>\n",
       "      <td>max</td>\n",
       "      <td>9.999816e+14</td>\n",
       "      <td>5.790484e+06</td>\n",
       "      <td>115.000000</td>\n",
       "      <td>1.000000</td>\n",
       "      <td>1.000000</td>\n",
       "      <td>1.000000</td>\n",
       "      <td>1.000000</td>\n",
       "      <td>4.000000</td>\n",
       "      <td>1.000000</td>\n",
       "    </tr>\n",
       "  </tbody>\n",
       "</table>\n",
       "</div>"
      ],
      "text/plain": [
       "          PatientId  AppointmentID            Age    Scholarship  \\\n",
       "count  1.105270e+05   1.105270e+05  110527.000000  110527.000000   \n",
       "mean   1.474963e+14   5.675305e+06      37.088874       0.098266   \n",
       "std    2.560949e+14   7.129575e+04      23.110205       0.297675   \n",
       "min    3.921784e+04   5.030230e+06      -1.000000       0.000000   \n",
       "25%    4.172614e+12   5.640286e+06      18.000000       0.000000   \n",
       "50%    3.173184e+13   5.680573e+06      37.000000       0.000000   \n",
       "75%    9.439172e+13   5.725524e+06      55.000000       0.000000   \n",
       "max    9.999816e+14   5.790484e+06     115.000000       1.000000   \n",
       "\n",
       "        Hipertension       Diabetes     Alcoholism        Handcap  \\\n",
       "count  110527.000000  110527.000000  110527.000000  110527.000000   \n",
       "mean        0.197246       0.071865       0.030400       0.022248   \n",
       "std         0.397921       0.258265       0.171686       0.161543   \n",
       "min         0.000000       0.000000       0.000000       0.000000   \n",
       "25%         0.000000       0.000000       0.000000       0.000000   \n",
       "50%         0.000000       0.000000       0.000000       0.000000   \n",
       "75%         0.000000       0.000000       0.000000       0.000000   \n",
       "max         1.000000       1.000000       1.000000       4.000000   \n",
       "\n",
       "        SMS_received  \n",
       "count  110527.000000  \n",
       "mean        0.321026  \n",
       "std         0.466873  \n",
       "min         0.000000  \n",
       "25%         0.000000  \n",
       "50%         0.000000  \n",
       "75%         1.000000  \n",
       "max         1.000000  "
      ]
     },
     "execution_count": 93,
     "metadata": {},
     "output_type": "execute_result"
    }
   ],
   "source": [
    "appointment.describe()"
   ]
  },
  {
   "cell_type": "code",
   "execution_count": 94,
   "metadata": {},
   "outputs": [
    {
     "data": {
      "text/plain": [
       "PatientId         float64\n",
       "AppointmentID       int64\n",
       "Gender             object\n",
       "ScheduledDay       object\n",
       "AppointmentDay     object\n",
       "Age                 int64\n",
       "Neighbourhood      object\n",
       "Scholarship         int64\n",
       "Hipertension        int64\n",
       "Diabetes            int64\n",
       "Alcoholism          int64\n",
       "Handcap             int64\n",
       "SMS_received        int64\n",
       "No-show            object\n",
       "dtype: object"
      ]
     },
     "execution_count": 94,
     "metadata": {},
     "output_type": "execute_result"
    }
   ],
   "source": [
    "appointment.dtypes"
   ]
  },
  {
   "cell_type": "markdown",
   "metadata": {},
   "source": [
    "## Descriptive stats \n",
    "\n",
    "- do the plots with show and no show depending on several parameter, maybe look at the correlations...\n",
    "- say from where the data comes from and so on "
   ]
  },
  {
   "cell_type": "code",
   "execution_count": 95,
   "metadata": {},
   "outputs": [
    {
     "data": {
      "image/png": "[encoded data removed]",
      "text/plain": [
       "<Figure size 432x288 with 1 Axes>"
      ]
     },
     "metadata": {},
     "output_type": "display_data"
    }
   ],
   "source": [
    "import seaborn as sns\n",
    "sns.set(style=\"darkgrid\")\n",
    "ax = sns.countplot(x=\"No-show\", data=appointment)"
   ]
  },
  {
   "cell_type": "code",
   "execution_count": 176,
   "metadata": {},
   "outputs": [
    {
     "data": {
      "text/plain": [
       "0    88208\n",
       "1    22319\n",
       "Name: No-show, dtype: int64"
      ]
     },
     "execution_count": 176,
     "metadata": {},
     "output_type": "execute_result"
    }
   ],
   "source": [
    "appointment['No-show'].value_counts()"
   ]
  },
  {
   "cell_type": "code",
   "execution_count": 175,
   "metadata": {},
   "outputs": [
    {
     "data": {
      "text/plain": [
       "<matplotlib.axes._subplots.AxesSubplot at 0x1a2e771250>"
      ]
     },
     "execution_count": 175,
     "metadata": {},
     "output_type": "execute_result"
    },
    {
     "data": {
      "image/png": "[encoded data removed]",
      "text/plain": [
       "<Figure size 432x288 with 1 Axes>"
      ]
     },
     "metadata": {},
     "output_type": "display_data"
    }
   ],
   "source": [
    "import matplotlib as plt\n",
    "appointment['No-show'].value_counts().plot(kind='pie')"
   ]
  },
  {
   "cell_type": "code",
   "execution_count": 178,
   "metadata": {},
   "outputs": [
    {
     "data": {
      "image/png": "[encoded data removed]",
      "text/plain": [
       "<Figure size 432x288 with 1 Axes>"
      ]
     },
     "metadata": {},
     "output_type": "display_data"
    }
   ],
   "source": [
    "import matplotlib.pyplot as plt\n",
    "\n",
    "\n",
    "labels = ['Show', 'No-Show']\n",
    "sizes = [88208/(88208+22319), 22319/(88208+22319)]\n",
    "\n",
    "fig1, ax1 = plt.subplots()\n",
    "ax1.pie(sizes, labels=labels, autopct='%1.1f%%',\n",
    "        shadow=True, startangle=90)\n",
    "# Equal aspect ratio ensures that pie is drawn as a circle\n",
    "ax1.axis('equal')  \n",
    "plt.tight_layout()\n",
    "plt.show()"
   ]
  },
  {
   "cell_type": "code",
   "execution_count": 97,
   "metadata": {},
   "outputs": [
    {
     "data": {
      "text/plain": [
       "<seaborn.axisgrid.FacetGrid at 0x1a29795090>"
      ]
     },
     "execution_count": 97,
     "metadata": {},
     "output_type": "execute_result"
    },
    {
     "data": {
      "image/png": "[encoded data removed]",
      "text/plain": [
       "<Figure size 418.459x360 with 1 Axes>"
      ]
     },
     "metadata": {},
     "output_type": "display_data"
    }
   ],
   "source": [
    "import numpy as np\n",
    "import pandas as pd\n",
    "import seaborn as sns\n",
    "sns.set(color_codes=True)\n",
    "\n",
    "\n",
    "\n",
    "y,x = 'No-show', 'Gender'\n",
    "\n",
    "(appointment\n",
    ".groupby(x)[y]\n",
    ".value_counts(normalize=True)\n",
    ".mul(100)\n",
    ".rename('percent')\n",
    ".reset_index()\n",
    ".pipe((sns.catplot,'data'), x=x,y='percent',hue=y,kind='bar'))\n"
   ]
  },
  {
   "cell_type": "code",
   "execution_count": 98,
   "metadata": {},
   "outputs": [
    {
     "data": {
      "text/plain": [
       "<seaborn.axisgrid.FacetGrid at 0x1a28fcb750>"
      ]
     },
     "execution_count": 98,
     "metadata": {},
     "output_type": "execute_result"
    },
    {
     "data": {
      "image/png": "[encoded data removed]",
      "text/plain": [
       "<Figure size 418.459x360 with 1 Axes>"
      ]
     },
     "metadata": {},
     "output_type": "display_data"
    }
   ],
   "source": [
    "y,x = 'No-show', 'Diabetes'\n",
    "\n",
    "(appointment\n",
    ".groupby(x)[y]\n",
    ".value_counts(normalize=True)\n",
    ".mul(100)\n",
    ".rename('percent')\n",
    ".reset_index()\n",
    ".pipe((sns.catplot,'data'), x=x,y='percent',hue=y,kind='bar'))"
   ]
  },
  {
   "cell_type": "code",
   "execution_count": 99,
   "metadata": {},
   "outputs": [
    {
     "data": {
      "text/plain": [
       "<seaborn.axisgrid.FacetGrid at 0x1a2ad935d0>"
      ]
     },
     "execution_count": 99,
     "metadata": {},
     "output_type": "execute_result"
    },
    {
     "data": {
      "image/png": "[encoded data removed]",
      "text/plain": [
       "<Figure size 418.459x360 with 1 Axes>"
      ]
     },
     "metadata": {},
     "output_type": "display_data"
    }
   ],
   "source": [
    "y,x = 'No-show', 'Alcoholism'\n",
    "\n",
    "(appointment\n",
    ".groupby(x)[y]\n",
    ".value_counts(normalize=True)\n",
    ".mul(100)\n",
    ".rename('percent')\n",
    ".reset_index()\n",
    ".pipe((sns.catplot,'data'), x=x,y='percent',hue=y,kind='bar'))"
   ]
  },
  {
   "cell_type": "code",
   "execution_count": 100,
   "metadata": {},
   "outputs": [
    {
     "data": {
      "text/plain": [
       "<seaborn.axisgrid.FacetGrid at 0x1a2165d290>"
      ]
     },
     "execution_count": 100,
     "metadata": {},
     "output_type": "execute_result"
    },
    {
     "data": {
      "image/png": "[encoded data removed]",
      "text/plain": [
       "<Figure size 418.459x360 with 1 Axes>"
      ]
     },
     "metadata": {},
     "output_type": "display_data"
    }
   ],
   "source": [
    "\n",
    "y,x = 'No-show', 'SMS_received'\n",
    "\n",
    "(appointment\n",
    ".groupby(x)[y]\n",
    ".value_counts(normalize=True)\n",
    ".mul(100)\n",
    ".rename('percent')\n",
    ".reset_index()\n",
    ".pipe((sns.catplot,'data'), x=x,y='percent',hue=y,kind='bar'))"
   ]
  },
  {
   "cell_type": "code",
   "execution_count": null,
   "metadata": {},
   "outputs": [],
   "source": []
  },
  {
   "cell_type": "markdown",
   "metadata": {},
   "source": [
    "### Changement of the Neighbourhood category"
   ]
  },
  {
   "cell_type": "code",
   "execution_count": 101,
   "metadata": {},
   "outputs": [
    {
     "data": {
      "text/plain": [
       "JARDIM CAMBURI                 7717\n",
       "MARIA ORTIZ                    5805\n",
       "RESISTÊNCIA                    4431\n",
       "JARDIM DA PENHA                3877\n",
       "ITARARÉ                        3514\n",
       "                               ... \n",
       "ILHA DO BOI                      35\n",
       "ILHA DO FRADE                    10\n",
       "AEROPORTO                         8\n",
       "ILHAS OCEÂNICAS DE TRINDADE       2\n",
       "PARQUE INDUSTRIAL                 1\n",
       "Name: Neighbourhood, Length: 81, dtype: int64"
      ]
     },
     "execution_count": 101,
     "metadata": {},
     "output_type": "execute_result"
    }
   ],
   "source": [
    "appointment.Neighbourhood.value_counts()"
   ]
  },
  {
   "cell_type": "code",
   "execution_count": 102,
   "metadata": {},
   "outputs": [],
   "source": [
    "appointment.loc[appointment['Neighbourhood'].isin((appointment['Neighbourhood'].value_counts()[appointment['Neighbourhood'].value_counts() < 3000]).index), 'Neighbourhood']= 'other'"
   ]
  },
  {
   "cell_type": "code",
   "execution_count": 103,
   "metadata": {},
   "outputs": [
    {
     "data": {
      "text/plain": [
       "other              75586\n",
       "JARDIM CAMBURI      7717\n",
       "MARIA ORTIZ         5805\n",
       "RESISTÊNCIA         4431\n",
       "JARDIM DA PENHA     3877\n",
       "ITARARÉ             3514\n",
       "CENTRO              3334\n",
       "TABUAZEIRO          3132\n",
       "SANTA MARTHA        3131\n",
       "Name: Neighbourhood, dtype: int64"
      ]
     },
     "execution_count": 103,
     "metadata": {},
     "output_type": "execute_result"
    }
   ],
   "source": [
    "appointment.Neighbourhood.value_counts()"
   ]
  },
  {
   "cell_type": "markdown",
   "metadata": {},
   "source": [
    "### gestion of dates and types in general "
   ]
  },
  {
   "cell_type": "code",
   "execution_count": 104,
   "metadata": {},
   "outputs": [],
   "source": [
    "import numpy as np \n",
    "\n",
    "\n",
    "appointment.AppointmentDay = appointment.AppointmentDay.apply(np.datetime64)\n",
    "appointment.ScheduledDay = appointment.ScheduledDay.apply(np.datetime64)\n",
    "#appointment.AwaitingTime = appointment.AwaitingTime.apply(abs)"
   ]
  },
  {
   "cell_type": "code",
   "execution_count": 105,
   "metadata": {},
   "outputs": [
    {
     "data": {
      "text/html": [
       "<div>\n",
       "<style scoped>\n",
       "    .dataframe tbody tr th:only-of-type {\n",
       "        vertical-align: middle;\n",
       "    }\n",
       "\n",
       "    .dataframe tbody tr th {\n",
       "        vertical-align: top;\n",
       "    }\n",
       "\n",
       "    .dataframe thead th {\n",
       "        text-align: right;\n",
       "    }\n",
       "</style>\n",
       "<table border=\"1\" class=\"dataframe\">\n",
       "  <thead>\n",
       "    <tr style=\"text-align: right;\">\n",
       "      <th></th>\n",
       "      <th>PatientId</th>\n",
       "      <th>AppointmentID</th>\n",
       "      <th>Gender</th>\n",
       "      <th>ScheduledDay</th>\n",
       "      <th>AppointmentDay</th>\n",
       "      <th>Age</th>\n",
       "      <th>Neighbourhood</th>\n",
       "      <th>Scholarship</th>\n",
       "      <th>Hipertension</th>\n",
       "      <th>Diabetes</th>\n",
       "      <th>Alcoholism</th>\n",
       "      <th>Handcap</th>\n",
       "      <th>SMS_received</th>\n",
       "      <th>No-show</th>\n",
       "    </tr>\n",
       "  </thead>\n",
       "  <tbody>\n",
       "    <tr>\n",
       "      <td>0</td>\n",
       "      <td>2.987250e+13</td>\n",
       "      <td>5642903</td>\n",
       "      <td>F</td>\n",
       "      <td>2016-04-29 18:38:08</td>\n",
       "      <td>2016-04-29</td>\n",
       "      <td>62</td>\n",
       "      <td>JARDIM DA PENHA</td>\n",
       "      <td>0</td>\n",
       "      <td>1</td>\n",
       "      <td>0</td>\n",
       "      <td>0</td>\n",
       "      <td>0</td>\n",
       "      <td>0</td>\n",
       "      <td>No</td>\n",
       "    </tr>\n",
       "    <tr>\n",
       "      <td>1</td>\n",
       "      <td>5.589978e+14</td>\n",
       "      <td>5642503</td>\n",
       "      <td>M</td>\n",
       "      <td>2016-04-29 16:08:27</td>\n",
       "      <td>2016-04-29</td>\n",
       "      <td>56</td>\n",
       "      <td>JARDIM DA PENHA</td>\n",
       "      <td>0</td>\n",
       "      <td>0</td>\n",
       "      <td>0</td>\n",
       "      <td>0</td>\n",
       "      <td>0</td>\n",
       "      <td>0</td>\n",
       "      <td>No</td>\n",
       "    </tr>\n",
       "    <tr>\n",
       "      <td>2</td>\n",
       "      <td>4.262962e+12</td>\n",
       "      <td>5642549</td>\n",
       "      <td>F</td>\n",
       "      <td>2016-04-29 16:19:04</td>\n",
       "      <td>2016-04-29</td>\n",
       "      <td>62</td>\n",
       "      <td>other</td>\n",
       "      <td>0</td>\n",
       "      <td>0</td>\n",
       "      <td>0</td>\n",
       "      <td>0</td>\n",
       "      <td>0</td>\n",
       "      <td>0</td>\n",
       "      <td>No</td>\n",
       "    </tr>\n",
       "    <tr>\n",
       "      <td>3</td>\n",
       "      <td>8.679512e+11</td>\n",
       "      <td>5642828</td>\n",
       "      <td>F</td>\n",
       "      <td>2016-04-29 17:29:31</td>\n",
       "      <td>2016-04-29</td>\n",
       "      <td>8</td>\n",
       "      <td>other</td>\n",
       "      <td>0</td>\n",
       "      <td>0</td>\n",
       "      <td>0</td>\n",
       "      <td>0</td>\n",
       "      <td>0</td>\n",
       "      <td>0</td>\n",
       "      <td>No</td>\n",
       "    </tr>\n",
       "    <tr>\n",
       "      <td>4</td>\n",
       "      <td>8.841186e+12</td>\n",
       "      <td>5642494</td>\n",
       "      <td>F</td>\n",
       "      <td>2016-04-29 16:07:23</td>\n",
       "      <td>2016-04-29</td>\n",
       "      <td>56</td>\n",
       "      <td>JARDIM DA PENHA</td>\n",
       "      <td>0</td>\n",
       "      <td>1</td>\n",
       "      <td>1</td>\n",
       "      <td>0</td>\n",
       "      <td>0</td>\n",
       "      <td>0</td>\n",
       "      <td>No</td>\n",
       "    </tr>\n",
       "    <tr>\n",
       "      <td>5</td>\n",
       "      <td>9.598513e+13</td>\n",
       "      <td>5626772</td>\n",
       "      <td>F</td>\n",
       "      <td>2016-04-27 08:36:51</td>\n",
       "      <td>2016-04-29</td>\n",
       "      <td>76</td>\n",
       "      <td>other</td>\n",
       "      <td>0</td>\n",
       "      <td>1</td>\n",
       "      <td>0</td>\n",
       "      <td>0</td>\n",
       "      <td>0</td>\n",
       "      <td>0</td>\n",
       "      <td>No</td>\n",
       "    </tr>\n",
       "    <tr>\n",
       "      <td>6</td>\n",
       "      <td>7.336882e+14</td>\n",
       "      <td>5630279</td>\n",
       "      <td>F</td>\n",
       "      <td>2016-04-27 15:05:12</td>\n",
       "      <td>2016-04-29</td>\n",
       "      <td>23</td>\n",
       "      <td>other</td>\n",
       "      <td>0</td>\n",
       "      <td>0</td>\n",
       "      <td>0</td>\n",
       "      <td>0</td>\n",
       "      <td>0</td>\n",
       "      <td>0</td>\n",
       "      <td>Yes</td>\n",
       "    </tr>\n",
       "    <tr>\n",
       "      <td>7</td>\n",
       "      <td>3.449833e+12</td>\n",
       "      <td>5630575</td>\n",
       "      <td>F</td>\n",
       "      <td>2016-04-27 15:39:58</td>\n",
       "      <td>2016-04-29</td>\n",
       "      <td>39</td>\n",
       "      <td>other</td>\n",
       "      <td>0</td>\n",
       "      <td>0</td>\n",
       "      <td>0</td>\n",
       "      <td>0</td>\n",
       "      <td>0</td>\n",
       "      <td>0</td>\n",
       "      <td>Yes</td>\n",
       "    </tr>\n",
       "    <tr>\n",
       "      <td>8</td>\n",
       "      <td>5.639473e+13</td>\n",
       "      <td>5638447</td>\n",
       "      <td>F</td>\n",
       "      <td>2016-04-29 08:02:16</td>\n",
       "      <td>2016-04-29</td>\n",
       "      <td>21</td>\n",
       "      <td>other</td>\n",
       "      <td>0</td>\n",
       "      <td>0</td>\n",
       "      <td>0</td>\n",
       "      <td>0</td>\n",
       "      <td>0</td>\n",
       "      <td>0</td>\n",
       "      <td>No</td>\n",
       "    </tr>\n",
       "    <tr>\n",
       "      <td>9</td>\n",
       "      <td>7.812456e+13</td>\n",
       "      <td>5629123</td>\n",
       "      <td>F</td>\n",
       "      <td>2016-04-27 12:48:25</td>\n",
       "      <td>2016-04-29</td>\n",
       "      <td>19</td>\n",
       "      <td>other</td>\n",
       "      <td>0</td>\n",
       "      <td>0</td>\n",
       "      <td>0</td>\n",
       "      <td>0</td>\n",
       "      <td>0</td>\n",
       "      <td>0</td>\n",
       "      <td>No</td>\n",
       "    </tr>\n",
       "  </tbody>\n",
       "</table>\n",
       "</div>"
      ],
      "text/plain": [
       "      PatientId  AppointmentID Gender        ScheduledDay AppointmentDay  Age  \\\n",
       "0  2.987250e+13        5642903      F 2016-04-29 18:38:08     2016-04-29   62   \n",
       "1  5.589978e+14        5642503      M 2016-04-29 16:08:27     2016-04-29   56   \n",
       "2  4.262962e+12        5642549      F 2016-04-29 16:19:04     2016-04-29   62   \n",
       "3  8.679512e+11        5642828      F 2016-04-29 17:29:31     2016-04-29    8   \n",
       "4  8.841186e+12        5642494      F 2016-04-29 16:07:23     2016-04-29   56   \n",
       "5  9.598513e+13        5626772      F 2016-04-27 08:36:51     2016-04-29   76   \n",
       "6  7.336882e+14        5630279      F 2016-04-27 15:05:12     2016-04-29   23   \n",
       "7  3.449833e+12        5630575      F 2016-04-27 15:39:58     2016-04-29   39   \n",
       "8  5.639473e+13        5638447      F 2016-04-29 08:02:16     2016-04-29   21   \n",
       "9  7.812456e+13        5629123      F 2016-04-27 12:48:25     2016-04-29   19   \n",
       "\n",
       "     Neighbourhood  Scholarship  Hipertension  Diabetes  Alcoholism  Handcap  \\\n",
       "0  JARDIM DA PENHA            0             1         0           0        0   \n",
       "1  JARDIM DA PENHA            0             0         0           0        0   \n",
       "2            other            0             0         0           0        0   \n",
       "3            other            0             0         0           0        0   \n",
       "4  JARDIM DA PENHA            0             1         1           0        0   \n",
       "5            other            0             1         0           0        0   \n",
       "6            other            0             0         0           0        0   \n",
       "7            other            0             0         0           0        0   \n",
       "8            other            0             0         0           0        0   \n",
       "9            other            0             0         0           0        0   \n",
       "\n",
       "   SMS_received No-show  \n",
       "0             0      No  \n",
       "1             0      No  \n",
       "2             0      No  \n",
       "3             0      No  \n",
       "4             0      No  \n",
       "5             0      No  \n",
       "6             0     Yes  \n",
       "7             0     Yes  \n",
       "8             0      No  \n",
       "9             0      No  "
      ]
     },
     "execution_count": 105,
     "metadata": {},
     "output_type": "execute_result"
    }
   ],
   "source": [
    "appointment.head(10)"
   ]
  },
  {
   "cell_type": "code",
   "execution_count": 106,
   "metadata": {},
   "outputs": [],
   "source": [
    "appointment['Gender'] = appointment['Gender'].astype('object')\n",
    "appointment['Neighbourhood'] = appointment['Neighbourhood'].astype('object')\n",
    "\n",
    "appointment['No-show'] = appointment['No-show'].map({'Yes': '1', 'No': '0'})\n",
    "#appointment['No-show'] = appointment['No-show'].astype('bool')\n",
    "\n",
    "\n",
    "#appointment['Scholarship'] = appointment['Scholarship'].astype('bool')\n",
    "\n",
    "\n",
    "#appointment['Hipertension'] = appointment['Hipertension'].astype('bool')\n",
    "\n",
    "\n",
    "#appointment['Diabetes'] = appointment['Diabetes'].astype('bool')\n",
    "\n",
    "\n",
    "#appointment['Alcoholism'] = appointment['Alcoholism'].astype('bool')\n",
    "\n",
    "\n",
    "#appointment['Alcoholism'] = appointment['Alcoholism'].astype('bool')\n",
    "\n",
    "\n",
    "#appointment['Handcap'] = appointment['Handcap'].astype('bool')\n",
    "\n",
    "\n",
    "#appointment['SMS_received'] = appointment['SMS_received'].astype('bool')\n",
    "\n",
    "appointment['AppointmentID'] = appointment['AppointmentID'].astype('object')"
   ]
  },
  {
   "cell_type": "code",
   "execution_count": 107,
   "metadata": {},
   "outputs": [
    {
     "data": {
      "text/plain": [
       "PatientId                float64\n",
       "AppointmentID             object\n",
       "Gender                    object\n",
       "ScheduledDay      datetime64[ns]\n",
       "AppointmentDay    datetime64[ns]\n",
       "Age                        int64\n",
       "Neighbourhood             object\n",
       "Scholarship                int64\n",
       "Hipertension               int64\n",
       "Diabetes                   int64\n",
       "Alcoholism                 int64\n",
       "Handcap                    int64\n",
       "SMS_received               int64\n",
       "No-show                   object\n",
       "dtype: object"
      ]
     },
     "execution_count": 107,
     "metadata": {},
     "output_type": "execute_result"
    }
   ],
   "source": [
    "appointment.dtypes"
   ]
  },
  {
   "cell_type": "code",
   "execution_count": 108,
   "metadata": {},
   "outputs": [
    {
     "data": {
      "text/html": [
       "<div>\n",
       "<style scoped>\n",
       "    .dataframe tbody tr th:only-of-type {\n",
       "        vertical-align: middle;\n",
       "    }\n",
       "\n",
       "    .dataframe tbody tr th {\n",
       "        vertical-align: top;\n",
       "    }\n",
       "\n",
       "    .dataframe thead th {\n",
       "        text-align: right;\n",
       "    }\n",
       "</style>\n",
       "<table border=\"1\" class=\"dataframe\">\n",
       "  <thead>\n",
       "    <tr style=\"text-align: right;\">\n",
       "      <th></th>\n",
       "      <th>PatientId</th>\n",
       "      <th>AppointmentID</th>\n",
       "      <th>Gender</th>\n",
       "      <th>ScheduledDay</th>\n",
       "      <th>AppointmentDay</th>\n",
       "      <th>Age</th>\n",
       "      <th>Neighbourhood</th>\n",
       "      <th>Scholarship</th>\n",
       "      <th>Hipertension</th>\n",
       "      <th>Diabetes</th>\n",
       "      <th>Alcoholism</th>\n",
       "      <th>Handcap</th>\n",
       "      <th>SMS_received</th>\n",
       "      <th>No-show</th>\n",
       "    </tr>\n",
       "  </thead>\n",
       "  <tbody>\n",
       "    <tr>\n",
       "      <td>0</td>\n",
       "      <td>2.987250e+13</td>\n",
       "      <td>5642903</td>\n",
       "      <td>F</td>\n",
       "      <td>2016-04-29 18:38:08</td>\n",
       "      <td>2016-04-29</td>\n",
       "      <td>62</td>\n",
       "      <td>JARDIM DA PENHA</td>\n",
       "      <td>0</td>\n",
       "      <td>1</td>\n",
       "      <td>0</td>\n",
       "      <td>0</td>\n",
       "      <td>0</td>\n",
       "      <td>0</td>\n",
       "      <td>0</td>\n",
       "    </tr>\n",
       "    <tr>\n",
       "      <td>1</td>\n",
       "      <td>5.589978e+14</td>\n",
       "      <td>5642503</td>\n",
       "      <td>M</td>\n",
       "      <td>2016-04-29 16:08:27</td>\n",
       "      <td>2016-04-29</td>\n",
       "      <td>56</td>\n",
       "      <td>JARDIM DA PENHA</td>\n",
       "      <td>0</td>\n",
       "      <td>0</td>\n",
       "      <td>0</td>\n",
       "      <td>0</td>\n",
       "      <td>0</td>\n",
       "      <td>0</td>\n",
       "      <td>0</td>\n",
       "    </tr>\n",
       "    <tr>\n",
       "      <td>2</td>\n",
       "      <td>4.262962e+12</td>\n",
       "      <td>5642549</td>\n",
       "      <td>F</td>\n",
       "      <td>2016-04-29 16:19:04</td>\n",
       "      <td>2016-04-29</td>\n",
       "      <td>62</td>\n",
       "      <td>other</td>\n",
       "      <td>0</td>\n",
       "      <td>0</td>\n",
       "      <td>0</td>\n",
       "      <td>0</td>\n",
       "      <td>0</td>\n",
       "      <td>0</td>\n",
       "      <td>0</td>\n",
       "    </tr>\n",
       "    <tr>\n",
       "      <td>3</td>\n",
       "      <td>8.679512e+11</td>\n",
       "      <td>5642828</td>\n",
       "      <td>F</td>\n",
       "      <td>2016-04-29 17:29:31</td>\n",
       "      <td>2016-04-29</td>\n",
       "      <td>8</td>\n",
       "      <td>other</td>\n",
       "      <td>0</td>\n",
       "      <td>0</td>\n",
       "      <td>0</td>\n",
       "      <td>0</td>\n",
       "      <td>0</td>\n",
       "      <td>0</td>\n",
       "      <td>0</td>\n",
       "    </tr>\n",
       "    <tr>\n",
       "      <td>4</td>\n",
       "      <td>8.841186e+12</td>\n",
       "      <td>5642494</td>\n",
       "      <td>F</td>\n",
       "      <td>2016-04-29 16:07:23</td>\n",
       "      <td>2016-04-29</td>\n",
       "      <td>56</td>\n",
       "      <td>JARDIM DA PENHA</td>\n",
       "      <td>0</td>\n",
       "      <td>1</td>\n",
       "      <td>1</td>\n",
       "      <td>0</td>\n",
       "      <td>0</td>\n",
       "      <td>0</td>\n",
       "      <td>0</td>\n",
       "    </tr>\n",
       "    <tr>\n",
       "      <td>5</td>\n",
       "      <td>9.598513e+13</td>\n",
       "      <td>5626772</td>\n",
       "      <td>F</td>\n",
       "      <td>2016-04-27 08:36:51</td>\n",
       "      <td>2016-04-29</td>\n",
       "      <td>76</td>\n",
       "      <td>other</td>\n",
       "      <td>0</td>\n",
       "      <td>1</td>\n",
       "      <td>0</td>\n",
       "      <td>0</td>\n",
       "      <td>0</td>\n",
       "      <td>0</td>\n",
       "      <td>0</td>\n",
       "    </tr>\n",
       "    <tr>\n",
       "      <td>6</td>\n",
       "      <td>7.336882e+14</td>\n",
       "      <td>5630279</td>\n",
       "      <td>F</td>\n",
       "      <td>2016-04-27 15:05:12</td>\n",
       "      <td>2016-04-29</td>\n",
       "      <td>23</td>\n",
       "      <td>other</td>\n",
       "      <td>0</td>\n",
       "      <td>0</td>\n",
       "      <td>0</td>\n",
       "      <td>0</td>\n",
       "      <td>0</td>\n",
       "      <td>0</td>\n",
       "      <td>1</td>\n",
       "    </tr>\n",
       "    <tr>\n",
       "      <td>7</td>\n",
       "      <td>3.449833e+12</td>\n",
       "      <td>5630575</td>\n",
       "      <td>F</td>\n",
       "      <td>2016-04-27 15:39:58</td>\n",
       "      <td>2016-04-29</td>\n",
       "      <td>39</td>\n",
       "      <td>other</td>\n",
       "      <td>0</td>\n",
       "      <td>0</td>\n",
       "      <td>0</td>\n",
       "      <td>0</td>\n",
       "      <td>0</td>\n",
       "      <td>0</td>\n",
       "      <td>1</td>\n",
       "    </tr>\n",
       "    <tr>\n",
       "      <td>8</td>\n",
       "      <td>5.639473e+13</td>\n",
       "      <td>5638447</td>\n",
       "      <td>F</td>\n",
       "      <td>2016-04-29 08:02:16</td>\n",
       "      <td>2016-04-29</td>\n",
       "      <td>21</td>\n",
       "      <td>other</td>\n",
       "      <td>0</td>\n",
       "      <td>0</td>\n",
       "      <td>0</td>\n",
       "      <td>0</td>\n",
       "      <td>0</td>\n",
       "      <td>0</td>\n",
       "      <td>0</td>\n",
       "    </tr>\n",
       "    <tr>\n",
       "      <td>9</td>\n",
       "      <td>7.812456e+13</td>\n",
       "      <td>5629123</td>\n",
       "      <td>F</td>\n",
       "      <td>2016-04-27 12:48:25</td>\n",
       "      <td>2016-04-29</td>\n",
       "      <td>19</td>\n",
       "      <td>other</td>\n",
       "      <td>0</td>\n",
       "      <td>0</td>\n",
       "      <td>0</td>\n",
       "      <td>0</td>\n",
       "      <td>0</td>\n",
       "      <td>0</td>\n",
       "      <td>0</td>\n",
       "    </tr>\n",
       "  </tbody>\n",
       "</table>\n",
       "</div>"
      ],
      "text/plain": [
       "      PatientId AppointmentID Gender        ScheduledDay AppointmentDay  Age  \\\n",
       "0  2.987250e+13       5642903      F 2016-04-29 18:38:08     2016-04-29   62   \n",
       "1  5.589978e+14       5642503      M 2016-04-29 16:08:27     2016-04-29   56   \n",
       "2  4.262962e+12       5642549      F 2016-04-29 16:19:04     2016-04-29   62   \n",
       "3  8.679512e+11       5642828      F 2016-04-29 17:29:31     2016-04-29    8   \n",
       "4  8.841186e+12       5642494      F 2016-04-29 16:07:23     2016-04-29   56   \n",
       "5  9.598513e+13       5626772      F 2016-04-27 08:36:51     2016-04-29   76   \n",
       "6  7.336882e+14       5630279      F 2016-04-27 15:05:12     2016-04-29   23   \n",
       "7  3.449833e+12       5630575      F 2016-04-27 15:39:58     2016-04-29   39   \n",
       "8  5.639473e+13       5638447      F 2016-04-29 08:02:16     2016-04-29   21   \n",
       "9  7.812456e+13       5629123      F 2016-04-27 12:48:25     2016-04-29   19   \n",
       "\n",
       "     Neighbourhood  Scholarship  Hipertension  Diabetes  Alcoholism  Handcap  \\\n",
       "0  JARDIM DA PENHA            0             1         0           0        0   \n",
       "1  JARDIM DA PENHA            0             0         0           0        0   \n",
       "2            other            0             0         0           0        0   \n",
       "3            other            0             0         0           0        0   \n",
       "4  JARDIM DA PENHA            0             1         1           0        0   \n",
       "5            other            0             1         0           0        0   \n",
       "6            other            0             0         0           0        0   \n",
       "7            other            0             0         0           0        0   \n",
       "8            other            0             0         0           0        0   \n",
       "9            other            0             0         0           0        0   \n",
       "\n",
       "   SMS_received No-show  \n",
       "0             0       0  \n",
       "1             0       0  \n",
       "2             0       0  \n",
       "3             0       0  \n",
       "4             0       0  \n",
       "5             0       0  \n",
       "6             0       1  \n",
       "7             0       1  \n",
       "8             0       0  \n",
       "9             0       0  "
      ]
     },
     "execution_count": 108,
     "metadata": {},
     "output_type": "execute_result"
    }
   ],
   "source": [
    "appointment.head(10)"
   ]
  },
  {
   "cell_type": "markdown",
   "metadata": {},
   "source": [
    "## Feature engineering \n",
    "\n",
    "#### we will now modify our variables to have the final dataset\n",
    "\n",
    "- creation of one variable representing the difference between schedule and appointement day,\n",
    "- patient id and Appointment id to drop or to convert into float/int \n",
    "- scheduleDay changed into several variables\n",
    "    - year if there is several\n",
    "    - month -> one hot encoded ? \n",
    "    - day \n",
    "    - maybe actually day of the week would make more sens -> one-hot encoded ? \n",
    "    - hour \n",
    "\n",
    "- Appointment day, \n",
    "    - year \n",
    "    - month -> one-hot encoded \n",
    "    - day of the week -> one hot encoded \n",
    "- Neighboorhood: one hot encoded and maybe drop some columns... \n",
    "- one hot encoding for Gender\n"
   ]
  },
  {
   "cell_type": "markdown",
   "metadata": {},
   "source": [
    "creation of a variable for the difference between the scheduleDay and the Appointement day"
   ]
  },
  {
   "cell_type": "code",
   "execution_count": 109,
   "metadata": {},
   "outputs": [],
   "source": [
    "appointment['differenceDay']=appointment['AppointmentDay']-appointment['ScheduledDay']\n",
    "# put in hours differences\n",
    "appointment['differenceDay'] = appointment['differenceDay'].apply(lambda x: x.total_seconds()/3600)\n",
    "# abs value  \n",
    "appointment['differenceDay']=abs(appointment['differenceDay'])"
   ]
  },
  {
   "cell_type": "code",
   "execution_count": 110,
   "metadata": {},
   "outputs": [],
   "source": [
    "# abs value  \n",
    "appointment['differenceDay']=abs(appointment['differenceDay'])"
   ]
  },
  {
   "cell_type": "code",
   "execution_count": 111,
   "metadata": {},
   "outputs": [
    {
     "data": {
      "image/png": "[encoded data removed]",
      "text/plain": [
       "<Figure size 432x288 with 1 Axes>"
      ]
     },
     "metadata": {},
     "output_type": "display_data"
    }
   ],
   "source": [
    "ax = sns.barplot(x=\"No-show\",y='differenceDay', data=appointment)"
   ]
  },
  {
   "cell_type": "markdown",
   "metadata": {},
   "source": [
    "- patient id and Appointment id to drop or to convert into float/int, might add some predictive power "
   ]
  },
  {
   "cell_type": "code",
   "execution_count": 112,
   "metadata": {},
   "outputs": [],
   "source": [
    "appointment['PatientId'] = appointment['PatientId'].astype('float')\n",
    "appointment['AppointmentID'] = appointment['AppointmentID'].astype('float')"
   ]
  },
  {
   "cell_type": "markdown",
   "metadata": {},
   "source": [
    "# - scheduleDay changed into several variables\n",
    "    - year if there is several\n",
    "    - month -> one hot encoded ? \n",
    "    - day \n",
    "    - maybe actually day of the week would make more sens -> one-hot encoded ? \n",
    "    - hour \n",
    "\n"
   ]
  },
  {
   "cell_type": "code",
   "execution_count": 113,
   "metadata": {},
   "outputs": [
    {
     "data": {
      "text/plain": [
       "2016"
      ]
     },
     "execution_count": 113,
     "metadata": {},
     "output_type": "execute_result"
    }
   ],
   "source": [
    "appointment['ScheduledDay'][1].year"
   ]
  },
  {
   "cell_type": "code",
   "execution_count": 114,
   "metadata": {},
   "outputs": [],
   "source": [
    "import datetime\n",
    "appointment['ScheduledDay'] = pd.to_datetime(appointment['ScheduledDay'])\n",
    "\n",
    "\n",
    "appointment['Year_S'] = pd.DatetimeIndex(appointment['ScheduledDay']).year\n",
    "appointment['Month_S'] = pd.DatetimeIndex(appointment['ScheduledDay']).month\n",
    "appointment['Day_S'] = pd.DatetimeIndex(appointment['ScheduledDay']).day\n",
    "appointment['Hour'] = pd.DatetimeIndex(appointment['ScheduledDay']).hour\n",
    "appointment['DOW_S']=pd.DatetimeIndex(appointment['ScheduledDay']).dayofweek\n",
    "appointment['DOW_S'] = appointment['DOW_S'].astype('category')\n",
    "#appointment['DOW_S'].value_counts()"
   ]
  },
  {
   "cell_type": "code",
   "execution_count": 115,
   "metadata": {},
   "outputs": [],
   "source": [
    "### To be done change the var down_S into 0-> Monday, 1= Tuesday etc  etc ... "
   ]
  },
  {
   "cell_type": "code",
   "execution_count": null,
   "metadata": {},
   "outputs": [],
   "source": []
  },
  {
   "cell_type": "code",
   "execution_count": 116,
   "metadata": {},
   "outputs": [
    {
     "data": {
      "text/plain": [
       "1    4\n",
       "2    4\n",
       "3    4\n",
       "4    4\n",
       "5    2\n",
       "6    2\n",
       "7    2\n",
       "8    4\n",
       "9    2\n",
       "Name: DOW_S, dtype: category\n",
       "Categories (6, int64): [0, 1, 2, 3, 4, 5]"
      ]
     },
     "execution_count": 116,
     "metadata": {},
     "output_type": "execute_result"
    }
   ],
   "source": [
    "#appointment['DOW_S'] = appointment['DOW_S'].astype('category')\n",
    "appointment['DOW_S'][1:10]\n"
   ]
  },
  {
   "cell_type": "code",
   "execution_count": null,
   "metadata": {},
   "outputs": [],
   "source": []
  },
  {
   "cell_type": "markdown",
   "metadata": {},
   "source": [
    "### Appointment day"
   ]
  },
  {
   "cell_type": "code",
   "execution_count": 117,
   "metadata": {},
   "outputs": [],
   "source": [
    "appointment['Year_A'] = pd.DatetimeIndex(appointment['AppointmentDay']).year\n",
    "appointment['Month_A'] = pd.DatetimeIndex(appointment['AppointmentDay']).month\n",
    "appointment['Day_A'] = pd.DatetimeIndex(appointment['AppointmentDay']).day\n",
    "appointment['DOW_A']=pd.DatetimeIndex(appointment['AppointmentDay']).dayofweek\n",
    "appointment['DOW_A'] = appointment['DOW_A'].astype('category')"
   ]
  },
  {
   "cell_type": "code",
   "execution_count": 118,
   "metadata": {},
   "outputs": [],
   "source": [
    "## remove the variable dates\n",
    "\n",
    "appointment=appointment.drop(columns=['ScheduledDay', 'AppointmentDay'])"
   ]
  },
  {
   "cell_type": "markdown",
   "metadata": {},
   "source": [
    "## One hot encoding \n"
   ]
  },
  {
   "cell_type": "code",
   "execution_count": 119,
   "metadata": {},
   "outputs": [
    {
     "data": {
      "text/plain": [
       "PatientId         float64\n",
       "AppointmentID     float64\n",
       "Gender             object\n",
       "Age                 int64\n",
       "Neighbourhood      object\n",
       "Scholarship         int64\n",
       "Hipertension        int64\n",
       "Diabetes            int64\n",
       "Alcoholism          int64\n",
       "Handcap             int64\n",
       "SMS_received        int64\n",
       "No-show            object\n",
       "differenceDay     float64\n",
       "Year_S              int64\n",
       "Month_S             int64\n",
       "Day_S               int64\n",
       "Hour                int64\n",
       "DOW_S            category\n",
       "Year_A              int64\n",
       "Month_A             int64\n",
       "Day_A               int64\n",
       "DOW_A            category\n",
       "dtype: object"
      ]
     },
     "execution_count": 119,
     "metadata": {},
     "output_type": "execute_result"
    }
   ],
   "source": [
    "appointment.dtypes"
   ]
  },
  {
   "cell_type": "code",
   "execution_count": 120,
   "metadata": {},
   "outputs": [
    {
     "data": {
      "text/plain": [
       "PatientId        float64\n",
       "AppointmentID    float64\n",
       "Gender            object\n",
       "Age                int64\n",
       "Neighbourhood     object\n",
       "Scholarship        int64\n",
       "Hipertension       int64\n",
       "Diabetes           int64\n",
       "Alcoholism         int64\n",
       "Handcap            int64\n",
       "SMS_received       int64\n",
       "No-show           object\n",
       "differenceDay    float64\n",
       "Year_S             int64\n",
       "Month_S            int64\n",
       "Day_S              int64\n",
       "Hour               int64\n",
       "DOW_S             object\n",
       "Year_A             int64\n",
       "Month_A            int64\n",
       "Day_A              int64\n",
       "DOW_A             object\n",
       "dtype: object"
      ]
     },
     "execution_count": 120,
     "metadata": {},
     "output_type": "execute_result"
    }
   ],
   "source": [
    "appointment['Gender'] = appointment['Gender'].astype('object')\n",
    "appointment['Neighbourhood'] = appointment['Neighbourhood'].astype('object')\n",
    "appointment['DOW_S'] = appointment['DOW_S'].astype('object')\n",
    "appointment['DOW_A'] = appointment['DOW_A'].astype('object')\n",
    "appointment.dtypes"
   ]
  },
  {
   "cell_type": "code",
   "execution_count": 121,
   "metadata": {},
   "outputs": [
    {
     "data": {
      "text/html": [
       "<div>\n",
       "<style scoped>\n",
       "    .dataframe tbody tr th:only-of-type {\n",
       "        vertical-align: middle;\n",
       "    }\n",
       "\n",
       "    .dataframe tbody tr th {\n",
       "        vertical-align: top;\n",
       "    }\n",
       "\n",
       "    .dataframe thead th {\n",
       "        text-align: right;\n",
       "    }\n",
       "</style>\n",
       "<table border=\"1\" class=\"dataframe\">\n",
       "  <thead>\n",
       "    <tr style=\"text-align: right;\">\n",
       "      <th></th>\n",
       "      <th>PatientId</th>\n",
       "      <th>AppointmentID</th>\n",
       "      <th>Gender</th>\n",
       "      <th>Age</th>\n",
       "      <th>Neighbourhood</th>\n",
       "      <th>Scholarship</th>\n",
       "      <th>Hipertension</th>\n",
       "      <th>Diabetes</th>\n",
       "      <th>Alcoholism</th>\n",
       "      <th>Handcap</th>\n",
       "      <th>...</th>\n",
       "      <th>differenceDay</th>\n",
       "      <th>Year_S</th>\n",
       "      <th>Month_S</th>\n",
       "      <th>Day_S</th>\n",
       "      <th>Hour</th>\n",
       "      <th>DOW_S</th>\n",
       "      <th>Year_A</th>\n",
       "      <th>Month_A</th>\n",
       "      <th>Day_A</th>\n",
       "      <th>DOW_A</th>\n",
       "    </tr>\n",
       "  </thead>\n",
       "  <tbody>\n",
       "    <tr>\n",
       "      <td>0</td>\n",
       "      <td>2.987250e+13</td>\n",
       "      <td>5642903.0</td>\n",
       "      <td>0</td>\n",
       "      <td>62</td>\n",
       "      <td>JARDIM DA PENHA</td>\n",
       "      <td>0</td>\n",
       "      <td>1</td>\n",
       "      <td>0</td>\n",
       "      <td>0</td>\n",
       "      <td>0</td>\n",
       "      <td>...</td>\n",
       "      <td>18.635556</td>\n",
       "      <td>2016</td>\n",
       "      <td>4</td>\n",
       "      <td>29</td>\n",
       "      <td>18</td>\n",
       "      <td>4</td>\n",
       "      <td>2016</td>\n",
       "      <td>4</td>\n",
       "      <td>29</td>\n",
       "      <td>4</td>\n",
       "    </tr>\n",
       "    <tr>\n",
       "      <td>1</td>\n",
       "      <td>5.589978e+14</td>\n",
       "      <td>5642503.0</td>\n",
       "      <td>1</td>\n",
       "      <td>56</td>\n",
       "      <td>JARDIM DA PENHA</td>\n",
       "      <td>0</td>\n",
       "      <td>0</td>\n",
       "      <td>0</td>\n",
       "      <td>0</td>\n",
       "      <td>0</td>\n",
       "      <td>...</td>\n",
       "      <td>16.140833</td>\n",
       "      <td>2016</td>\n",
       "      <td>4</td>\n",
       "      <td>29</td>\n",
       "      <td>16</td>\n",
       "      <td>4</td>\n",
       "      <td>2016</td>\n",
       "      <td>4</td>\n",
       "      <td>29</td>\n",
       "      <td>4</td>\n",
       "    </tr>\n",
       "    <tr>\n",
       "      <td>2</td>\n",
       "      <td>4.262962e+12</td>\n",
       "      <td>5642549.0</td>\n",
       "      <td>0</td>\n",
       "      <td>62</td>\n",
       "      <td>other</td>\n",
       "      <td>0</td>\n",
       "      <td>0</td>\n",
       "      <td>0</td>\n",
       "      <td>0</td>\n",
       "      <td>0</td>\n",
       "      <td>...</td>\n",
       "      <td>16.317778</td>\n",
       "      <td>2016</td>\n",
       "      <td>4</td>\n",
       "      <td>29</td>\n",
       "      <td>16</td>\n",
       "      <td>4</td>\n",
       "      <td>2016</td>\n",
       "      <td>4</td>\n",
       "      <td>29</td>\n",
       "      <td>4</td>\n",
       "    </tr>\n",
       "    <tr>\n",
       "      <td>3</td>\n",
       "      <td>8.679512e+11</td>\n",
       "      <td>5642828.0</td>\n",
       "      <td>0</td>\n",
       "      <td>8</td>\n",
       "      <td>other</td>\n",
       "      <td>0</td>\n",
       "      <td>0</td>\n",
       "      <td>0</td>\n",
       "      <td>0</td>\n",
       "      <td>0</td>\n",
       "      <td>...</td>\n",
       "      <td>17.491944</td>\n",
       "      <td>2016</td>\n",
       "      <td>4</td>\n",
       "      <td>29</td>\n",
       "      <td>17</td>\n",
       "      <td>4</td>\n",
       "      <td>2016</td>\n",
       "      <td>4</td>\n",
       "      <td>29</td>\n",
       "      <td>4</td>\n",
       "    </tr>\n",
       "    <tr>\n",
       "      <td>4</td>\n",
       "      <td>8.841186e+12</td>\n",
       "      <td>5642494.0</td>\n",
       "      <td>0</td>\n",
       "      <td>56</td>\n",
       "      <td>JARDIM DA PENHA</td>\n",
       "      <td>0</td>\n",
       "      <td>1</td>\n",
       "      <td>1</td>\n",
       "      <td>0</td>\n",
       "      <td>0</td>\n",
       "      <td>...</td>\n",
       "      <td>16.123056</td>\n",
       "      <td>2016</td>\n",
       "      <td>4</td>\n",
       "      <td>29</td>\n",
       "      <td>16</td>\n",
       "      <td>4</td>\n",
       "      <td>2016</td>\n",
       "      <td>4</td>\n",
       "      <td>29</td>\n",
       "      <td>4</td>\n",
       "    </tr>\n",
       "  </tbody>\n",
       "</table>\n",
       "<p>5 rows × 22 columns</p>\n",
       "</div>"
      ],
      "text/plain": [
       "      PatientId  AppointmentID  Gender  Age    Neighbourhood  Scholarship  \\\n",
       "0  2.987250e+13      5642903.0       0   62  JARDIM DA PENHA            0   \n",
       "1  5.589978e+14      5642503.0       1   56  JARDIM DA PENHA            0   \n",
       "2  4.262962e+12      5642549.0       0   62            other            0   \n",
       "3  8.679512e+11      5642828.0       0    8            other            0   \n",
       "4  8.841186e+12      5642494.0       0   56  JARDIM DA PENHA            0   \n",
       "\n",
       "   Hipertension  Diabetes  Alcoholism  Handcap  ...  differenceDay Year_S  \\\n",
       "0             1         0           0        0  ...      18.635556   2016   \n",
       "1             0         0           0        0  ...      16.140833   2016   \n",
       "2             0         0           0        0  ...      16.317778   2016   \n",
       "3             0         0           0        0  ...      17.491944   2016   \n",
       "4             1         1           0        0  ...      16.123056   2016   \n",
       "\n",
       "   Month_S  Day_S  Hour  DOW_S  Year_A  Month_A  Day_A  DOW_A  \n",
       "0        4     29    18      4    2016        4     29      4  \n",
       "1        4     29    16      4    2016        4     29      4  \n",
       "2        4     29    16      4    2016        4     29      4  \n",
       "3        4     29    17      4    2016        4     29      4  \n",
       "4        4     29    16      4    2016        4     29      4  \n",
       "\n",
       "[5 rows x 22 columns]"
      ]
     },
     "execution_count": 121,
     "metadata": {},
     "output_type": "execute_result"
    }
   ],
   "source": [
    "appointment_hot=appointment\n",
    "\n",
    "from sklearn.preprocessing import LabelEncoder\n",
    "# create instance from LabelEncoder\n",
    "class_label = LabelEncoder()\n",
    "\n",
    "appointment_hot[\"Gender\"] = class_label.fit_transform(appointment_hot[\"Gender\"].values)\n",
    "appointment_hot[\"DOW_S\"] = class_label.fit_transform(appointment_hot[\"DOW_S\"].values)\n",
    "appointment_hot.head()"
   ]
  },
  {
   "cell_type": "code",
   "execution_count": 122,
   "metadata": {},
   "outputs": [
    {
     "data": {
      "text/html": [
       "<div>\n",
       "<style scoped>\n",
       "    .dataframe tbody tr th:only-of-type {\n",
       "        vertical-align: middle;\n",
       "    }\n",
       "\n",
       "    .dataframe tbody tr th {\n",
       "        vertical-align: top;\n",
       "    }\n",
       "\n",
       "    .dataframe thead th {\n",
       "        text-align: right;\n",
       "    }\n",
       "</style>\n",
       "<table border=\"1\" class=\"dataframe\">\n",
       "  <thead>\n",
       "    <tr style=\"text-align: right;\">\n",
       "      <th></th>\n",
       "      <th>PatientId</th>\n",
       "      <th>AppointmentID</th>\n",
       "      <th>Age</th>\n",
       "      <th>Scholarship</th>\n",
       "      <th>Hipertension</th>\n",
       "      <th>Diabetes</th>\n",
       "      <th>Alcoholism</th>\n",
       "      <th>Handcap</th>\n",
       "      <th>SMS_received</th>\n",
       "      <th>No-show</th>\n",
       "      <th>...</th>\n",
       "      <th>DOW_S_2</th>\n",
       "      <th>DOW_S_3</th>\n",
       "      <th>DOW_S_4</th>\n",
       "      <th>DOW_S_5</th>\n",
       "      <th>DOW_A_0</th>\n",
       "      <th>DOW_A_1</th>\n",
       "      <th>DOW_A_2</th>\n",
       "      <th>DOW_A_3</th>\n",
       "      <th>DOW_A_4</th>\n",
       "      <th>DOW_A_5</th>\n",
       "    </tr>\n",
       "  </thead>\n",
       "  <tbody>\n",
       "    <tr>\n",
       "      <td>0</td>\n",
       "      <td>2.987250e+13</td>\n",
       "      <td>5642903.0</td>\n",
       "      <td>62</td>\n",
       "      <td>0</td>\n",
       "      <td>1</td>\n",
       "      <td>0</td>\n",
       "      <td>0</td>\n",
       "      <td>0</td>\n",
       "      <td>0</td>\n",
       "      <td>0</td>\n",
       "      <td>...</td>\n",
       "      <td>0</td>\n",
       "      <td>0</td>\n",
       "      <td>1</td>\n",
       "      <td>0</td>\n",
       "      <td>0</td>\n",
       "      <td>0</td>\n",
       "      <td>0</td>\n",
       "      <td>0</td>\n",
       "      <td>1</td>\n",
       "      <td>0</td>\n",
       "    </tr>\n",
       "    <tr>\n",
       "      <td>1</td>\n",
       "      <td>5.589978e+14</td>\n",
       "      <td>5642503.0</td>\n",
       "      <td>56</td>\n",
       "      <td>0</td>\n",
       "      <td>0</td>\n",
       "      <td>0</td>\n",
       "      <td>0</td>\n",
       "      <td>0</td>\n",
       "      <td>0</td>\n",
       "      <td>0</td>\n",
       "      <td>...</td>\n",
       "      <td>0</td>\n",
       "      <td>0</td>\n",
       "      <td>1</td>\n",
       "      <td>0</td>\n",
       "      <td>0</td>\n",
       "      <td>0</td>\n",
       "      <td>0</td>\n",
       "      <td>0</td>\n",
       "      <td>1</td>\n",
       "      <td>0</td>\n",
       "    </tr>\n",
       "    <tr>\n",
       "      <td>2</td>\n",
       "      <td>4.262962e+12</td>\n",
       "      <td>5642549.0</td>\n",
       "      <td>62</td>\n",
       "      <td>0</td>\n",
       "      <td>0</td>\n",
       "      <td>0</td>\n",
       "      <td>0</td>\n",
       "      <td>0</td>\n",
       "      <td>0</td>\n",
       "      <td>0</td>\n",
       "      <td>...</td>\n",
       "      <td>0</td>\n",
       "      <td>0</td>\n",
       "      <td>1</td>\n",
       "      <td>0</td>\n",
       "      <td>0</td>\n",
       "      <td>0</td>\n",
       "      <td>0</td>\n",
       "      <td>0</td>\n",
       "      <td>1</td>\n",
       "      <td>0</td>\n",
       "    </tr>\n",
       "    <tr>\n",
       "      <td>3</td>\n",
       "      <td>8.679512e+11</td>\n",
       "      <td>5642828.0</td>\n",
       "      <td>8</td>\n",
       "      <td>0</td>\n",
       "      <td>0</td>\n",
       "      <td>0</td>\n",
       "      <td>0</td>\n",
       "      <td>0</td>\n",
       "      <td>0</td>\n",
       "      <td>0</td>\n",
       "      <td>...</td>\n",
       "      <td>0</td>\n",
       "      <td>0</td>\n",
       "      <td>1</td>\n",
       "      <td>0</td>\n",
       "      <td>0</td>\n",
       "      <td>0</td>\n",
       "      <td>0</td>\n",
       "      <td>0</td>\n",
       "      <td>1</td>\n",
       "      <td>0</td>\n",
       "    </tr>\n",
       "    <tr>\n",
       "      <td>4</td>\n",
       "      <td>8.841186e+12</td>\n",
       "      <td>5642494.0</td>\n",
       "      <td>56</td>\n",
       "      <td>0</td>\n",
       "      <td>1</td>\n",
       "      <td>1</td>\n",
       "      <td>0</td>\n",
       "      <td>0</td>\n",
       "      <td>0</td>\n",
       "      <td>0</td>\n",
       "      <td>...</td>\n",
       "      <td>0</td>\n",
       "      <td>0</td>\n",
       "      <td>1</td>\n",
       "      <td>0</td>\n",
       "      <td>0</td>\n",
       "      <td>0</td>\n",
       "      <td>0</td>\n",
       "      <td>0</td>\n",
       "      <td>1</td>\n",
       "      <td>0</td>\n",
       "    </tr>\n",
       "    <tr>\n",
       "      <td>5</td>\n",
       "      <td>9.598513e+13</td>\n",
       "      <td>5626772.0</td>\n",
       "      <td>76</td>\n",
       "      <td>0</td>\n",
       "      <td>1</td>\n",
       "      <td>0</td>\n",
       "      <td>0</td>\n",
       "      <td>0</td>\n",
       "      <td>0</td>\n",
       "      <td>0</td>\n",
       "      <td>...</td>\n",
       "      <td>1</td>\n",
       "      <td>0</td>\n",
       "      <td>0</td>\n",
       "      <td>0</td>\n",
       "      <td>0</td>\n",
       "      <td>0</td>\n",
       "      <td>0</td>\n",
       "      <td>0</td>\n",
       "      <td>1</td>\n",
       "      <td>0</td>\n",
       "    </tr>\n",
       "  </tbody>\n",
       "</table>\n",
       "<p>6 rows × 41 columns</p>\n",
       "</div>"
      ],
      "text/plain": [
       "      PatientId  AppointmentID  Age  Scholarship  Hipertension  Diabetes  \\\n",
       "0  2.987250e+13      5642903.0   62            0             1         0   \n",
       "1  5.589978e+14      5642503.0   56            0             0         0   \n",
       "2  4.262962e+12      5642549.0   62            0             0         0   \n",
       "3  8.679512e+11      5642828.0    8            0             0         0   \n",
       "4  8.841186e+12      5642494.0   56            0             1         1   \n",
       "5  9.598513e+13      5626772.0   76            0             1         0   \n",
       "\n",
       "   Alcoholism  Handcap  SMS_received No-show  ...  DOW_S_2  DOW_S_3  DOW_S_4  \\\n",
       "0           0        0             0       0  ...        0        0        1   \n",
       "1           0        0             0       0  ...        0        0        1   \n",
       "2           0        0             0       0  ...        0        0        1   \n",
       "3           0        0             0       0  ...        0        0        1   \n",
       "4           0        0             0       0  ...        0        0        1   \n",
       "5           0        0             0       0  ...        1        0        0   \n",
       "\n",
       "   DOW_S_5  DOW_A_0  DOW_A_1  DOW_A_2  DOW_A_3  DOW_A_4  DOW_A_5  \n",
       "0        0        0        0        0        0        1        0  \n",
       "1        0        0        0        0        0        1        0  \n",
       "2        0        0        0        0        0        1        0  \n",
       "3        0        0        0        0        0        1        0  \n",
       "4        0        0        0        0        0        1        0  \n",
       "5        0        0        0        0        0        1        0  \n",
       "\n",
       "[6 rows x 41 columns]"
      ]
     },
     "execution_count": 122,
     "metadata": {},
     "output_type": "execute_result"
    }
   ],
   "source": [
    "b=['Gender','Neighbourhood','DOW_S','DOW_A']\n",
    "for col in b:\n",
    "    appointment_hot = pd.get_dummies(appointment_hot, columns=[col])\n",
    "appointment_hot.head(6)  "
   ]
  },
  {
   "cell_type": "code",
   "execution_count": 123,
   "metadata": {},
   "outputs": [
    {
     "data": {
      "text/plain": [
       "PatientId                        float64\n",
       "AppointmentID                    float64\n",
       "Age                                int64\n",
       "Scholarship                        int64\n",
       "Hipertension                       int64\n",
       "Diabetes                           int64\n",
       "Alcoholism                         int64\n",
       "Handcap                            int64\n",
       "SMS_received                       int64\n",
       "No-show                           object\n",
       "differenceDay                    float64\n",
       "Year_S                             int64\n",
       "Month_S                            int64\n",
       "Day_S                              int64\n",
       "Hour                               int64\n",
       "Year_A                             int64\n",
       "Month_A                            int64\n",
       "Day_A                              int64\n",
       "Gender_0                           uint8\n",
       "Gender_1                           uint8\n",
       "Neighbourhood_CENTRO               uint8\n",
       "Neighbourhood_ITARARÉ              uint8\n",
       "Neighbourhood_JARDIM CAMBURI       uint8\n",
       "Neighbourhood_JARDIM DA PENHA      uint8\n",
       "Neighbourhood_MARIA ORTIZ          uint8\n",
       "Neighbourhood_RESISTÊNCIA          uint8\n",
       "Neighbourhood_SANTA MARTHA         uint8\n",
       "Neighbourhood_TABUAZEIRO           uint8\n",
       "Neighbourhood_other                uint8\n",
       "DOW_S_0                            uint8\n",
       "DOW_S_1                            uint8\n",
       "DOW_S_2                            uint8\n",
       "DOW_S_3                            uint8\n",
       "DOW_S_4                            uint8\n",
       "DOW_S_5                            uint8\n",
       "DOW_A_0                            uint8\n",
       "DOW_A_1                            uint8\n",
       "DOW_A_2                            uint8\n",
       "DOW_A_3                            uint8\n",
       "DOW_A_4                            uint8\n",
       "DOW_A_5                            uint8\n",
       "dtype: object"
      ]
     },
     "execution_count": 123,
     "metadata": {},
     "output_type": "execute_result"
    }
   ],
   "source": [
    "appointment_hot.dtypes"
   ]
  },
  {
   "cell_type": "code",
   "execution_count": 124,
   "metadata": {},
   "outputs": [
    {
     "data": {
      "text/html": [
       "<div>\n",
       "<style scoped>\n",
       "    .dataframe tbody tr th:only-of-type {\n",
       "        vertical-align: middle;\n",
       "    }\n",
       "\n",
       "    .dataframe tbody tr th {\n",
       "        vertical-align: top;\n",
       "    }\n",
       "\n",
       "    .dataframe thead th {\n",
       "        text-align: right;\n",
       "    }\n",
       "</style>\n",
       "<table border=\"1\" class=\"dataframe\">\n",
       "  <thead>\n",
       "    <tr style=\"text-align: right;\">\n",
       "      <th></th>\n",
       "      <th>PatientId</th>\n",
       "      <th>AppointmentID</th>\n",
       "      <th>Age</th>\n",
       "      <th>Scholarship</th>\n",
       "      <th>Hipertension</th>\n",
       "      <th>Diabetes</th>\n",
       "      <th>Alcoholism</th>\n",
       "      <th>Handcap</th>\n",
       "      <th>SMS_received</th>\n",
       "      <th>No-show</th>\n",
       "      <th>...</th>\n",
       "      <th>DOW_S_2</th>\n",
       "      <th>DOW_S_3</th>\n",
       "      <th>DOW_S_4</th>\n",
       "      <th>DOW_S_5</th>\n",
       "      <th>DOW_A_0</th>\n",
       "      <th>DOW_A_1</th>\n",
       "      <th>DOW_A_2</th>\n",
       "      <th>DOW_A_3</th>\n",
       "      <th>DOW_A_4</th>\n",
       "      <th>DOW_A_5</th>\n",
       "    </tr>\n",
       "  </thead>\n",
       "  <tbody>\n",
       "    <tr>\n",
       "      <td>0</td>\n",
       "      <td>2.987250e+13</td>\n",
       "      <td>5642903.0</td>\n",
       "      <td>62</td>\n",
       "      <td>0</td>\n",
       "      <td>1</td>\n",
       "      <td>0</td>\n",
       "      <td>0</td>\n",
       "      <td>0</td>\n",
       "      <td>0</td>\n",
       "      <td>0</td>\n",
       "      <td>...</td>\n",
       "      <td>0</td>\n",
       "      <td>0</td>\n",
       "      <td>1</td>\n",
       "      <td>0</td>\n",
       "      <td>0</td>\n",
       "      <td>0</td>\n",
       "      <td>0</td>\n",
       "      <td>0</td>\n",
       "      <td>1</td>\n",
       "      <td>0</td>\n",
       "    </tr>\n",
       "    <tr>\n",
       "      <td>1</td>\n",
       "      <td>5.589978e+14</td>\n",
       "      <td>5642503.0</td>\n",
       "      <td>56</td>\n",
       "      <td>0</td>\n",
       "      <td>0</td>\n",
       "      <td>0</td>\n",
       "      <td>0</td>\n",
       "      <td>0</td>\n",
       "      <td>0</td>\n",
       "      <td>0</td>\n",
       "      <td>...</td>\n",
       "      <td>0</td>\n",
       "      <td>0</td>\n",
       "      <td>1</td>\n",
       "      <td>0</td>\n",
       "      <td>0</td>\n",
       "      <td>0</td>\n",
       "      <td>0</td>\n",
       "      <td>0</td>\n",
       "      <td>1</td>\n",
       "      <td>0</td>\n",
       "    </tr>\n",
       "    <tr>\n",
       "      <td>2</td>\n",
       "      <td>4.262962e+12</td>\n",
       "      <td>5642549.0</td>\n",
       "      <td>62</td>\n",
       "      <td>0</td>\n",
       "      <td>0</td>\n",
       "      <td>0</td>\n",
       "      <td>0</td>\n",
       "      <td>0</td>\n",
       "      <td>0</td>\n",
       "      <td>0</td>\n",
       "      <td>...</td>\n",
       "      <td>0</td>\n",
       "      <td>0</td>\n",
       "      <td>1</td>\n",
       "      <td>0</td>\n",
       "      <td>0</td>\n",
       "      <td>0</td>\n",
       "      <td>0</td>\n",
       "      <td>0</td>\n",
       "      <td>1</td>\n",
       "      <td>0</td>\n",
       "    </tr>\n",
       "    <tr>\n",
       "      <td>3</td>\n",
       "      <td>8.679512e+11</td>\n",
       "      <td>5642828.0</td>\n",
       "      <td>8</td>\n",
       "      <td>0</td>\n",
       "      <td>0</td>\n",
       "      <td>0</td>\n",
       "      <td>0</td>\n",
       "      <td>0</td>\n",
       "      <td>0</td>\n",
       "      <td>0</td>\n",
       "      <td>...</td>\n",
       "      <td>0</td>\n",
       "      <td>0</td>\n",
       "      <td>1</td>\n",
       "      <td>0</td>\n",
       "      <td>0</td>\n",
       "      <td>0</td>\n",
       "      <td>0</td>\n",
       "      <td>0</td>\n",
       "      <td>1</td>\n",
       "      <td>0</td>\n",
       "    </tr>\n",
       "    <tr>\n",
       "      <td>4</td>\n",
       "      <td>8.841186e+12</td>\n",
       "      <td>5642494.0</td>\n",
       "      <td>56</td>\n",
       "      <td>0</td>\n",
       "      <td>1</td>\n",
       "      <td>1</td>\n",
       "      <td>0</td>\n",
       "      <td>0</td>\n",
       "      <td>0</td>\n",
       "      <td>0</td>\n",
       "      <td>...</td>\n",
       "      <td>0</td>\n",
       "      <td>0</td>\n",
       "      <td>1</td>\n",
       "      <td>0</td>\n",
       "      <td>0</td>\n",
       "      <td>0</td>\n",
       "      <td>0</td>\n",
       "      <td>0</td>\n",
       "      <td>1</td>\n",
       "      <td>0</td>\n",
       "    </tr>\n",
       "    <tr>\n",
       "      <td>5</td>\n",
       "      <td>9.598513e+13</td>\n",
       "      <td>5626772.0</td>\n",
       "      <td>76</td>\n",
       "      <td>0</td>\n",
       "      <td>1</td>\n",
       "      <td>0</td>\n",
       "      <td>0</td>\n",
       "      <td>0</td>\n",
       "      <td>0</td>\n",
       "      <td>0</td>\n",
       "      <td>...</td>\n",
       "      <td>1</td>\n",
       "      <td>0</td>\n",
       "      <td>0</td>\n",
       "      <td>0</td>\n",
       "      <td>0</td>\n",
       "      <td>0</td>\n",
       "      <td>0</td>\n",
       "      <td>0</td>\n",
       "      <td>1</td>\n",
       "      <td>0</td>\n",
       "    </tr>\n",
       "    <tr>\n",
       "      <td>6</td>\n",
       "      <td>7.336882e+14</td>\n",
       "      <td>5630279.0</td>\n",
       "      <td>23</td>\n",
       "      <td>0</td>\n",
       "      <td>0</td>\n",
       "      <td>0</td>\n",
       "      <td>0</td>\n",
       "      <td>0</td>\n",
       "      <td>0</td>\n",
       "      <td>1</td>\n",
       "      <td>...</td>\n",
       "      <td>1</td>\n",
       "      <td>0</td>\n",
       "      <td>0</td>\n",
       "      <td>0</td>\n",
       "      <td>0</td>\n",
       "      <td>0</td>\n",
       "      <td>0</td>\n",
       "      <td>0</td>\n",
       "      <td>1</td>\n",
       "      <td>0</td>\n",
       "    </tr>\n",
       "    <tr>\n",
       "      <td>7</td>\n",
       "      <td>3.449833e+12</td>\n",
       "      <td>5630575.0</td>\n",
       "      <td>39</td>\n",
       "      <td>0</td>\n",
       "      <td>0</td>\n",
       "      <td>0</td>\n",
       "      <td>0</td>\n",
       "      <td>0</td>\n",
       "      <td>0</td>\n",
       "      <td>1</td>\n",
       "      <td>...</td>\n",
       "      <td>1</td>\n",
       "      <td>0</td>\n",
       "      <td>0</td>\n",
       "      <td>0</td>\n",
       "      <td>0</td>\n",
       "      <td>0</td>\n",
       "      <td>0</td>\n",
       "      <td>0</td>\n",
       "      <td>1</td>\n",
       "      <td>0</td>\n",
       "    </tr>\n",
       "    <tr>\n",
       "      <td>8</td>\n",
       "      <td>5.639473e+13</td>\n",
       "      <td>5638447.0</td>\n",
       "      <td>21</td>\n",
       "      <td>0</td>\n",
       "      <td>0</td>\n",
       "      <td>0</td>\n",
       "      <td>0</td>\n",
       "      <td>0</td>\n",
       "      <td>0</td>\n",
       "      <td>0</td>\n",
       "      <td>...</td>\n",
       "      <td>0</td>\n",
       "      <td>0</td>\n",
       "      <td>1</td>\n",
       "      <td>0</td>\n",
       "      <td>0</td>\n",
       "      <td>0</td>\n",
       "      <td>0</td>\n",
       "      <td>0</td>\n",
       "      <td>1</td>\n",
       "      <td>0</td>\n",
       "    </tr>\n",
       "    <tr>\n",
       "      <td>9</td>\n",
       "      <td>7.812456e+13</td>\n",
       "      <td>5629123.0</td>\n",
       "      <td>19</td>\n",
       "      <td>0</td>\n",
       "      <td>0</td>\n",
       "      <td>0</td>\n",
       "      <td>0</td>\n",
       "      <td>0</td>\n",
       "      <td>0</td>\n",
       "      <td>0</td>\n",
       "      <td>...</td>\n",
       "      <td>1</td>\n",
       "      <td>0</td>\n",
       "      <td>0</td>\n",
       "      <td>0</td>\n",
       "      <td>0</td>\n",
       "      <td>0</td>\n",
       "      <td>0</td>\n",
       "      <td>0</td>\n",
       "      <td>1</td>\n",
       "      <td>0</td>\n",
       "    </tr>\n",
       "  </tbody>\n",
       "</table>\n",
       "<p>10 rows × 41 columns</p>\n",
       "</div>"
      ],
      "text/plain": [
       "      PatientId  AppointmentID  Age  Scholarship  Hipertension  Diabetes  \\\n",
       "0  2.987250e+13      5642903.0   62            0             1         0   \n",
       "1  5.589978e+14      5642503.0   56            0             0         0   \n",
       "2  4.262962e+12      5642549.0   62            0             0         0   \n",
       "3  8.679512e+11      5642828.0    8            0             0         0   \n",
       "4  8.841186e+12      5642494.0   56            0             1         1   \n",
       "5  9.598513e+13      5626772.0   76            0             1         0   \n",
       "6  7.336882e+14      5630279.0   23            0             0         0   \n",
       "7  3.449833e+12      5630575.0   39            0             0         0   \n",
       "8  5.639473e+13      5638447.0   21            0             0         0   \n",
       "9  7.812456e+13      5629123.0   19            0             0         0   \n",
       "\n",
       "   Alcoholism  Handcap  SMS_received No-show  ...  DOW_S_2  DOW_S_3  DOW_S_4  \\\n",
       "0           0        0             0       0  ...        0        0        1   \n",
       "1           0        0             0       0  ...        0        0        1   \n",
       "2           0        0             0       0  ...        0        0        1   \n",
       "3           0        0             0       0  ...        0        0        1   \n",
       "4           0        0             0       0  ...        0        0        1   \n",
       "5           0        0             0       0  ...        1        0        0   \n",
       "6           0        0             0       1  ...        1        0        0   \n",
       "7           0        0             0       1  ...        1        0        0   \n",
       "8           0        0             0       0  ...        0        0        1   \n",
       "9           0        0             0       0  ...        1        0        0   \n",
       "\n",
       "   DOW_S_5  DOW_A_0  DOW_A_1  DOW_A_2  DOW_A_3  DOW_A_4  DOW_A_5  \n",
       "0        0        0        0        0        0        1        0  \n",
       "1        0        0        0        0        0        1        0  \n",
       "2        0        0        0        0        0        1        0  \n",
       "3        0        0        0        0        0        1        0  \n",
       "4        0        0        0        0        0        1        0  \n",
       "5        0        0        0        0        0        1        0  \n",
       "6        0        0        0        0        0        1        0  \n",
       "7        0        0        0        0        0        1        0  \n",
       "8        0        0        0        0        0        1        0  \n",
       "9        0        0        0        0        0        1        0  \n",
       "\n",
       "[10 rows x 41 columns]"
      ]
     },
     "execution_count": 124,
     "metadata": {},
     "output_type": "execute_result"
    }
   ],
   "source": [
    "appointment_hot.head(10)"
   ]
  },
  {
   "cell_type": "markdown",
   "metadata": {},
   "source": [
    "### split into train and test "
   ]
  },
  {
   "cell_type": "code",
   "execution_count": 125,
   "metadata": {},
   "outputs": [],
   "source": [
    "X1=appointment_hot.loc[:, appointment_hot.columns != 'No-show']\n",
    "y=appointment_hot['No-show']\n",
    "\n",
    "from sklearn.model_selection import train_test_split\n",
    "\n",
    "\n",
    "X_train, X_test, y_train, y_test = train_test_split(\n",
    "X1, y, test_size=0.2, random_state=11)"
   ]
  },
  {
   "cell_type": "code",
   "execution_count": 126,
   "metadata": {},
   "outputs": [
    {
     "data": {
      "text/plain": [
       "PatientId                        float64\n",
       "AppointmentID                    float64\n",
       "Age                                int64\n",
       "Scholarship                        int64\n",
       "Hipertension                       int64\n",
       "Diabetes                           int64\n",
       "Alcoholism                         int64\n",
       "Handcap                            int64\n",
       "SMS_received                       int64\n",
       "differenceDay                    float64\n",
       "Year_S                             int64\n",
       "Month_S                            int64\n",
       "Day_S                              int64\n",
       "Hour                               int64\n",
       "Year_A                             int64\n",
       "Month_A                            int64\n",
       "Day_A                              int64\n",
       "Gender_0                           uint8\n",
       "Gender_1                           uint8\n",
       "Neighbourhood_CENTRO               uint8\n",
       "Neighbourhood_ITARARÉ              uint8\n",
       "Neighbourhood_JARDIM CAMBURI       uint8\n",
       "Neighbourhood_JARDIM DA PENHA      uint8\n",
       "Neighbourhood_MARIA ORTIZ          uint8\n",
       "Neighbourhood_RESISTÊNCIA          uint8\n",
       "Neighbourhood_SANTA MARTHA         uint8\n",
       "Neighbourhood_TABUAZEIRO           uint8\n",
       "Neighbourhood_other                uint8\n",
       "DOW_S_0                            uint8\n",
       "DOW_S_1                            uint8\n",
       "DOW_S_2                            uint8\n",
       "DOW_S_3                            uint8\n",
       "DOW_S_4                            uint8\n",
       "DOW_S_5                            uint8\n",
       "DOW_A_0                            uint8\n",
       "DOW_A_1                            uint8\n",
       "DOW_A_2                            uint8\n",
       "DOW_A_3                            uint8\n",
       "DOW_A_4                            uint8\n",
       "DOW_A_5                            uint8\n",
       "dtype: object"
      ]
     },
     "execution_count": 126,
     "metadata": {},
     "output_type": "execute_result"
    }
   ],
   "source": [
    "X1.dtypes"
   ]
  },
  {
   "cell_type": "code",
   "execution_count": 127,
   "metadata": {},
   "outputs": [
    {
     "data": {
      "text/plain": [
       "PatientId                        float64\n",
       "AppointmentID                    float64\n",
       "Age                                int64\n",
       "Scholarship                        int64\n",
       "Hipertension                       int64\n",
       "Diabetes                           int64\n",
       "Alcoholism                         int64\n",
       "Handcap                            int64\n",
       "SMS_received                       int64\n",
       "differenceDay                    float64\n",
       "Year_S                             int64\n",
       "Month_S                            int64\n",
       "Day_S                              int64\n",
       "Hour                               int64\n",
       "Year_A                             int64\n",
       "Month_A                            int64\n",
       "Day_A                              int64\n",
       "Gender_0                           uint8\n",
       "Gender_1                           uint8\n",
       "Neighbourhood_CENTRO               uint8\n",
       "Neighbourhood_ITARARÉ              uint8\n",
       "Neighbourhood_JARDIM CAMBURI       uint8\n",
       "Neighbourhood_JARDIM DA PENHA      uint8\n",
       "Neighbourhood_MARIA ORTIZ          uint8\n",
       "Neighbourhood_RESISTÊNCIA          uint8\n",
       "Neighbourhood_SANTA MARTHA         uint8\n",
       "Neighbourhood_TABUAZEIRO           uint8\n",
       "Neighbourhood_other                uint8\n",
       "DOW_S_0                            uint8\n",
       "DOW_S_1                            uint8\n",
       "DOW_S_2                            uint8\n",
       "DOW_S_3                            uint8\n",
       "DOW_S_4                            uint8\n",
       "DOW_S_5                            uint8\n",
       "DOW_A_0                            uint8\n",
       "DOW_A_1                            uint8\n",
       "DOW_A_2                            uint8\n",
       "DOW_A_3                            uint8\n",
       "DOW_A_4                            uint8\n",
       "DOW_A_5                            uint8\n",
       "dtype: object"
      ]
     },
     "execution_count": 127,
     "metadata": {},
     "output_type": "execute_result"
    }
   ],
   "source": [
    "X_train.dtypes"
   ]
  },
  {
   "cell_type": "markdown",
   "metadata": {},
   "source": [
    "### Creation of a balance Xtrain, Y train from bootsraping for prediction \n"
   ]
  },
  {
   "cell_type": "code",
   "execution_count": 128,
   "metadata": {},
   "outputs": [],
   "source": [
    "X2= X_train.copy(deep=True)\n",
    "X2[\"No-show\"]=y_train.copy(deep=True)"
   ]
  },
  {
   "cell_type": "code",
   "execution_count": 129,
   "metadata": {},
   "outputs": [
    {
     "data": {
      "text/html": [
       "<div>\n",
       "<style scoped>\n",
       "    .dataframe tbody tr th:only-of-type {\n",
       "        vertical-align: middle;\n",
       "    }\n",
       "\n",
       "    .dataframe tbody tr th {\n",
       "        vertical-align: top;\n",
       "    }\n",
       "\n",
       "    .dataframe thead th {\n",
       "        text-align: right;\n",
       "    }\n",
       "</style>\n",
       "<table border=\"1\" class=\"dataframe\">\n",
       "  <thead>\n",
       "    <tr style=\"text-align: right;\">\n",
       "      <th></th>\n",
       "      <th>PatientId</th>\n",
       "      <th>AppointmentID</th>\n",
       "      <th>Age</th>\n",
       "      <th>Scholarship</th>\n",
       "      <th>Hipertension</th>\n",
       "      <th>Diabetes</th>\n",
       "      <th>Alcoholism</th>\n",
       "      <th>Handcap</th>\n",
       "      <th>SMS_received</th>\n",
       "      <th>differenceDay</th>\n",
       "      <th>...</th>\n",
       "      <th>DOW_S_3</th>\n",
       "      <th>DOW_S_4</th>\n",
       "      <th>DOW_S_5</th>\n",
       "      <th>DOW_A_0</th>\n",
       "      <th>DOW_A_1</th>\n",
       "      <th>DOW_A_2</th>\n",
       "      <th>DOW_A_3</th>\n",
       "      <th>DOW_A_4</th>\n",
       "      <th>DOW_A_5</th>\n",
       "      <th>No-show</th>\n",
       "    </tr>\n",
       "  </thead>\n",
       "  <tbody>\n",
       "    <tr>\n",
       "      <td>65804</td>\n",
       "      <td>4.684362e+14</td>\n",
       "      <td>5667828.0</td>\n",
       "      <td>1</td>\n",
       "      <td>0</td>\n",
       "      <td>0</td>\n",
       "      <td>0</td>\n",
       "      <td>0</td>\n",
       "      <td>0</td>\n",
       "      <td>0</td>\n",
       "      <td>8.165000</td>\n",
       "      <td>...</td>\n",
       "      <td>0</td>\n",
       "      <td>1</td>\n",
       "      <td>0</td>\n",
       "      <td>0</td>\n",
       "      <td>0</td>\n",
       "      <td>0</td>\n",
       "      <td>0</td>\n",
       "      <td>1</td>\n",
       "      <td>0</td>\n",
       "      <td>0</td>\n",
       "    </tr>\n",
       "    <tr>\n",
       "      <td>38855</td>\n",
       "      <td>7.222263e+11</td>\n",
       "      <td>5543382.0</td>\n",
       "      <td>49</td>\n",
       "      <td>0</td>\n",
       "      <td>0</td>\n",
       "      <td>0</td>\n",
       "      <td>1</td>\n",
       "      <td>0</td>\n",
       "      <td>1</td>\n",
       "      <td>685.914167</td>\n",
       "      <td>...</td>\n",
       "      <td>0</td>\n",
       "      <td>0</td>\n",
       "      <td>0</td>\n",
       "      <td>0</td>\n",
       "      <td>0</td>\n",
       "      <td>1</td>\n",
       "      <td>0</td>\n",
       "      <td>0</td>\n",
       "      <td>0</td>\n",
       "      <td>0</td>\n",
       "    </tr>\n",
       "    <tr>\n",
       "      <td>8434</td>\n",
       "      <td>2.688613e+13</td>\n",
       "      <td>5738866.0</td>\n",
       "      <td>63</td>\n",
       "      <td>0</td>\n",
       "      <td>0</td>\n",
       "      <td>0</td>\n",
       "      <td>1</td>\n",
       "      <td>0</td>\n",
       "      <td>0</td>\n",
       "      <td>11.800833</td>\n",
       "      <td>...</td>\n",
       "      <td>0</td>\n",
       "      <td>0</td>\n",
       "      <td>0</td>\n",
       "      <td>0</td>\n",
       "      <td>0</td>\n",
       "      <td>1</td>\n",
       "      <td>0</td>\n",
       "      <td>0</td>\n",
       "      <td>0</td>\n",
       "      <td>0</td>\n",
       "    </tr>\n",
       "    <tr>\n",
       "      <td>8837</td>\n",
       "      <td>8.121397e+13</td>\n",
       "      <td>5723661.0</td>\n",
       "      <td>48</td>\n",
       "      <td>0</td>\n",
       "      <td>0</td>\n",
       "      <td>0</td>\n",
       "      <td>0</td>\n",
       "      <td>0</td>\n",
       "      <td>0</td>\n",
       "      <td>8.482500</td>\n",
       "      <td>...</td>\n",
       "      <td>0</td>\n",
       "      <td>1</td>\n",
       "      <td>0</td>\n",
       "      <td>0</td>\n",
       "      <td>0</td>\n",
       "      <td>0</td>\n",
       "      <td>0</td>\n",
       "      <td>1</td>\n",
       "      <td>0</td>\n",
       "      <td>0</td>\n",
       "    </tr>\n",
       "    <tr>\n",
       "      <td>60571</td>\n",
       "      <td>2.224798e+12</td>\n",
       "      <td>5617054.0</td>\n",
       "      <td>45</td>\n",
       "      <td>0</td>\n",
       "      <td>1</td>\n",
       "      <td>0</td>\n",
       "      <td>0</td>\n",
       "      <td>0</td>\n",
       "      <td>1</td>\n",
       "      <td>368.680556</td>\n",
       "      <td>...</td>\n",
       "      <td>0</td>\n",
       "      <td>0</td>\n",
       "      <td>0</td>\n",
       "      <td>0</td>\n",
       "      <td>0</td>\n",
       "      <td>1</td>\n",
       "      <td>0</td>\n",
       "      <td>0</td>\n",
       "      <td>0</td>\n",
       "      <td>0</td>\n",
       "    </tr>\n",
       "  </tbody>\n",
       "</table>\n",
       "<p>5 rows × 41 columns</p>\n",
       "</div>"
      ],
      "text/plain": [
       "          PatientId  AppointmentID  Age  Scholarship  Hipertension  Diabetes  \\\n",
       "65804  4.684362e+14      5667828.0    1            0             0         0   \n",
       "38855  7.222263e+11      5543382.0   49            0             0         0   \n",
       "8434   2.688613e+13      5738866.0   63            0             0         0   \n",
       "8837   8.121397e+13      5723661.0   48            0             0         0   \n",
       "60571  2.224798e+12      5617054.0   45            0             1         0   \n",
       "\n",
       "       Alcoholism  Handcap  SMS_received  differenceDay  ...  DOW_S_3  \\\n",
       "65804           0        0             0       8.165000  ...        0   \n",
       "38855           1        0             1     685.914167  ...        0   \n",
       "8434            1        0             0      11.800833  ...        0   \n",
       "8837            0        0             0       8.482500  ...        0   \n",
       "60571           0        0             1     368.680556  ...        0   \n",
       "\n",
       "       DOW_S_4  DOW_S_5  DOW_A_0  DOW_A_1  DOW_A_2  DOW_A_3  DOW_A_4  DOW_A_5  \\\n",
       "65804        1        0        0        0        0        0        1        0   \n",
       "38855        0        0        0        0        1        0        0        0   \n",
       "8434         0        0        0        0        1        0        0        0   \n",
       "8837         1        0        0        0        0        0        1        0   \n",
       "60571        0        0        0        0        1        0        0        0   \n",
       "\n",
       "       No-show  \n",
       "65804        0  \n",
       "38855        0  \n",
       "8434         0  \n",
       "8837         0  \n",
       "60571        0  \n",
       "\n",
       "[5 rows x 41 columns]"
      ]
     },
     "execution_count": 129,
     "metadata": {},
     "output_type": "execute_result"
    }
   ],
   "source": [
    "X2.head()"
   ]
  },
  {
   "cell_type": "code",
   "execution_count": 130,
   "metadata": {},
   "outputs": [
    {
     "data": {
      "text/plain": [
       "<matplotlib.axes._subplots.AxesSubplot at 0x1a1895cc90>"
      ]
     },
     "execution_count": 130,
     "metadata": {},
     "output_type": "execute_result"
    },
    {
     "data": {
      "image/png": "[encoded data removed]",
      "text/plain": [
       "<Figure size 432x288 with 1 Axes>"
      ]
     },
     "metadata": {},
     "output_type": "display_data"
    }
   ],
   "source": [
    "import matplotlib as plt\n",
    "X2['No-show'].value_counts().plot(kind='pie')\n"
   ]
  },
  {
   "cell_type": "code",
   "execution_count": 131,
   "metadata": {},
   "outputs": [
    {
     "data": {
      "text/plain": [
       "0    70480\n",
       "1    17941\n",
       "Name: No-show, dtype: int64"
      ]
     },
     "execution_count": 131,
     "metadata": {},
     "output_type": "execute_result"
    }
   ],
   "source": [
    "# Class count\n",
    "X2['No-show'].value_counts()"
   ]
  },
  {
   "cell_type": "markdown",
   "metadata": {},
   "source": [
    " We would like to do a balanced data of 30 000 of each class using bootstrap "
   ]
  },
  {
   "cell_type": "code",
   "execution_count": 132,
   "metadata": {},
   "outputs": [],
   "source": [
    "\n",
    "# Divide by class\n",
    "X2_0 = X2[X2['No-show'] == '0']\n",
    "X2_1 = X2[X2['No-show'] == '1']\n"
   ]
  },
  {
   "cell_type": "code",
   "execution_count": 133,
   "metadata": {},
   "outputs": [],
   "source": [
    "# Bootstrap\n",
    "N=30000\n",
    "X2_0_boot = X2_0.sample(n=N, replace=True)\n",
    "X2_1_boot = X2_1.sample(n=N, replace=True)\n",
    "X2_boot = pd.concat([X2_0_boot, X2_1_boot], axis=0)"
   ]
  },
  {
   "cell_type": "code",
   "execution_count": 134,
   "metadata": {},
   "outputs": [
    {
     "data": {
      "text/plain": [
       "1    30000\n",
       "0    30000\n",
       "Name: No-show, dtype: int64"
      ]
     },
     "execution_count": 134,
     "metadata": {},
     "output_type": "execute_result"
    }
   ],
   "source": [
    "X2_boot['No-show'].value_counts()"
   ]
  },
  {
   "cell_type": "code",
   "execution_count": 135,
   "metadata": {},
   "outputs": [
    {
     "data": {
      "text/html": [
       "<div>\n",
       "<style scoped>\n",
       "    .dataframe tbody tr th:only-of-type {\n",
       "        vertical-align: middle;\n",
       "    }\n",
       "\n",
       "    .dataframe tbody tr th {\n",
       "        vertical-align: top;\n",
       "    }\n",
       "\n",
       "    .dataframe thead th {\n",
       "        text-align: right;\n",
       "    }\n",
       "</style>\n",
       "<table border=\"1\" class=\"dataframe\">\n",
       "  <thead>\n",
       "    <tr style=\"text-align: right;\">\n",
       "      <th></th>\n",
       "      <th>PatientId</th>\n",
       "      <th>AppointmentID</th>\n",
       "      <th>Age</th>\n",
       "      <th>Scholarship</th>\n",
       "      <th>Hipertension</th>\n",
       "      <th>Diabetes</th>\n",
       "      <th>Alcoholism</th>\n",
       "      <th>Handcap</th>\n",
       "      <th>SMS_received</th>\n",
       "      <th>differenceDay</th>\n",
       "      <th>...</th>\n",
       "      <th>DOW_S_3</th>\n",
       "      <th>DOW_S_4</th>\n",
       "      <th>DOW_S_5</th>\n",
       "      <th>DOW_A_0</th>\n",
       "      <th>DOW_A_1</th>\n",
       "      <th>DOW_A_2</th>\n",
       "      <th>DOW_A_3</th>\n",
       "      <th>DOW_A_4</th>\n",
       "      <th>DOW_A_5</th>\n",
       "      <th>No-show</th>\n",
       "    </tr>\n",
       "  </thead>\n",
       "  <tbody>\n",
       "    <tr>\n",
       "      <td>105768</td>\n",
       "      <td>6.967498e+10</td>\n",
       "      <td>5659028.0</td>\n",
       "      <td>4</td>\n",
       "      <td>0</td>\n",
       "      <td>0</td>\n",
       "      <td>0</td>\n",
       "      <td>0</td>\n",
       "      <td>0</td>\n",
       "      <td>1</td>\n",
       "      <td>803.018056</td>\n",
       "      <td>...</td>\n",
       "      <td>0</td>\n",
       "      <td>0</td>\n",
       "      <td>0</td>\n",
       "      <td>0</td>\n",
       "      <td>1</td>\n",
       "      <td>0</td>\n",
       "      <td>0</td>\n",
       "      <td>0</td>\n",
       "      <td>0</td>\n",
       "      <td>0</td>\n",
       "    </tr>\n",
       "    <tr>\n",
       "      <td>3649</td>\n",
       "      <td>8.343894e+11</td>\n",
       "      <td>5533039.0</td>\n",
       "      <td>19</td>\n",
       "      <td>0</td>\n",
       "      <td>0</td>\n",
       "      <td>0</td>\n",
       "      <td>0</td>\n",
       "      <td>0</td>\n",
       "      <td>1</td>\n",
       "      <td>802.777500</td>\n",
       "      <td>...</td>\n",
       "      <td>1</td>\n",
       "      <td>0</td>\n",
       "      <td>0</td>\n",
       "      <td>0</td>\n",
       "      <td>0</td>\n",
       "      <td>1</td>\n",
       "      <td>0</td>\n",
       "      <td>0</td>\n",
       "      <td>0</td>\n",
       "      <td>0</td>\n",
       "    </tr>\n",
       "    <tr>\n",
       "      <td>67475</td>\n",
       "      <td>3.627767e+13</td>\n",
       "      <td>5426777.0</td>\n",
       "      <td>21</td>\n",
       "      <td>0</td>\n",
       "      <td>0</td>\n",
       "      <td>0</td>\n",
       "      <td>0</td>\n",
       "      <td>0</td>\n",
       "      <td>0</td>\n",
       "      <td>1690.834722</td>\n",
       "      <td>...</td>\n",
       "      <td>1</td>\n",
       "      <td>0</td>\n",
       "      <td>0</td>\n",
       "      <td>0</td>\n",
       "      <td>0</td>\n",
       "      <td>0</td>\n",
       "      <td>0</td>\n",
       "      <td>1</td>\n",
       "      <td>0</td>\n",
       "      <td>0</td>\n",
       "    </tr>\n",
       "    <tr>\n",
       "      <td>12595</td>\n",
       "      <td>6.481714e+14</td>\n",
       "      <td>5741831.0</td>\n",
       "      <td>3</td>\n",
       "      <td>0</td>\n",
       "      <td>0</td>\n",
       "      <td>0</td>\n",
       "      <td>0</td>\n",
       "      <td>0</td>\n",
       "      <td>0</td>\n",
       "      <td>7.478611</td>\n",
       "      <td>...</td>\n",
       "      <td>0</td>\n",
       "      <td>0</td>\n",
       "      <td>0</td>\n",
       "      <td>1</td>\n",
       "      <td>0</td>\n",
       "      <td>0</td>\n",
       "      <td>0</td>\n",
       "      <td>0</td>\n",
       "      <td>0</td>\n",
       "      <td>0</td>\n",
       "    </tr>\n",
       "    <tr>\n",
       "      <td>37409</td>\n",
       "      <td>1.799662e+13</td>\n",
       "      <td>5637864.0</td>\n",
       "      <td>9</td>\n",
       "      <td>0</td>\n",
       "      <td>0</td>\n",
       "      <td>0</td>\n",
       "      <td>0</td>\n",
       "      <td>0</td>\n",
       "      <td>1</td>\n",
       "      <td>160.542222</td>\n",
       "      <td>...</td>\n",
       "      <td>0</td>\n",
       "      <td>1</td>\n",
       "      <td>0</td>\n",
       "      <td>0</td>\n",
       "      <td>0</td>\n",
       "      <td>0</td>\n",
       "      <td>0</td>\n",
       "      <td>1</td>\n",
       "      <td>0</td>\n",
       "      <td>0</td>\n",
       "    </tr>\n",
       "  </tbody>\n",
       "</table>\n",
       "<p>5 rows × 41 columns</p>\n",
       "</div>"
      ],
      "text/plain": [
       "           PatientId  AppointmentID  Age  Scholarship  Hipertension  Diabetes  \\\n",
       "105768  6.967498e+10      5659028.0    4            0             0         0   \n",
       "3649    8.343894e+11      5533039.0   19            0             0         0   \n",
       "67475   3.627767e+13      5426777.0   21            0             0         0   \n",
       "12595   6.481714e+14      5741831.0    3            0             0         0   \n",
       "37409   1.799662e+13      5637864.0    9            0             0         0   \n",
       "\n",
       "        Alcoholism  Handcap  SMS_received  differenceDay  ...  DOW_S_3  \\\n",
       "105768           0        0             1     803.018056  ...        0   \n",
       "3649             0        0             1     802.777500  ...        1   \n",
       "67475            0        0             0    1690.834722  ...        1   \n",
       "12595            0        0             0       7.478611  ...        0   \n",
       "37409            0        0             1     160.542222  ...        0   \n",
       "\n",
       "        DOW_S_4  DOW_S_5  DOW_A_0  DOW_A_1  DOW_A_2  DOW_A_3  DOW_A_4  \\\n",
       "105768        0        0        0        1        0        0        0   \n",
       "3649          0        0        0        0        1        0        0   \n",
       "67475         0        0        0        0        0        0        1   \n",
       "12595         0        0        1        0        0        0        0   \n",
       "37409         1        0        0        0        0        0        1   \n",
       "\n",
       "        DOW_A_5  No-show  \n",
       "105768        0        0  \n",
       "3649          0        0  \n",
       "67475         0        0  \n",
       "12595         0        0  \n",
       "37409         0        0  \n",
       "\n",
       "[5 rows x 41 columns]"
      ]
     },
     "execution_count": 135,
     "metadata": {},
     "output_type": "execute_result"
    }
   ],
   "source": [
    "X2_boot.head(5)"
   ]
  },
  {
   "cell_type": "code",
   "execution_count": 136,
   "metadata": {},
   "outputs": [
    {
     "data": {
      "text/html": [
       "<div>\n",
       "<style scoped>\n",
       "    .dataframe tbody tr th:only-of-type {\n",
       "        vertical-align: middle;\n",
       "    }\n",
       "\n",
       "    .dataframe tbody tr th {\n",
       "        vertical-align: top;\n",
       "    }\n",
       "\n",
       "    .dataframe thead th {\n",
       "        text-align: right;\n",
       "    }\n",
       "</style>\n",
       "<table border=\"1\" class=\"dataframe\">\n",
       "  <thead>\n",
       "    <tr style=\"text-align: right;\">\n",
       "      <th></th>\n",
       "      <th>PatientId</th>\n",
       "      <th>AppointmentID</th>\n",
       "      <th>Age</th>\n",
       "      <th>Scholarship</th>\n",
       "      <th>Hipertension</th>\n",
       "      <th>Diabetes</th>\n",
       "      <th>Alcoholism</th>\n",
       "      <th>Handcap</th>\n",
       "      <th>SMS_received</th>\n",
       "      <th>differenceDay</th>\n",
       "      <th>...</th>\n",
       "      <th>DOW_S_3</th>\n",
       "      <th>DOW_S_4</th>\n",
       "      <th>DOW_S_5</th>\n",
       "      <th>DOW_A_0</th>\n",
       "      <th>DOW_A_1</th>\n",
       "      <th>DOW_A_2</th>\n",
       "      <th>DOW_A_3</th>\n",
       "      <th>DOW_A_4</th>\n",
       "      <th>DOW_A_5</th>\n",
       "      <th>No-show</th>\n",
       "    </tr>\n",
       "  </thead>\n",
       "  <tbody>\n",
       "    <tr>\n",
       "      <td>56108</td>\n",
       "      <td>7.177345e+14</td>\n",
       "      <td>5668289.0</td>\n",
       "      <td>9</td>\n",
       "      <td>0</td>\n",
       "      <td>0</td>\n",
       "      <td>0</td>\n",
       "      <td>0</td>\n",
       "      <td>0</td>\n",
       "      <td>0</td>\n",
       "      <td>63.189167</td>\n",
       "      <td>...</td>\n",
       "      <td>0</td>\n",
       "      <td>1</td>\n",
       "      <td>0</td>\n",
       "      <td>1</td>\n",
       "      <td>0</td>\n",
       "      <td>0</td>\n",
       "      <td>0</td>\n",
       "      <td>0</td>\n",
       "      <td>0</td>\n",
       "      <td>1</td>\n",
       "    </tr>\n",
       "    <tr>\n",
       "      <td>38009</td>\n",
       "      <td>3.679249e+14</td>\n",
       "      <td>5573206.0</td>\n",
       "      <td>29</td>\n",
       "      <td>0</td>\n",
       "      <td>0</td>\n",
       "      <td>0</td>\n",
       "      <td>0</td>\n",
       "      <td>0</td>\n",
       "      <td>1</td>\n",
       "      <td>683.862500</td>\n",
       "      <td>...</td>\n",
       "      <td>0</td>\n",
       "      <td>0</td>\n",
       "      <td>0</td>\n",
       "      <td>0</td>\n",
       "      <td>0</td>\n",
       "      <td>1</td>\n",
       "      <td>0</td>\n",
       "      <td>0</td>\n",
       "      <td>0</td>\n",
       "      <td>1</td>\n",
       "    </tr>\n",
       "    <tr>\n",
       "      <td>57270</td>\n",
       "      <td>9.488281e+12</td>\n",
       "      <td>5679475.0</td>\n",
       "      <td>18</td>\n",
       "      <td>0</td>\n",
       "      <td>0</td>\n",
       "      <td>0</td>\n",
       "      <td>0</td>\n",
       "      <td>0</td>\n",
       "      <td>0</td>\n",
       "      <td>14.012222</td>\n",
       "      <td>...</td>\n",
       "      <td>0</td>\n",
       "      <td>0</td>\n",
       "      <td>0</td>\n",
       "      <td>0</td>\n",
       "      <td>0</td>\n",
       "      <td>1</td>\n",
       "      <td>0</td>\n",
       "      <td>0</td>\n",
       "      <td>0</td>\n",
       "      <td>1</td>\n",
       "    </tr>\n",
       "    <tr>\n",
       "      <td>30901</td>\n",
       "      <td>1.938522e+12</td>\n",
       "      <td>5690528.0</td>\n",
       "      <td>28</td>\n",
       "      <td>0</td>\n",
       "      <td>0</td>\n",
       "      <td>0</td>\n",
       "      <td>0</td>\n",
       "      <td>0</td>\n",
       "      <td>1</td>\n",
       "      <td>445.816944</td>\n",
       "      <td>...</td>\n",
       "      <td>1</td>\n",
       "      <td>0</td>\n",
       "      <td>0</td>\n",
       "      <td>0</td>\n",
       "      <td>1</td>\n",
       "      <td>0</td>\n",
       "      <td>0</td>\n",
       "      <td>0</td>\n",
       "      <td>0</td>\n",
       "      <td>0</td>\n",
       "    </tr>\n",
       "    <tr>\n",
       "      <td>24007</td>\n",
       "      <td>2.994883e+11</td>\n",
       "      <td>5545086.0</td>\n",
       "      <td>21</td>\n",
       "      <td>1</td>\n",
       "      <td>0</td>\n",
       "      <td>0</td>\n",
       "      <td>0</td>\n",
       "      <td>0</td>\n",
       "      <td>1</td>\n",
       "      <td>826.563611</td>\n",
       "      <td>...</td>\n",
       "      <td>0</td>\n",
       "      <td>0</td>\n",
       "      <td>0</td>\n",
       "      <td>0</td>\n",
       "      <td>1</td>\n",
       "      <td>0</td>\n",
       "      <td>0</td>\n",
       "      <td>0</td>\n",
       "      <td>0</td>\n",
       "      <td>0</td>\n",
       "    </tr>\n",
       "  </tbody>\n",
       "</table>\n",
       "<p>5 rows × 41 columns</p>\n",
       "</div>"
      ],
      "text/plain": [
       "          PatientId  AppointmentID  Age  Scholarship  Hipertension  Diabetes  \\\n",
       "56108  7.177345e+14      5668289.0    9            0             0         0   \n",
       "38009  3.679249e+14      5573206.0   29            0             0         0   \n",
       "57270  9.488281e+12      5679475.0   18            0             0         0   \n",
       "30901  1.938522e+12      5690528.0   28            0             0         0   \n",
       "24007  2.994883e+11      5545086.0   21            1             0         0   \n",
       "\n",
       "       Alcoholism  Handcap  SMS_received  differenceDay  ...  DOW_S_3  \\\n",
       "56108           0        0             0      63.189167  ...        0   \n",
       "38009           0        0             1     683.862500  ...        0   \n",
       "57270           0        0             0      14.012222  ...        0   \n",
       "30901           0        0             1     445.816944  ...        1   \n",
       "24007           0        0             1     826.563611  ...        0   \n",
       "\n",
       "       DOW_S_4  DOW_S_5  DOW_A_0  DOW_A_1  DOW_A_2  DOW_A_3  DOW_A_4  DOW_A_5  \\\n",
       "56108        1        0        1        0        0        0        0        0   \n",
       "38009        0        0        0        0        1        0        0        0   \n",
       "57270        0        0        0        0        1        0        0        0   \n",
       "30901        0        0        0        1        0        0        0        0   \n",
       "24007        0        0        0        1        0        0        0        0   \n",
       "\n",
       "       No-show  \n",
       "56108        1  \n",
       "38009        1  \n",
       "57270        1  \n",
       "30901        0  \n",
       "24007        0  \n",
       "\n",
       "[5 rows x 41 columns]"
      ]
     },
     "execution_count": 136,
     "metadata": {},
     "output_type": "execute_result"
    }
   ],
   "source": [
    "# we just gonna change the order maybe do some one hot enco, also need the descriptive stats \n",
    "from sklearn.utils import shuffle\n",
    "X2_boot = shuffle(X2_boot)\n",
    "X2_boot.head(5)"
   ]
  },
  {
   "cell_type": "code",
   "execution_count": null,
   "metadata": {},
   "outputs": [],
   "source": []
  },
  {
   "cell_type": "code",
   "execution_count": 137,
   "metadata": {},
   "outputs": [],
   "source": [
    "X_train_b =X2_boot.loc[:, X2_boot.columns != 'No-show']\n",
    "#X_train_b =X_train_b.loc[:, appointment_hot.columns != 'No-show']\n",
    "y_train_b=X2_boot['No-show']"
   ]
  },
  {
   "cell_type": "code",
   "execution_count": 138,
   "metadata": {},
   "outputs": [
    {
     "data": {
      "text/html": [
       "<div>\n",
       "<style scoped>\n",
       "    .dataframe tbody tr th:only-of-type {\n",
       "        vertical-align: middle;\n",
       "    }\n",
       "\n",
       "    .dataframe tbody tr th {\n",
       "        vertical-align: top;\n",
       "    }\n",
       "\n",
       "    .dataframe thead th {\n",
       "        text-align: right;\n",
       "    }\n",
       "</style>\n",
       "<table border=\"1\" class=\"dataframe\">\n",
       "  <thead>\n",
       "    <tr style=\"text-align: right;\">\n",
       "      <th></th>\n",
       "      <th>PatientId</th>\n",
       "      <th>AppointmentID</th>\n",
       "      <th>Age</th>\n",
       "      <th>Scholarship</th>\n",
       "      <th>Hipertension</th>\n",
       "      <th>Diabetes</th>\n",
       "      <th>Alcoholism</th>\n",
       "      <th>Handcap</th>\n",
       "      <th>SMS_received</th>\n",
       "      <th>differenceDay</th>\n",
       "      <th>...</th>\n",
       "      <th>DOW_S_2</th>\n",
       "      <th>DOW_S_3</th>\n",
       "      <th>DOW_S_4</th>\n",
       "      <th>DOW_S_5</th>\n",
       "      <th>DOW_A_0</th>\n",
       "      <th>DOW_A_1</th>\n",
       "      <th>DOW_A_2</th>\n",
       "      <th>DOW_A_3</th>\n",
       "      <th>DOW_A_4</th>\n",
       "      <th>DOW_A_5</th>\n",
       "    </tr>\n",
       "  </thead>\n",
       "  <tbody>\n",
       "    <tr>\n",
       "      <td>56108</td>\n",
       "      <td>7.177345e+14</td>\n",
       "      <td>5668289.0</td>\n",
       "      <td>9</td>\n",
       "      <td>0</td>\n",
       "      <td>0</td>\n",
       "      <td>0</td>\n",
       "      <td>0</td>\n",
       "      <td>0</td>\n",
       "      <td>0</td>\n",
       "      <td>63.189167</td>\n",
       "      <td>...</td>\n",
       "      <td>0</td>\n",
       "      <td>0</td>\n",
       "      <td>1</td>\n",
       "      <td>0</td>\n",
       "      <td>1</td>\n",
       "      <td>0</td>\n",
       "      <td>0</td>\n",
       "      <td>0</td>\n",
       "      <td>0</td>\n",
       "      <td>0</td>\n",
       "    </tr>\n",
       "    <tr>\n",
       "      <td>38009</td>\n",
       "      <td>3.679249e+14</td>\n",
       "      <td>5573206.0</td>\n",
       "      <td>29</td>\n",
       "      <td>0</td>\n",
       "      <td>0</td>\n",
       "      <td>0</td>\n",
       "      <td>0</td>\n",
       "      <td>0</td>\n",
       "      <td>1</td>\n",
       "      <td>683.862500</td>\n",
       "      <td>...</td>\n",
       "      <td>0</td>\n",
       "      <td>0</td>\n",
       "      <td>0</td>\n",
       "      <td>0</td>\n",
       "      <td>0</td>\n",
       "      <td>0</td>\n",
       "      <td>1</td>\n",
       "      <td>0</td>\n",
       "      <td>0</td>\n",
       "      <td>0</td>\n",
       "    </tr>\n",
       "    <tr>\n",
       "      <td>57270</td>\n",
       "      <td>9.488281e+12</td>\n",
       "      <td>5679475.0</td>\n",
       "      <td>18</td>\n",
       "      <td>0</td>\n",
       "      <td>0</td>\n",
       "      <td>0</td>\n",
       "      <td>0</td>\n",
       "      <td>0</td>\n",
       "      <td>0</td>\n",
       "      <td>14.012222</td>\n",
       "      <td>...</td>\n",
       "      <td>0</td>\n",
       "      <td>0</td>\n",
       "      <td>0</td>\n",
       "      <td>0</td>\n",
       "      <td>0</td>\n",
       "      <td>0</td>\n",
       "      <td>1</td>\n",
       "      <td>0</td>\n",
       "      <td>0</td>\n",
       "      <td>0</td>\n",
       "    </tr>\n",
       "  </tbody>\n",
       "</table>\n",
       "<p>3 rows × 40 columns</p>\n",
       "</div>"
      ],
      "text/plain": [
       "          PatientId  AppointmentID  Age  Scholarship  Hipertension  Diabetes  \\\n",
       "56108  7.177345e+14      5668289.0    9            0             0         0   \n",
       "38009  3.679249e+14      5573206.0   29            0             0         0   \n",
       "57270  9.488281e+12      5679475.0   18            0             0         0   \n",
       "\n",
       "       Alcoholism  Handcap  SMS_received  differenceDay  ...  DOW_S_2  \\\n",
       "56108           0        0             0      63.189167  ...        0   \n",
       "38009           0        0             1     683.862500  ...        0   \n",
       "57270           0        0             0      14.012222  ...        0   \n",
       "\n",
       "       DOW_S_3  DOW_S_4  DOW_S_5  DOW_A_0  DOW_A_1  DOW_A_2  DOW_A_3  DOW_A_4  \\\n",
       "56108        0        1        0        1        0        0        0        0   \n",
       "38009        0        0        0        0        0        1        0        0   \n",
       "57270        0        0        0        0        0        1        0        0   \n",
       "\n",
       "       DOW_A_5  \n",
       "56108        0  \n",
       "38009        0  \n",
       "57270        0  \n",
       "\n",
       "[3 rows x 40 columns]"
      ]
     },
     "execution_count": 138,
     "metadata": {},
     "output_type": "execute_result"
    }
   ],
   "source": [
    "X_train_b.head(3)"
   ]
  },
  {
   "cell_type": "markdown",
   "metadata": {},
   "source": [
    "# Premiers models\n",
    "\n",
    "- maybe also see if i want to remove the id \n",
    "- need to tune the models by cross validation"
   ]
  },
  {
   "cell_type": "markdown",
   "metadata": {},
   "source": [
    "### supervised \n",
    "\n",
    "- decision tree\n",
    "- logistic regression\n",
    "- SVM \n",
    "- naive bayes  ?? \n",
    "- random forest"
   ]
  },
  {
   "cell_type": "markdown",
   "metadata": {},
   "source": [
    "### Random forest Regressor, weird but works not bad "
   ]
  },
  {
   "cell_type": "code",
   "execution_count": 46,
   "metadata": {},
   "outputs": [],
   "source": [
    "# Model number 1: random forest on the non bootstrap data \n",
    "\n",
    "\n",
    "\n",
    "# Takes 5 min to run \n",
    "\n",
    "# Import the model we are using\n",
    "from sklearn.ensemble import RandomForestRegressor\n",
    "# Instantiate model with 50 decision trees\n",
    "rf = RandomForestRegressor(n_estimators = 200, random_state = 42)\n",
    "# Train the model on training data\n",
    "rf.fit(X_train, y_train);"
   ]
  },
  {
   "cell_type": "code",
   "execution_count": 47,
   "metadata": {},
   "outputs": [],
   "source": [
    "predictions = rf.predict(X_test)\n",
    "\n",
    "\n",
    "\n"
   ]
  },
  {
   "cell_type": "code",
   "execution_count": 48,
   "metadata": {},
   "outputs": [
    {
     "data": {
      "text/plain": [
       "array([0.   , 0.45 , 0.35 , ..., 0.165, 0.04 , 0.025])"
      ]
     },
     "execution_count": 48,
     "metadata": {},
     "output_type": "execute_result"
    }
   ],
   "source": [
    "predictions"
   ]
  },
  {
   "cell_type": "code",
   "execution_count": 49,
   "metadata": {},
   "outputs": [],
   "source": [
    "import matplotlib.pyplot as plt"
   ]
  },
  {
   "cell_type": "code",
   "execution_count": 50,
   "metadata": {},
   "outputs": [
    {
     "name": "stdout",
     "output_type": "stream",
     "text": [
      "0.7442051855519803\n"
     ]
    },
    {
     "data": {
      "text/plain": [
       "Text(0.5, 0, 'False Positive Rate')"
      ]
     },
     "execution_count": 50,
     "metadata": {},
     "output_type": "execute_result"
    },
    {
     "data": {
      "image/png": "[encoded data removed]",
      "text/plain": [
       "<Figure size 432x288 with 1 Axes>"
      ]
     },
     "metadata": {
      "needs_background": "light"
     },
     "output_type": "display_data"
    }
   ],
   "source": [
    "from sklearn.metrics import roc_curve\n",
    "y_test= '1' <= y_test\n",
    "\n",
    "fpr, tpr, threshold = roc_curve(y_test, predictions)\n",
    "from sklearn.metrics import auc\n",
    "roc_auc = auc(fpr, tpr)\n",
    "print(roc_auc)\n",
    "\n",
    "plt.title('Receiver Operating Characteristic')\n",
    "plt.plot(fpr, tpr, 'b', label = 'AUC = %0.2f' % roc_auc)\n",
    "plt.legend(loc = 'lower right')\n",
    "plt.plot([0, 1], [0, 1],'r--')\n",
    "plt.xlim([0, 1])\n",
    "plt.ylim([0, 1])\n",
    "plt.ylabel('True Positive Rate')\n",
    "plt.xlabel('False Positive Rate')"
   ]
  },
  {
   "cell_type": "markdown",
   "metadata": {},
   "source": [
    "### Random forest Regressor  on the boostraped data  "
   ]
  },
  {
   "cell_type": "code",
   "execution_count": 51,
   "metadata": {},
   "outputs": [],
   "source": [
    "rf = RandomForestRegressor(n_estimators = 200, random_state = 42)\n",
    "# Train the model on training data\n",
    "rf.fit(X_train_b, y_train_b);"
   ]
  },
  {
   "cell_type": "code",
   "execution_count": 52,
   "metadata": {},
   "outputs": [],
   "source": [
    "predictions_b = rf.predict(X_test)"
   ]
  },
  {
   "cell_type": "code",
   "execution_count": 53,
   "metadata": {},
   "outputs": [
    {
     "name": "stdout",
     "output_type": "stream",
     "text": [
      "0.7347719750809347\n"
     ]
    },
    {
     "data": {
      "text/plain": [
       "Text(0.5, 0, 'False Positive Rate')"
      ]
     },
     "execution_count": 53,
     "metadata": {},
     "output_type": "execute_result"
    },
    {
     "data": {
      "image/png": "[encoded data removed]",
      "text/plain": [
       "<Figure size 432x288 with 1 Axes>"
      ]
     },
     "metadata": {
      "needs_background": "light"
     },
     "output_type": "display_data"
    }
   ],
   "source": [
    "fpr, tpr, threshold = roc_curve(y_test, predictions_b )\n",
    "from sklearn.metrics import auc\n",
    "roc_auc = auc(fpr, tpr)\n",
    "print(roc_auc)\n",
    "\n",
    "plt.title('Receiver Operating Characteristic')\n",
    "plt.plot(fpr, tpr, 'b', label = 'AUC = %0.2f' % roc_auc)\n",
    "plt.legend(loc = 'lower right')\n",
    "plt.plot([0, 1], [0, 1],'r--')\n",
    "plt.xlim([0, 1])\n",
    "plt.ylim([0, 1])\n",
    "plt.ylabel('True Positive Rate')\n",
    "plt.xlabel('False Positive Rate')"
   ]
  },
  {
   "cell_type": "code",
   "execution_count": 136,
   "metadata": {},
   "outputs": [],
   "source": [
    "\n",
    "#Do the confusion matrix in this case "
   ]
  },
  {
   "cell_type": "markdown",
   "metadata": {},
   "source": [
    "### Random forest classifier\n",
    "\n"
   ]
  },
  {
   "cell_type": "markdown",
   "metadata": {},
   "source": [
    "\n",
    "\n"
   ]
  },
  {
   "cell_type": "code",
   "execution_count": null,
   "metadata": {},
   "outputs": [],
   "source": [
    "from sklearn.model_selection import GridSearchCV\n",
    "from sklearn.ensemble import RandomForestClassifier"
   ]
  },
  {
   "cell_type": "code",
   "execution_count": null,
   "metadata": {},
   "outputs": [],
   "source": [
    "\n"
   ]
  },
  {
   "cell_type": "code",
   "execution_count": 53,
   "metadata": {},
   "outputs": [],
   "source": [
    "from sklearn.model_selection import GridSearchCV\n",
    "from sklearn.ensemble import RandomForestClassifier"
   ]
  },
  {
   "cell_type": "markdown",
   "metadata": {},
   "source": [
    "## Tuning hyper parameters "
   ]
  },
  {
   "cell_type": "markdown",
   "metadata": {},
   "source": [
    "### The optim took 77 mins "
   ]
  },
  {
   "cell_type": "code",
   "execution_count": 44,
   "metadata": {},
   "outputs": [
    {
     "name": "stdout",
     "output_type": "stream",
     "text": [
      "Fitting 3 folds for each of 30 candidates, totalling 90 fits\n"
     ]
    },
    {
     "name": "stderr",
     "output_type": "stream",
     "text": [
      "[Parallel(n_jobs=-1)]: Using backend LokyBackend with 4 concurrent workers.\n",
      "[Parallel(n_jobs=-1)]: Done  42 tasks      | elapsed: 61.3min\n",
      "[Parallel(n_jobs=-1)]: Done  90 out of  90 | elapsed: 133.6min finished\n"
     ]
    }
   ],
   "source": [
    "from sklearn.model_selection import GridSearchCV\n",
    "from sklearn.ensemble import RandomForestClassifier\n",
    "\n",
    "forest = RandomForestClassifier(random_state = 0)\n",
    "\n",
    "n_estimators = [1000,2000]\n",
    "max_depth = [25, 30, 35]\n",
    "min_samples_split = [6, 7, 8, 9,10]\n",
    "min_samples_leaf = [1] \n",
    "\n",
    "hyperF = dict(n_estimators = n_estimators, max_depth = max_depth,  \n",
    "              min_samples_split = min_samples_split, \n",
    "             min_samples_leaf = min_samples_leaf)\n",
    "\n",
    "gridF = GridSearchCV(forest, hyperF, cv = 3, verbose = 1, \n",
    "                      n_jobs = -1)\n",
    "bestF = gridF.fit(X_train, y_train)"
   ]
  },
  {
   "cell_type": "code",
   "execution_count": 45,
   "metadata": {},
   "outputs": [
    {
     "data": {
      "text/plain": [
       "{'max_depth': 25,\n",
       " 'min_samples_leaf': 1,\n",
       " 'min_samples_split': 6,\n",
       " 'n_estimators': 1000}"
      ]
     },
     "execution_count": 45,
     "metadata": {},
     "output_type": "execute_result"
    }
   ],
   "source": [
    "gridF.best_params_"
   ]
  },
  {
   "cell_type": "markdown",
   "metadata": {},
   "source": [
    "Best param grid search first run \n",
    "\n",
    "max_depth: 30,\n",
    "min_samples_leaf: 1,\n",
    "min_samples_split: 10,\n",
    "n_estimators: 300"
   ]
  },
  {
   "cell_type": "markdown",
   "metadata": {},
   "source": [
    "Second Run \n",
    "\n",
    "\n",
    "max_depth: 30\n",
    "min_samples_leaf: 1\n",
    "min_samples_split: 8,\n",
    "n_estimators: 1000"
   ]
  },
  {
   "cell_type": "code",
   "execution_count": 206,
   "metadata": {},
   "outputs": [
    {
     "ename": "AttributeError",
     "evalue": "'GridSearchCV' object has no attribute 'proba'",
     "output_type": "error",
     "traceback": [
      "\u001b[0;31m---------------------------------------------------------------------------\u001b[0m",
      "\u001b[0;31mAttributeError\u001b[0m                            Traceback (most recent call last)",
      "\u001b[0;32m<ipython-input-206-33ffa2a63440>\u001b[0m in \u001b[0;36m<module>\u001b[0;34m\u001b[0m\n\u001b[1;32m      1\u001b[0m \u001b[0mpred\u001b[0m\u001b[0;34m=\u001b[0m\u001b[0mgridF\u001b[0m\u001b[0;34m.\u001b[0m\u001b[0mpredict\u001b[0m\u001b[0;34m(\u001b[0m\u001b[0mX_test\u001b[0m\u001b[0;34m)\u001b[0m\u001b[0;34m\u001b[0m\u001b[0;34m\u001b[0m\u001b[0m\n\u001b[0;32m----> 2\u001b[0;31m \u001b[0mproba_rf\u001b[0m\u001b[0;34m=\u001b[0m\u001b[0mgridF\u001b[0m\u001b[0;34m.\u001b[0m\u001b[0mproba\u001b[0m\u001b[0;34m(\u001b[0m\u001b[0mX_test\u001b[0m\u001b[0;34m)\u001b[0m\u001b[0;34m\u001b[0m\u001b[0;34m\u001b[0m\u001b[0m\n\u001b[0m",
      "\u001b[0;31mAttributeError\u001b[0m: 'GridSearchCV' object has no attribute 'proba'"
     ]
    }
   ],
   "source": [
    "pred=gridF.predict(X_test)\n",
    "proba_rf=gridF.proba(X_test)"
   ]
  },
  {
   "cell_type": "code",
   "execution_count": 204,
   "metadata": {},
   "outputs": [
    {
     "data": {
      "text/plain": [
       "array([False, False,  True, False, False, False, False, False, False,\n",
       "       False, False, False, False, False, False, False, False, False,\n",
       "       False, False, False, False, False, False, False, False, False,\n",
       "       False, False, False, False, False, False, False, False, False,\n",
       "       False, False, False, False, False, False, False, False, False,\n",
       "       False, False, False, False, False, False, False,  True,  True,\n",
       "       False, False, False, False, False, False, False, False, False,\n",
       "       False, False, False, False, False, False, False, False, False,\n",
       "       False, False, False, False, False, False, False, False, False,\n",
       "       False, False, False, False, False, False, False, False, False,\n",
       "       False, False, False, False,  True, False, False, False, False])"
      ]
     },
     "execution_count": 204,
     "metadata": {},
     "output_type": "execute_result"
    }
   ],
   "source": [
    "pred[1:100]"
   ]
  },
  {
   "cell_type": "code",
   "execution_count": 209,
   "metadata": {},
   "outputs": [],
   "source": [
    "#pred= '1' <= pred\n",
    "\n",
    "#conf_mat = confusion_matrix(y_test, predictions)\n",
    "#print(conf_mat)"
   ]
  },
  {
   "cell_type": "code",
   "execution_count": 2,
   "metadata": {},
   "outputs": [],
   "source": []
  },
  {
   "cell_type": "markdown",
   "metadata": {},
   "source": [
    "### Fitting the model"
   ]
  },
  {
   "cell_type": "code",
   "execution_count": 139,
   "metadata": {},
   "outputs": [],
   "source": [
    "\n",
    "clf = RandomForestClassifier(n_estimators=1000, random_state=0,  min_samples_split= 8,max_depth= 30, min_samples_leaf= 1  )\n",
    "clf.fit(X_train, y_train)\n",
    "predictions = clf.predict(X_test)\n"
   ]
  },
  {
   "cell_type": "code",
   "execution_count": 140,
   "metadata": {},
   "outputs": [
    {
     "name": "stdout",
     "output_type": "stream",
     "text": [
      "Feature ranking:\n",
      "1. feature 9 (0.203589)\n",
      "2. feature 1 (0.148510)\n",
      "3. feature 0 (0.128209)\n",
      "4. feature 2 (0.120295)\n",
      "5. feature 13 (0.063236)\n",
      "6. feature 16 (0.044694)\n",
      "7. feature 12 (0.040696)\n",
      "8. feature 11 (0.019723)\n",
      "9. feature 8 (0.016488)\n",
      "10. feature 27 (0.012396)\n",
      "11. feature 17 (0.011526)\n",
      "12. feature 18 (0.011507)\n",
      "13. feature 3 (0.010662)\n",
      "14. feature 35 (0.009461)\n",
      "15. feature 36 (0.009326)\n",
      "16. feature 29 (0.009192)\n",
      "17. feature 4 (0.009002)\n",
      "18. feature 30 (0.008823)\n",
      "19. feature 34 (0.008605)\n",
      "20. feature 28 (0.008284)\n",
      "21. feature 38 (0.007993)\n",
      "22. feature 31 (0.007915)\n",
      "23. feature 15 (0.007579)\n",
      "24. feature 32 (0.007555)\n",
      "25. feature 37 (0.007549)\n",
      "26. feature 5 (0.007095)\n",
      "27. feature 21 (0.006834)\n",
      "28. feature 6 (0.006702)\n",
      "29. feature 23 (0.006678)\n",
      "30. feature 24 (0.006672)\n",
      "31. feature 20 (0.006173)\n",
      "32. feature 7 (0.005927)\n",
      "33. feature 19 (0.005876)\n",
      "34. feature 26 (0.005174)\n",
      "35. feature 22 (0.005051)\n",
      "36. feature 25 (0.004677)\n",
      "37. feature 39 (0.000181)\n",
      "38. feature 10 (0.000093)\n",
      "39. feature 33 (0.000052)\n",
      "40. feature 14 (0.000000)\n"
     ]
    },
    {
     "ename": "TypeError",
     "evalue": "'module' object is not callable",
     "output_type": "error",
     "traceback": [
      "\u001b[0;31m---------------------------------------------------------------------------\u001b[0m",
      "\u001b[0;31mTypeError\u001b[0m                                 Traceback (most recent call last)",
      "\u001b[0;32m<ipython-input-140-58debe499bfd>\u001b[0m in \u001b[0;36m<module>\u001b[0;34m\u001b[0m\n\u001b[1;32m     13\u001b[0m \u001b[0;34m\u001b[0m\u001b[0m\n\u001b[1;32m     14\u001b[0m \u001b[0;31m# Plot the feature importances of the forest\u001b[0m\u001b[0;34m\u001b[0m\u001b[0;34m\u001b[0m\u001b[0;34m\u001b[0m\u001b[0m\n\u001b[0;32m---> 15\u001b[0;31m \u001b[0mplt\u001b[0m\u001b[0;34m.\u001b[0m\u001b[0mfigure\u001b[0m\u001b[0;34m(\u001b[0m\u001b[0;34m)\u001b[0m\u001b[0;34m\u001b[0m\u001b[0;34m\u001b[0m\u001b[0m\n\u001b[0m\u001b[1;32m     16\u001b[0m \u001b[0mplt\u001b[0m\u001b[0;34m.\u001b[0m\u001b[0mtitle\u001b[0m\u001b[0;34m(\u001b[0m\u001b[0;34m\"Feature importances\"\u001b[0m\u001b[0;34m)\u001b[0m\u001b[0;34m\u001b[0m\u001b[0;34m\u001b[0m\u001b[0m\n\u001b[1;32m     17\u001b[0m plt.bar(range(X_train[1]), importances[indices],\n",
      "\u001b[0;31mTypeError\u001b[0m: 'module' object is not callable"
     ]
    }
   ],
   "source": [
    "# https://scikit-learn.org/stable/auto_examples/ensemble/plot_forest_importances.html\n",
    "\n",
    "importances = clf.feature_importances_\n",
    "std = np.std([clf.feature_importances_ for tree in clf.estimators_],\n",
    "             axis=0)\n",
    "indices = np.argsort(importances)[::-1]\n",
    "\n",
    "# Print the feature ranking\n",
    "print(\"Feature ranking:\")\n",
    "\n",
    "for f in range(X_train.shape[1]):\n",
    "    print(\"%d. feature %d (%f)\" % (f + 1, indices[f], importances[indices[f]]))\n",
    "\n",
    "# Plot the feature importances of the forest\n",
    "plt.figure()\n",
    "plt.title(\"Feature importances\")\n",
    "plt.bar(range(X_train[1]), importances[indices],\n",
    "       color=\"r\", yerr=std[indices], align=\"center\")\n",
    "plt.xticks(range(X_train.shape[1]), indices)\n",
    "plt.xlim([-1, X_train.shape[1]])\n",
    "plt.show()"
   ]
  },
  {
   "cell_type": "code",
   "execution_count": 66,
   "metadata": {},
   "outputs": [
    {
     "data": {
      "image/png": "[encoded data removed]",
      "text/plain": [
       "<Figure size 1440x720 with 1 Axes>"
      ]
     },
     "metadata": {},
     "output_type": "display_data"
    }
   ],
   "source": [
    "import matplotlib.pyplot as plt \n",
    "#for f in range(X_train.shape[1]):\n",
    " #   print(\"%d. feature %d (%f)\" % (f + 1, indices[f], importances[indices[f]]))\n",
    "#\n",
    "# Plot the feature importances of the forest\n",
    "plt.figure(figsize=(20,10))\n",
    "plt.title(\"Feature importances\")\n",
    "plt.bar(range(X_train.shape[1]), importances[indices],color=\"r\", yerr=std[indices])\n",
    "plt.xticks(range(X_train.shape[1]), indices)\n",
    "plt.xlim([-1, X_train.shape[1]])\n",
    "plt.show()"
   ]
  },
  {
   "cell_type": "code",
   "execution_count": 212,
   "metadata": {
    "scrolled": true
   },
   "outputs": [
    {
     "data": {
      "text/plain": [
       "PatientId                        float64\n",
       "AppointmentID                    float64\n",
       "Age                                int64\n",
       "Scholarship                        int64\n",
       "Hipertension                       int64\n",
       "Diabetes                           int64\n",
       "Alcoholism                         int64\n",
       "Handcap                            int64\n",
       "SMS_received                       int64\n",
       "differenceDay                    float64\n",
       "Year_S                             int64\n",
       "Month_S                            int64\n",
       "Day_S                              int64\n",
       "Hour                               int64\n",
       "Year_A                             int64\n",
       "Month_A                            int64\n",
       "Day_A                              int64\n",
       "Gender_0                           uint8\n",
       "Gender_1                           uint8\n",
       "Neighbourhood_CENTRO               uint8\n",
       "Neighbourhood_ITARARÉ              uint8\n",
       "Neighbourhood_JARDIM CAMBURI       uint8\n",
       "Neighbourhood_JARDIM DA PENHA      uint8\n",
       "Neighbourhood_MARIA ORTIZ          uint8\n",
       "Neighbourhood_RESISTÊNCIA          uint8\n",
       "Neighbourhood_SANTA MARTHA         uint8\n",
       "Neighbourhood_TABUAZEIRO           uint8\n",
       "Neighbourhood_other                uint8\n",
       "DOW_S_0                            uint8\n",
       "DOW_S_1                            uint8\n",
       "DOW_S_2                            uint8\n",
       "DOW_S_3                            uint8\n",
       "DOW_S_4                            uint8\n",
       "DOW_S_5                            uint8\n",
       "DOW_A_0                            uint8\n",
       "DOW_A_1                            uint8\n",
       "DOW_A_2                            uint8\n",
       "DOW_A_3                            uint8\n",
       "DOW_A_4                            uint8\n",
       "DOW_A_5                            uint8\n",
       "dtype: object"
      ]
     },
     "execution_count": 212,
     "metadata": {},
     "output_type": "execute_result"
    }
   ],
   "source": [
    "X_train.dtypes"
   ]
  },
  {
   "cell_type": "code",
   "execution_count": null,
   "metadata": {},
   "outputs": [],
   "source": [
    "# bootsraped data \n",
    "clf_b = RandomForestClassifier(n_estimators=1000, random_state=0,  min_samples_split= 8,max_depth= 30, min_samples_leaf= 1  )\n",
    "clf_b.fit(X_train_b, y_train_b)\n",
    "predictions_b = clf_b.predict(X_test)"
   ]
  },
  {
   "cell_type": "code",
   "execution_count": 68,
   "metadata": {},
   "outputs": [
    {
     "data": {
      "text/plain": [
       "array([0.02988968, 0.46839856, 0.3646671 , ..., 0.1943074 , 0.05818926,\n",
       "       0.04514904])"
      ]
     },
     "execution_count": 68,
     "metadata": {},
     "output_type": "execute_result"
    }
   ],
   "source": [
    "predictions_proba=clf.predict_proba(X_test)\n",
    "predictions_proba[:,1]"
   ]
  },
  {
   "cell_type": "code",
   "execution_count": 69,
   "metadata": {},
   "outputs": [
    {
     "data": {
      "text/plain": [
       "array([0.10714598, 0.70236817, 0.57327194, ..., 0.4284708 , 0.11051415,\n",
       "       0.17055153])"
      ]
     },
     "execution_count": 69,
     "metadata": {},
     "output_type": "execute_result"
    }
   ],
   "source": [
    "predictions_proba_b=clf_b.predict_proba(X_test)\n",
    "predictions_proba_b[:,1]"
   ]
  },
  {
   "cell_type": "code",
   "execution_count": 215,
   "metadata": {},
   "outputs": [
    {
     "name": "stdout",
     "output_type": "stream",
     "text": [
      "0.753187525459592\n",
      "0.7429244302102077\n"
     ]
    },
    {
     "data": {
      "text/plain": [
       "Text(0.5, 0, 'False Positive Rate')"
      ]
     },
     "execution_count": 215,
     "metadata": {},
     "output_type": "execute_result"
    },
    {
     "data": {
      "image/png": "[encoded data removed]",
      "text/plain": [
       "<Figure size 432x288 with 1 Axes>"
      ]
     },
     "metadata": {},
     "output_type": "display_data"
    }
   ],
   "source": [
    "from sklearn.metrics import roc_curve\n",
    "from sklearn.metrics import auc\n",
    "#y_test= '1' <= y_test\n",
    "\n",
    "\n",
    "fpr, tpr, threshold = roc_curve(y_test, predictions_proba[:,1] )\n",
    "fpr_b, tpr_b, threshold_b = roc_curve(y_test, predictions_proba_b[:,1] )\n",
    "\n",
    "roc_auc = auc(fpr, tpr)\n",
    "print(roc_auc)\n",
    "roc_auc_b = auc(fpr_b, tpr_b)\n",
    "print(roc_auc_b)\n",
    "\n",
    "plt.title('Receiver Operating Characteristic Random Forest')\n",
    "plt.plot(fpr, tpr, 'b', label = 'AUC = %0.2f' % roc_auc)\n",
    "plt.plot(fpr_b, tpr_b, 'r', label = 'AUC_b = %0.2f' % roc_auc_b)\n",
    "plt.legend(loc = 'lower right')\n",
    "plt.plot([0, 1], [0, 1],'r--')\n",
    "plt.xlim([0, 1])\n",
    "plt.ylim([0, 1])\n",
    "plt.ylabel('True Positive Rate')\n",
    "plt.xlabel('False Positive Rate')"
   ]
  },
  {
   "cell_type": "code",
   "execution_count": 153,
   "metadata": {},
   "outputs": [
    {
     "name": "stdout",
     "output_type": "stream",
     "text": [
      "[[17445   283]\n",
      " [ 3889   489]]\n"
     ]
    }
   ],
   "source": [
    "predictions= '1' <= predictions\n",
    "\n",
    "from sklearn.metrics import confusion_matrix\n",
    "\n",
    "conf_mat = confusion_matrix(y_test, predictions)\n",
    "print(conf_mat)\n"
   ]
  },
  {
   "cell_type": "code",
   "execution_count": 207,
   "metadata": {},
   "outputs": [
    {
     "data": {
      "image/png": "[encoded data removed]",
      "text/plain": [
       "<Figure size 432x288 with 2 Axes>"
      ]
     },
     "metadata": {},
     "output_type": "display_data"
    },
    {
     "data": {
      "text/plain": [
       "<Figure size 1440x1440 with 0 Axes>"
      ]
     },
     "metadata": {},
     "output_type": "display_data"
    },
    {
     "data": {
      "text/plain": [
       "<Figure size 432x288 with 0 Axes>"
      ]
     },
     "metadata": {},
     "output_type": "display_data"
    }
   ],
   "source": [
    "# try to get the value at the bottom printed as well would be cool + there \n",
    "\n",
    "#cmn = conf_mat / conf_mat.astype(np.float).sum(axis=1)\n",
    "\n",
    "import seaborn as sns\n",
    "import numpy as np; np.random.seed(0)\n",
    "import matplotlib.pylab as plt\n",
    "import matplotlib.transforms\n",
    "\n",
    "akws = {\"ha\": 'left',\"va\": 'top'}\n",
    "ax = sns.heatmap(conf_mat,  annot=True, annot_kws={\"size\": 15},fmt='.2f',center=True)\n",
    "\n",
    "for t in ax.texts:\n",
    "    trans = t.get_transform()\n",
    "    offs = matplotlib.transforms.ScaledTranslation(-0.2, -0.05,\n",
    "                    matplotlib.transforms.IdentityTransform())\n",
    "    t.set_transform( offs + trans )\n",
    "plt.ylabel('Actual')\n",
    "plt.xlabel('Predicted')\n",
    "plt.figure(figsize=(20,20))\n",
    "plt.show()\n",
    "plt.savefig(\"confmat_rf.png\")"
   ]
  },
  {
   "cell_type": "code",
   "execution_count": 141,
   "metadata": {},
   "outputs": [],
   "source": [
    "predictions_rf=predictions\n",
    "predictions_proba_rf=predictions_proba\n",
    "predictions_proba_b_rf=predictions_proba"
   ]
  },
  {
   "cell_type": "code",
   "execution_count": null,
   "metadata": {},
   "outputs": [],
   "source": []
  },
  {
   "cell_type": "markdown",
   "metadata": {},
   "source": [
    "### Boosting "
   ]
  },
  {
   "cell_type": "code",
   "execution_count": 147,
   "metadata": {},
   "outputs": [
    {
     "data": {
      "text/plain": [
       "XGBClassifier(base_score=0.5, booster='gbtree', colsample_bylevel=1,\n",
       "              colsample_bynode=1, colsample_bytree=1, gamma=0,\n",
       "              learning_rate=0.1, max_delta_step=0, max_depth=8,\n",
       "              min_child_weight=1, missing=None, n_estimators=180, n_jobs=1,\n",
       "              nthread=None, objective='binary:logistic', random_state=0,\n",
       "              reg_alpha=0, reg_lambda=1, scale_pos_weight=1, seed=None,\n",
       "              silent=None, subsample=1, verbosity=1)"
      ]
     },
     "execution_count": 147,
     "metadata": {},
     "output_type": "execute_result"
    }
   ],
   "source": [
    "from xgboost import XGBClassifier\n",
    "xgb_clf = XGBClassifier(max_depth=8,learning_rate=0.1,n_estimators=180)\n",
    "\n",
    "xgb_clf.fit(X_train, y_train)\n"
   ]
  },
  {
   "cell_type": "code",
   "execution_count": 148,
   "metadata": {},
   "outputs": [
    {
     "data": {
      "text/plain": [
       "XGBClassifier(base_score=0.5, booster='gbtree', colsample_bylevel=1,\n",
       "              colsample_bynode=1, colsample_bytree=1, gamma=0,\n",
       "              learning_rate=0.1, max_delta_step=0, max_depth=8,\n",
       "              min_child_weight=1, missing=None, n_estimators=180, n_jobs=1,\n",
       "              nthread=None, objective='binary:logistic', random_state=0,\n",
       "              reg_alpha=0, reg_lambda=1, scale_pos_weight=1, seed=None,\n",
       "              silent=None, subsample=1, verbosity=1)"
      ]
     },
     "execution_count": 148,
     "metadata": {},
     "output_type": "execute_result"
    }
   ],
   "source": [
    "xgb_b_clf = XGBClassifier(max_depth=8,learning_rate=0.1,n_estimators=180)\n",
    "xgb_b_clf.fit(X_train_b, y_train_b)"
   ]
  },
  {
   "cell_type": "code",
   "execution_count": 149,
   "metadata": {},
   "outputs": [],
   "source": [
    "pred_xgb=xgb_clf.predict(X_test)\n",
    "pred_xgb_b=xgb_b_clf.predict(X_test)"
   ]
  },
  {
   "cell_type": "code",
   "execution_count": 152,
   "metadata": {},
   "outputs": [
    {
     "ename": "NameError",
     "evalue": "name 'confusion_matrix' is not defined",
     "output_type": "error",
     "traceback": [
      "\u001b[0;31m---------------------------------------------------------------------------\u001b[0m",
      "\u001b[0;31mNameError\u001b[0m                                 Traceback (most recent call last)",
      "\u001b[0;32m<ipython-input-152-9f8ebca01d07>\u001b[0m in \u001b[0;36m<module>\u001b[0;34m\u001b[0m\n\u001b[1;32m      1\u001b[0m \u001b[0;31m#pred_xgb= '1' <= pred_xgb\u001b[0m\u001b[0;34m\u001b[0m\u001b[0;34m\u001b[0m\u001b[0;34m\u001b[0m\u001b[0m\n\u001b[1;32m      2\u001b[0m \u001b[0;34m\u001b[0m\u001b[0m\n\u001b[0;32m----> 3\u001b[0;31m \u001b[0mconf_mat\u001b[0m \u001b[0;34m=\u001b[0m \u001b[0mconfusion_matrix\u001b[0m\u001b[0;34m(\u001b[0m\u001b[0my_test\u001b[0m\u001b[0;34m,\u001b[0m \u001b[0mpred_xgb\u001b[0m\u001b[0;34m)\u001b[0m\u001b[0;34m\u001b[0m\u001b[0;34m\u001b[0m\u001b[0m\n\u001b[0m\u001b[1;32m      4\u001b[0m \u001b[0mprint\u001b[0m\u001b[0;34m(\u001b[0m\u001b[0mconf_mat\u001b[0m\u001b[0;34m)\u001b[0m\u001b[0;34m\u001b[0m\u001b[0;34m\u001b[0m\u001b[0m\n",
      "\u001b[0;31mNameError\u001b[0m: name 'confusion_matrix' is not defined"
     ]
    }
   ],
   "source": [
    "#pred_xgb= '1' <= pred_xgb\n",
    "\n",
    "conf_mat = confusion_matrix(y_test, pred_xgb)\n",
    "print(conf_mat)"
   ]
  },
  {
   "cell_type": "code",
   "execution_count": null,
   "metadata": {},
   "outputs": [],
   "source": [
    "#cm = conf_mat /conf_mat.astype(np.float).sum(axis=0)\n",
    "\n",
    "\n",
    "akws = {\"ha\": 'left',\"va\": 'top'}\n",
    "ax = sns.heatmap(conf_mat,  annot=True, annot_kws={\"size\": 15},fmt='.2f',center=True)\n",
    "\n",
    "for t in ax.texts:\n",
    "    trans = t.get_transform()\n",
    "    offs = matplotlib.transforms.ScaledTranslation(-0.2, -0.05,\n",
    "                    matplotlib.transforms.IdentityTransform())\n",
    "    t.set_transform( offs + trans )\n",
    "plt.ylabel('Actual')\n",
    "plt.xlabel('Predicted')\n",
    "plt.figure(figsize=(20,20))\n",
    "plt.show()"
   ]
  },
  {
   "cell_type": "markdown",
   "metadata": {},
   "source": [
    "The problem with this model is that most of the predictions are 0 so not really useful in practice "
   ]
  },
  {
   "cell_type": "code",
   "execution_count": 179,
   "metadata": {},
   "outputs": [
    {
     "name": "stdout",
     "output_type": "stream",
     "text": [
      "[[10866  6862]\n",
      " [ 1175  3203]]\n"
     ]
    }
   ],
   "source": [
    "pred_xgb_b= '1' <= pred_xgb_b\n",
    "\n",
    "conf_mat_b = confusion_matrix(y_test, pred_xgb_b)\n",
    "print(conf_mat_b)"
   ]
  },
  {
   "cell_type": "code",
   "execution_count": null,
   "metadata": {},
   "outputs": [],
   "source": [
    "#cm_b = conf_mat_b /conf_mat_b.astype(np.float).sum(axis=0) vmin=0, vmax=1 in ax \n",
    "\n",
    "\n",
    "akws = {\"ha\": 'left',\"va\": 'top'}\n",
    "ax = sns.heatmap(conf_mat_b,  annot=True, annot_kws={\"size\": 15},fmt='.2f',center=True)\n",
    "\n",
    "for t in ax.texts:\n",
    "    trans = t.get_transform()\n",
    "    offs = matplotlib.transforms.ScaledTranslation(-0.2, -0.05,\n",
    "                    matplotlib.transforms.IdentityTransform())\n",
    "    t.set_transform( offs + trans )\n",
    "plt.ylabel('Actual')\n",
    "plt.xlabel('Predicted')\n",
    "plt.figure(figsize=(20,20))\n",
    "plt.show()"
   ]
  },
  {
   "cell_type": "code",
   "execution_count": null,
   "metadata": {},
   "outputs": [],
   "source": [
    "# getting the proba \n",
    "proba_xgb=xgb_clf.predict_proba(X_test)\n",
    "proba_xgb_b=xgb_b_clf.predict_proba(X_test)\n"
   ]
  },
  {
   "cell_type": "code",
   "execution_count": 217,
   "metadata": {},
   "outputs": [
    {
     "name": "stdout",
     "output_type": "stream",
     "text": [
      "0.7507897498445625\n",
      "0.741912688442211\n"
     ]
    },
    {
     "data": {
      "text/plain": [
       "Text(0.5, 0, 'False Positive Rate')"
      ]
     },
     "execution_count": 217,
     "metadata": {},
     "output_type": "execute_result"
    },
    {
     "data": {
      "image/png": "[encoded data removed]",
      "text/plain": [
       "<Figure size 432x288 with 1 Axes>"
      ]
     },
     "metadata": {},
     "output_type": "display_data"
    }
   ],
   "source": [
    "fpr, tpr, threshold = roc_curve(y_test, proba_xgb[:,1] )\n",
    "fpr_b, tpr_b, threshold_b = roc_curve(y_test, proba_xgb_b[:,1] )\n",
    "\n",
    "roc_auc = auc(fpr, tpr)\n",
    "print(roc_auc)\n",
    "roc_auc_b = auc(fpr_b, tpr_b)\n",
    "print(roc_auc_b)\n",
    "\n",
    "plt.title('Receiver Operating Characteristic Boosting')\n",
    "plt.plot(fpr, tpr, 'b', label = 'AUC = %0.2f' % roc_auc)\n",
    "plt.plot(fpr_b, tpr_b, 'r', label = 'AUC_b = %0.2f' % roc_auc_b)\n",
    "plt.legend(loc = 'lower right')\n",
    "plt.plot([0, 1], [0, 1],'r--')\n",
    "plt.xlim([0, 1])\n",
    "plt.ylim([0, 1])\n",
    "plt.ylabel('True Positive Rate')\n",
    "plt.xlabel('False Positive Rate')"
   ]
  },
  {
   "cell_type": "markdown",
   "metadata": {},
   "source": [
    "## Parameter tuning for Xgboost \n"
   ]
  },
  {
   "cell_type": "code",
   "execution_count": 48,
   "metadata": {},
   "outputs": [],
   "source": [
    "from sklearn.model_selection import RandomizedSearchCV, GridSearchCV\n",
    "from sklearn.metrics import roc_auc_score\n",
    "from sklearn.model_selection import StratifiedKFold\n",
    "\n",
    "\n",
    "from xgboost import XGBClassifier"
   ]
  },
  {
   "cell_type": "code",
   "execution_count": 49,
   "metadata": {},
   "outputs": [],
   "source": [
    "estimator = XGBClassifier(\n",
    "    objective= 'binary:logistic',\n",
    "    nthread=4,\n",
    "    seed=42\n",
    ")\n",
    "parameters = {\n",
    "    'max_depth': range (6 ,10, 1),\n",
    "    'n_estimators': range(160, 210, 10),\n",
    "    'learning_rate': [0.1, 0.2, 0.08]\n",
    "}"
   ]
  },
  {
   "cell_type": "code",
   "execution_count": 50,
   "metadata": {},
   "outputs": [],
   "source": [
    "grid_search = GridSearchCV(\n",
    "    estimator=estimator,\n",
    "    param_grid=parameters,\n",
    "    scoring = 'roc_auc',\n",
    "    n_jobs = 5,\n",
    "    cv = 5,\n",
    "    verbose=True\n",
    ")"
   ]
  },
  {
   "cell_type": "code",
   "execution_count": 82,
   "metadata": {},
   "outputs": [],
   "source": [
    "#grid_search.fit(X_train, y_train)"
   ]
  },
  {
   "cell_type": "code",
   "execution_count": null,
   "metadata": {},
   "outputs": [],
   "source": [
    "grid_search.best_estimator_"
   ]
  },
  {
   "cell_type": "markdown",
   "metadata": {},
   "source": [
    "First run GridSearch \n",
    "\n",
    "parameters = {\n",
    "    'max_depth': range (2, 10, 2),\n",
    "    'n_estimators': range(60, 220, 40),\n",
    "    'learning_rate': [0.1, 0.01, 0.05]\n",
    "}\n",
    "\n",
    "results: \n",
    "\n",
    "learning_rate=0.1,\n",
    "max_depth=8\n",
    "n_estimators=180"
   ]
  },
  {
   "cell_type": "markdown",
   "metadata": {},
   "source": [
    "### Logistic regression \n",
    "\n",
    "The issue is that the variable shouldn't be one - hot encoded for logistic regression "
   ]
  },
  {
   "cell_type": "code",
   "execution_count": 84,
   "metadata": {},
   "outputs": [],
   "source": [
    "from sklearn.linear_model import LogisticRegression\n",
    "logmodel = LogisticRegression()\n",
    "logmodel.fit(X_train.iloc[:,1:16],y_train)\n",
    "proba_logit = logmodel.predict_proba(X_test.iloc[:,1:16])\n",
    "predict_logit = logmodel.predict(X_test.iloc[’1:16])"
   ]
  },
  {
   "cell_type": "code",
   "execution_count": 85,
   "metadata": {},
   "outputs": [],
   "source": [
    "logmodel = LogisticRegression()\n",
    "logmodel.fit(X_train_b.iloc[:,1:16],y_train_b)\n",
    "proba_logit_b = logmodel.predict_proba(X_test.iloc[:,1:16])\n",
    "predict_logit_b = logmodel.predict(X_test.iloc[:,1:16])"
   ]
  },
  {
   "cell_type": "code",
   "execution_count": 86,
   "metadata": {},
   "outputs": [
    {
     "data": {
      "text/plain": [
       "array([[0.60524963, 0.39475037],\n",
       "       [0.28232961, 0.71767039],\n",
       "       [0.49577837, 0.50422163],\n",
       "       ...,\n",
       "       [0.49645772, 0.50354228],\n",
       "       [0.5921273 , 0.4078727 ],\n",
       "       [0.65942106, 0.34057894]])"
      ]
     },
     "execution_count": 86,
     "metadata": {},
     "output_type": "execute_result"
    }
   ],
   "source": [
    "proba_logit_b"
   ]
  },
  {
   "cell_type": "code",
   "execution_count": 87,
   "metadata": {},
   "outputs": [
    {
     "data": {
      "text/plain": [
       "array([[0.80184757, 0.19815243],\n",
       "       [0.79394845, 0.20605155],\n",
       "       [0.79833531, 0.20166469],\n",
       "       ...,\n",
       "       [0.79879913, 0.20120087],\n",
       "       [0.80062578, 0.19937422],\n",
       "       [0.8013066 , 0.1986934 ]])"
      ]
     },
     "execution_count": 87,
     "metadata": {},
     "output_type": "execute_result"
    }
   ],
   "source": [
    "proba_logit"
   ]
  },
  {
   "cell_type": "code",
   "execution_count": null,
   "metadata": {},
   "outputs": [],
   "source": []
  },
  {
   "cell_type": "code",
   "execution_count": null,
   "metadata": {},
   "outputs": [],
   "source": []
  },
  {
   "cell_type": "code",
   "execution_count": 210,
   "metadata": {},
   "outputs": [
    {
     "name": "stdout",
     "output_type": "stream",
     "text": [
      "[[17728     0]\n",
      " [ 4378     0]]\n"
     ]
    }
   ],
   "source": [
    "#predict_logit= '1' <= predict_logit\n",
    "\n",
    "conf_mat = confusion_matrix(y_test, predict_logit)\n",
    "print(conf_mat)"
   ]
  },
  {
   "cell_type": "code",
   "execution_count": 211,
   "metadata": {},
   "outputs": [
    {
     "name": "stdout",
     "output_type": "stream",
     "text": [
      "[[13062  4666]\n",
      " [ 2137  2241]]\n"
     ]
    }
   ],
   "source": [
    "\n",
    "conf_mat = confusion_matrix(y_test, predict_logit_b)\n",
    "print(conf_mat)"
   ]
  },
  {
   "cell_type": "code",
   "execution_count": 89,
   "metadata": {},
   "outputs": [
    {
     "ename": "NameError",
     "evalue": "name 'confusion_matrix' is not defined",
     "output_type": "error",
     "traceback": [
      "\u001b[0;31m---------------------------------------------------------------------------\u001b[0m",
      "\u001b[0;31mNameError\u001b[0m                                 Traceback (most recent call last)",
      "\u001b[0;32m<ipython-input-89-a98189ca1fc9>\u001b[0m in \u001b[0;36m<module>\u001b[0;34m\u001b[0m\n\u001b[1;32m      1\u001b[0m \u001b[0mpredict_logit_b\u001b[0m\u001b[0;34m=\u001b[0m \u001b[0;34m'1'\u001b[0m \u001b[0;34m<=\u001b[0m \u001b[0mpredict_logit_b\u001b[0m\u001b[0;34m\u001b[0m\u001b[0;34m\u001b[0m\u001b[0m\n\u001b[0;32m----> 2\u001b[0;31m \u001b[0mconf_mat_b\u001b[0m \u001b[0;34m=\u001b[0m \u001b[0mconfusion_matrix\u001b[0m\u001b[0;34m(\u001b[0m\u001b[0my_test\u001b[0m\u001b[0;34m,\u001b[0m \u001b[0mpredict_logit_b\u001b[0m\u001b[0;34m)\u001b[0m\u001b[0;34m\u001b[0m\u001b[0;34m\u001b[0m\u001b[0m\n\u001b[0m\u001b[1;32m      3\u001b[0m \u001b[0mprint\u001b[0m\u001b[0;34m(\u001b[0m\u001b[0mconf_mat_b\u001b[0m\u001b[0;34m)\u001b[0m\u001b[0;34m\u001b[0m\u001b[0;34m\u001b[0m\u001b[0m\n",
      "\u001b[0;31mNameError\u001b[0m: name 'confusion_matrix' is not defined"
     ]
    }
   ],
   "source": [
    "predict_logit_b= '1' <= predict_logit_b\n",
    "conf_mat_b = confusion_matrix(y_test, predict_logit_b)\n",
    "print(conf_mat_b)"
   ]
  },
  {
   "cell_type": "code",
   "execution_count": 116,
   "metadata": {},
   "outputs": [
    {
     "name": "stdout",
     "output_type": "stream",
     "text": [
      "              precision    recall  f1-score   support\n",
      "\n",
      "       False       0.80      1.00      0.89     17728\n",
      "        True       0.00      0.00      0.00      4378\n",
      "\n",
      "    accuracy                           0.80     22106\n",
      "   macro avg       0.40      0.50      0.45     22106\n",
      "weighted avg       0.64      0.80      0.71     22106\n",
      "\n"
     ]
    }
   ],
   "source": [
    "from sklearn.metrics import classification_report\n",
    "print(classification_report(y_test,predict_logit_b))"
   ]
  },
  {
   "cell_type": "code",
   "execution_count": 172,
   "metadata": {},
   "outputs": [
    {
     "name": "stdout",
     "output_type": "stream",
     "text": [
      "0.6232354415456013\n",
      "0.6623500976328971\n"
     ]
    },
    {
     "data": {
      "text/plain": [
       "<Figure size 1440x720 with 0 Axes>"
      ]
     },
     "execution_count": 172,
     "metadata": {},
     "output_type": "execute_result"
    },
    {
     "data": {
      "image/png": "[encoded data removed]",
      "text/plain": [
       "<Figure size 432x288 with 1 Axes>"
      ]
     },
     "metadata": {},
     "output_type": "display_data"
    },
    {
     "data": {
      "text/plain": [
       "<Figure size 1440x720 with 0 Axes>"
      ]
     },
     "metadata": {},
     "output_type": "display_data"
    }
   ],
   "source": [
    "fpr, tpr, threshold = roc_curve(y_test, proba_logit[:,1] )\n",
    "fpr_b, tpr_b, threshold_b = roc_curve(y_test, proba_logit_b[:,1] )\n",
    "\n",
    "roc_auc = auc(fpr, tpr)\n",
    "print(roc_auc)\n",
    "roc_auc_b = auc(fpr_b, tpr_b)\n",
    "print(roc_auc_b)\n",
    "\n",
    "\n",
    "\n",
    "plt.title('Receiver Operating Characteristic for the logistic regression ')\n",
    "\n",
    "plt.plot(fpr, tpr, 'b', label = 'AUC = %0.2f' % roc_auc)\n",
    "plt.plot(fpr_b, tpr_b, 'r', label = 'AUC_b = %0.2f' % roc_auc_b)\n",
    "plt.legend(loc = 'lower right')\n",
    "plt.plot([0, 1], [0, 1],'r--')\n",
    "plt.xlim([0, 1])\n",
    "plt.ylim([0, 1])\n",
    "plt.ylabel('True Positive Rate')\n",
    "plt.xlabel('False Positive Rate')\n",
    "plt.figure(figsize=(20,10))"
   ]
  },
  {
   "cell_type": "code",
   "execution_count": 208,
   "metadata": {},
   "outputs": [
    {
     "name": "stdout",
     "output_type": "stream",
     "text": [
      "0.6232354415456013\n",
      "0.6623500976328971\n"
     ]
    },
    {
     "data": {
      "image/png": "[encoded data removed]",
      "text/plain": [
       "<Figure size 432x288 with 1 Axes>"
      ]
     },
     "metadata": {},
     "output_type": "display_data"
    },
    {
     "data": {
      "text/plain": [
       "<Figure size 1440x720 with 0 Axes>"
      ]
     },
     "metadata": {},
     "output_type": "display_data"
    }
   ],
   "source": [
    "fpr, tpr, threshold = roc_curve(y_test, proba_logit[:,1] )\n",
    "fpr_b, tpr_b, threshold_b = roc_curve(y_test, proba_logit_b[:,1] )\n",
    "\n",
    "roc_auc = auc(fpr, tpr)\n",
    "print(roc_auc)\n",
    "roc_auc_b = auc(fpr_b, tpr_b)\n",
    "print(roc_auc_b)\n",
    "\n",
    "\n",
    "\n",
    "plt.title('Receiver Operating Characteristic for the logistic regression ')\n",
    "\n",
    "plt.plot(fpr, tpr, 'b', label = 'AUC = %0.2f' % roc_auc)\n",
    "plt.plot(fpr_b, tpr_b, 'r', label = 'AUC_b = %0.2f' % roc_auc_b)\n",
    "plt.legend(loc = 'lower right')\n",
    "plt.plot([0, 1], [0, 1],'r--')\n",
    "plt.xlim([0, 1])\n",
    "plt.ylim([0, 1])\n",
    "plt.ylabel('True Positive Rate')\n",
    "plt.xlabel('False Positive Rate')\n",
    "plt.figure(figsize=(20,10))\n",
    "\n",
    "plt.savefig(\"logistic_roc.png\")"
   ]
  },
  {
   "cell_type": "markdown",
   "metadata": {},
   "source": [
    "### Printing all the roc curve together "
   ]
  },
  {
   "cell_type": "code",
   "execution_count": 170,
   "metadata": {},
   "outputs": [
    {
     "data": {
      "text/plain": [
       "Text(0.5, 0, 'False Positive Rate')"
      ]
     },
     "execution_count": 170,
     "metadata": {},
     "output_type": "execute_result"
    },
    {
     "data": {
      "image/png": "[encoded data removed]",
      "text/plain": [
       "<Figure size 1080x720 with 1 Axes>"
      ]
     },
     "metadata": {},
     "output_type": "display_data"
    }
   ],
   "source": [
    "fpr, tpr, threshold = roc_curve(y_test, proba_logit[:,1] )\n",
    "fpr_b, tpr_b, threshold_b = roc_curve(y_test, proba_logit_b[:,1] )\n",
    "\n",
    "fpr_rf, tpr_rf, thresholdrf = roc_curve(y_test, predictions_proba_rf[:,1] )\n",
    "fpr_b_rf, tpr_b_rf, threshold_brf = roc_curve(y_test, predictions_proba_b_rf[:,1] )\n",
    "\n",
    "\n",
    "\n",
    "roc_auc = auc(fpr, tpr)\n",
    "\n",
    "roc_auc_b = auc(fpr_b, tpr_b)\n",
    "\n",
    "\n",
    "roc_auc_rf = auc(fpr_rf, tpr_rf)\n",
    "\n",
    "roc_auc_b_rf = auc(fpr_b_rf, tpr_b_rf)\n",
    "\n",
    "fpr_xgb, tpr_xgb, threshold_xgb = roc_curve(y_test, proba_xgb[:,1]  )\n",
    "fpr_b_xgb, tpr_b_xgb, threshold_b_xgb = roc_curve(y_test, proba_xgb_b[:,1]  )\n",
    "\n",
    "roc_auc_xgb = auc(fpr_xgb, tpr_xgb)\n",
    "\n",
    "roc_auc_b_xgb = auc(fpr_b_xgb, tpr_b_xgb)\n",
    "\n",
    "plt.figure(figsize=(15,10))\n",
    "plt.title('Receiver Operating Characteristic for all the models')\n",
    "plt.plot(fpr, tpr, 'b', label = 'AUC_logit = %0.2f' % roc_auc)\n",
    "plt.plot(fpr_b, tpr_b, 'b:', label = 'AUC_logit_b = %0.2f' % roc_auc_b)\n",
    "plt.plot(fpr_xgb, tpr_xgb, 'k', label = 'AUC_xgb = %0.2f' % roc_auc_xgb)\n",
    "plt.plot(fpr_b_xgb, tpr_b_xgb, 'k:','---', label = 'AUC_b_xgb = %0.2f' % roc_auc_b_xgb)\n",
    "plt.plot(fpr_rf, tpr_rf, 'g', label = 'AUC_rf = %0.2f' % roc_auc_rf)\n",
    "plt.plot(fpr_b_rf, tpr_b_rf, 'g:', label = 'AUC_b_rf = %0.2f' % roc_auc_b_rf)\n",
    "plt.legend(loc = 'lower right')\n",
    "plt.plot([0, 1], [0, 1],'r')\n",
    "plt.xlim([0, 1])\n",
    "plt.ylim([0, 1])\n",
    "plt.ylabel('True Positive Rate')\n",
    "plt.xlabel('False Positive Rate')"
   ]
  },
  {
   "cell_type": "code",
   "execution_count": null,
   "metadata": {},
   "outputs": [],
   "source": []
  },
  {
   "cell_type": "code",
   "execution_count": null,
   "metadata": {},
   "outputs": [],
   "source": [
    "from sklearn.metrics import classification_report\n",
    "print(classification_report(y_test,predict_logit_b))"
   ]
  },
  {
   "cell_type": "code",
   "execution_count": null,
   "metadata": {},
   "outputs": [],
   "source": []
  },
  {
   "cell_type": "code",
   "execution_count": null,
   "metadata": {},
   "outputs": [],
   "source": []
  },
  {
   "cell_type": "code",
   "execution_count": null,
   "metadata": {},
   "outputs": [],
   "source": []
  },
  {
   "cell_type": "code",
   "execution_count": null,
   "metadata": {},
   "outputs": [],
   "source": []
  },
  {
   "cell_type": "code",
   "execution_count": null,
   "metadata": {},
   "outputs": [],
   "source": []
  },
  {
   "cell_type": "markdown",
   "metadata": {},
   "source": [
    "### Tuned SVM "
   ]
  },
  {
   "cell_type": "code",
   "execution_count": 62,
   "metadata": {},
   "outputs": [],
   "source": [
    "from sklearn.metrics import confusion_matrix"
   ]
  },
  {
   "cell_type": "code",
   "execution_count": 64,
   "metadata": {},
   "outputs": [
    {
     "ename": "TypeError",
     "evalue": "Invalid comparison between dtype=bool and str",
     "output_type": "error",
     "traceback": [
      "\u001b[0;31m---------------------------------------------------------------------------\u001b[0m",
      "\u001b[0;31mTypeError\u001b[0m                                 Traceback (most recent call last)",
      "\u001b[0;32m<ipython-input-64-fb67146626a9>\u001b[0m in \u001b[0;36m<module>\u001b[0;34m\u001b[0m\n\u001b[0;32m----> 1\u001b[0;31m \u001b[0my_test\u001b[0m\u001b[0;34m=\u001b[0m \u001b[0;34m'1'\u001b[0m \u001b[0;34m<=\u001b[0m \u001b[0my_test\u001b[0m\u001b[0;34m\u001b[0m\u001b[0;34m\u001b[0m\u001b[0m\n\u001b[0m",
      "\u001b[0;32m~/opt/anaconda3/lib/python3.7/site-packages/pandas/core/ops/__init__.py\u001b[0m in \u001b[0;36mwrapper\u001b[0;34m(self, other, axis)\u001b[0m\n\u001b[1;32m   1227\u001b[0m \u001b[0;34m\u001b[0m\u001b[0m\n\u001b[1;32m   1228\u001b[0m             \u001b[0;32mwith\u001b[0m \u001b[0mnp\u001b[0m\u001b[0;34m.\u001b[0m\u001b[0merrstate\u001b[0m\u001b[0;34m(\u001b[0m\u001b[0mall\u001b[0m\u001b[0;34m=\u001b[0m\u001b[0;34m\"ignore\"\u001b[0m\u001b[0;34m)\u001b[0m\u001b[0;34m:\u001b[0m\u001b[0;34m\u001b[0m\u001b[0;34m\u001b[0m\u001b[0m\n\u001b[0;32m-> 1229\u001b[0;31m                 \u001b[0mres\u001b[0m \u001b[0;34m=\u001b[0m \u001b[0mna_op\u001b[0m\u001b[0;34m(\u001b[0m\u001b[0mvalues\u001b[0m\u001b[0;34m,\u001b[0m \u001b[0mother\u001b[0m\u001b[0;34m)\u001b[0m\u001b[0;34m\u001b[0m\u001b[0;34m\u001b[0m\u001b[0m\n\u001b[0m\u001b[1;32m   1230\u001b[0m             \u001b[0;32mif\u001b[0m \u001b[0mis_scalar\u001b[0m\u001b[0;34m(\u001b[0m\u001b[0mres\u001b[0m\u001b[0;34m)\u001b[0m\u001b[0;34m:\u001b[0m\u001b[0;34m\u001b[0m\u001b[0;34m\u001b[0m\u001b[0m\n\u001b[1;32m   1231\u001b[0m                 raise TypeError(\n",
      "\u001b[0;32m~/opt/anaconda3/lib/python3.7/site-packages/pandas/core/ops/__init__.py\u001b[0m in \u001b[0;36mna_op\u001b[0;34m(x, y)\u001b[0m\n\u001b[1;32m   1115\u001b[0m                     \u001b[0mresult\u001b[0m \u001b[0;34m=\u001b[0m \u001b[0mmethod\u001b[0m\u001b[0;34m(\u001b[0m\u001b[0my\u001b[0m\u001b[0;34m)\u001b[0m\u001b[0;34m\u001b[0m\u001b[0;34m\u001b[0m\u001b[0m\n\u001b[1;32m   1116\u001b[0m                 \u001b[0;32mif\u001b[0m \u001b[0mresult\u001b[0m \u001b[0;32mis\u001b[0m \u001b[0mNotImplemented\u001b[0m\u001b[0;34m:\u001b[0m\u001b[0;34m\u001b[0m\u001b[0;34m\u001b[0m\u001b[0m\n\u001b[0;32m-> 1117\u001b[0;31m                     \u001b[0;32mreturn\u001b[0m \u001b[0minvalid_comparison\u001b[0m\u001b[0;34m(\u001b[0m\u001b[0mx\u001b[0m\u001b[0;34m,\u001b[0m \u001b[0my\u001b[0m\u001b[0;34m,\u001b[0m \u001b[0mop\u001b[0m\u001b[0;34m)\u001b[0m\u001b[0;34m\u001b[0m\u001b[0;34m\u001b[0m\u001b[0m\n\u001b[0m\u001b[1;32m   1118\u001b[0m             \u001b[0;32melse\u001b[0m\u001b[0;34m:\u001b[0m\u001b[0;34m\u001b[0m\u001b[0;34m\u001b[0m\u001b[0m\n\u001b[1;32m   1119\u001b[0m                 \u001b[0mresult\u001b[0m \u001b[0;34m=\u001b[0m \u001b[0mop\u001b[0m\u001b[0;34m(\u001b[0m\u001b[0mx\u001b[0m\u001b[0;34m,\u001b[0m \u001b[0my\u001b[0m\u001b[0;34m)\u001b[0m\u001b[0;34m\u001b[0m\u001b[0;34m\u001b[0m\u001b[0m\n",
      "\u001b[0;32m~/opt/anaconda3/lib/python3.7/site-packages/pandas/core/ops/__init__.py\u001b[0m in \u001b[0;36minvalid_comparison\u001b[0;34m(left, right, op)\u001b[0m\n\u001b[1;32m    495\u001b[0m         raise TypeError(\n\u001b[1;32m    496\u001b[0m             \"Invalid comparison between dtype={dtype} and {typ}\".format(\n\u001b[0;32m--> 497\u001b[0;31m                 \u001b[0mdtype\u001b[0m\u001b[0;34m=\u001b[0m\u001b[0mleft\u001b[0m\u001b[0;34m.\u001b[0m\u001b[0mdtype\u001b[0m\u001b[0;34m,\u001b[0m \u001b[0mtyp\u001b[0m\u001b[0;34m=\u001b[0m\u001b[0mtype\u001b[0m\u001b[0;34m(\u001b[0m\u001b[0mright\u001b[0m\u001b[0;34m)\u001b[0m\u001b[0;34m.\u001b[0m\u001b[0m__name__\u001b[0m\u001b[0;34m\u001b[0m\u001b[0;34m\u001b[0m\u001b[0m\n\u001b[0m\u001b[1;32m    498\u001b[0m             )\n\u001b[1;32m    499\u001b[0m         )\n",
      "\u001b[0;31mTypeError\u001b[0m: Invalid comparison between dtype=bool and str"
     ]
    }
   ],
   "source": []
  },
  {
   "cell_type": "code",
   "execution_count": 73,
   "metadata": {},
   "outputs": [
    {
     "data": {
      "text/plain": [
       "0    30000\n",
       "1    30000\n",
       "Name: No-show, dtype: int64"
      ]
     },
     "execution_count": 73,
     "metadata": {},
     "output_type": "execute_result"
    }
   ],
   "source": [
    "y_train_b.value_counts()\n"
   ]
  },
  {
   "cell_type": "code",
   "execution_count": 85,
   "metadata": {},
   "outputs": [
    {
     "data": {
      "text/plain": [
       "(60000, 40)"
      ]
     },
     "execution_count": 85,
     "metadata": {},
     "output_type": "execute_result"
    }
   ],
   "source": [
    "X_train_b.shape"
   ]
  },
  {
   "cell_type": "code",
   "execution_count": 93,
   "metadata": {},
   "outputs": [
    {
     "data": {
      "text/plain": [
       "pandas.core.frame.DataFrame"
      ]
     },
     "execution_count": 93,
     "metadata": {},
     "output_type": "execute_result"
    }
   ],
   "source": [
    "type(y_train_b.to_frame())"
   ]
  },
  {
   "cell_type": "code",
   "execution_count": 113,
   "metadata": {},
   "outputs": [
    {
     "ename": "SyntaxError",
     "evalue": "invalid syntax (<ipython-input-113-d7780a4a7027>, line 1)",
     "output_type": "error",
     "traceback": [
      "\u001b[0;36m  File \u001b[0;32m\"<ipython-input-113-d7780a4a7027>\"\u001b[0;36m, line \u001b[0;32m1\u001b[0m\n\u001b[0;31m    y_train_b.to_frame()['No-show'][][1]\u001b[0m\n\u001b[0m                                    ^\u001b[0m\n\u001b[0;31mSyntaxError\u001b[0m\u001b[0;31m:\u001b[0m invalid syntax\n"
     ]
    }
   ],
   "source": [
    "y_train_b.to_frame()['No-show']"
   ]
  },
  {
   "cell_type": "code",
   "execution_count": 131,
   "metadata": {},
   "outputs": [
    {
     "data": {
      "text/plain": [
       "array([[0.50390478, 0.49609522],\n",
       "       [0.50000371, 0.49999629],\n",
       "       [0.66588039, 0.33411961],\n",
       "       [0.90997681, 0.09002319],\n",
       "       [0.56023827, 0.43976173],\n",
       "       [0.50451165, 0.49548835],\n",
       "       [0.50232276, 0.49767724],\n",
       "       [0.50000441, 0.49999559],\n",
       "       [0.50256695, 0.49743305]])"
      ]
     },
     "execution_count": 131,
     "metadata": {},
     "output_type": "execute_result"
    }
   ],
   "source": [
    "from sklearn.linear_model import LogisticRegression\n",
    "logmodel = LogisticRegression()\n",
    "logmodel.fit(X_train,y_train)\n",
    "predictions = logmodel.predict_proba(X_test)\n",
    "predictions[1:10]"
   ]
  },
  {
   "cell_type": "code",
   "execution_count": 152,
   "metadata": {},
   "outputs": [
    {
     "data": {
      "text/plain": [
       "array([0.49996459, 0.49996854, 0.49999997, ..., 0.49965231, 0.49995542,\n",
       "       0.49999555])"
      ]
     },
     "execution_count": 152,
     "metadata": {},
     "output_type": "execute_result"
    }
   ],
   "source": [
    "proba_logit_b[:,1]"
   ]
  },
  {
   "cell_type": "markdown",
   "metadata": {},
   "source": [
    "# unsupervised "
   ]
  },
  {
   "cell_type": "code",
   "execution_count": 183,
   "metadata": {},
   "outputs": [],
   "source": [
    "from sklearn.cluster import KMeans\n",
    "kmeans = KMeans(n_clusters=2)\n",
    "kmeans.fit(X_train)\n",
    "y_kmeans = kmeans.predict(X_train)"
   ]
  },
  {
   "cell_type": "markdown",
   "metadata": {},
   "source": [
    "we can imagine selecting the variable with the types that works and also do some kmeans \n",
    "\n"
   ]
  },
  {
   "cell_type": "code",
   "execution_count": 184,
   "metadata": {},
   "outputs": [
    {
     "data": {
      "text/plain": [
       "array([1, 0, 0, ..., 1, 0, 0], dtype=int32)"
      ]
     },
     "execution_count": 184,
     "metadata": {},
     "output_type": "execute_result"
    }
   ],
   "source": [
    "\n",
    "y_kmeans"
   ]
  },
  {
   "cell_type": "code",
   "execution_count": 186,
   "metadata": {},
   "outputs": [
    {
     "name": "stdout",
     "output_type": "stream",
     "text": [
      "[[59095 11385]\n",
      " [15053  2888]]\n"
     ]
    }
   ],
   "source": [
    "\n",
    "\n",
    "y_train = '1' <= y_train \n",
    "from sklearn.metrics import confusion_matrix\n",
    "conf_mat_K = confusion_matrix(y_train, y_kmeans)\n",
    "print(conf_mat_K)"
   ]
  },
  {
   "cell_type": "code",
   "execution_count": 191,
   "metadata": {},
   "outputs": [],
   "source": [
    "import pandas as pd\n",
    "import matplotlib.pyplot as plt\n",
    "import seaborn as sns\n",
    "\n",
    "def print_confusion_matrix(confusion_matrix, class_names, figsize = (10,7), fontsize=14):\n",
    "    \"\"\"Prints a confusion matrix, as returned by sklearn.metrics.confusion_matrix, as a heatmap.\n",
    "    \n",
    "    Arguments\n",
    "    ---------\n",
    "    confusion_matrix: numpy.ndarray\n",
    "        The numpy.ndarray object returned from a call to sklearn.metrics.confusion_matrix. \n",
    "        Similarly constructed ndarrays can also be used.\n",
    "    class_names: list\n",
    "        An ordered list of class names, in the order they index the given confusion matrix.\n",
    "    figsize: tuple\n",
    "        A 2-long tuple, the first value determining the horizontal size of the ouputted figure,\n",
    "        the second determining the vertical size. Defaults to (10,7).\n",
    "    fontsize: int\n",
    "        Font size for axes labels. Defaults to 14.\n",
    "        \n",
    "    Returns\n",
    "    -------\n",
    "    matplotlib.figure.Figure\n",
    "        The resulting confusion matrix figure\n",
    "    \"\"\"\n",
    "    df_cm = pd.DataFrame(\n",
    "        confusion_matrix, index=class_names, columns=class_names, \n",
    "    )\n",
    "    fig = plt.figure(figsize=figsize)\n",
    "    try:\n",
    "        heatmap = sns.heatmap(df_cm, annot=True, fmt=\"d\")\n",
    "    except ValueError:\n",
    "        raise ValueError(\"Confusion matrix values must be integers.\")\n",
    "    heatmap.yaxis.set_ticklabels(heatmap.yaxis.get_ticklabels(), rotation=0, ha='right', fontsize=fontsize)\n",
    "    heatmap.xaxis.set_ticklabels(heatmap.xaxis.get_ticklabels(), rotation=45, ha='right', fontsize=fontsize)\n",
    "    plt.ylabel('True label')\n",
    "    plt.xlabel('Predicted label')\n",
    "    return fig\n"
   ]
  },
  {
   "cell_type": "code",
   "execution_count": 205,
   "metadata": {},
   "outputs": [
    {
     "data": {
      "image/png": "[encoded data removed]",
      "text/plain": [
       "<Figure size 720x720 with 2 Axes>"
      ]
     },
     "metadata": {},
     "output_type": "display_data"
    }
   ],
   "source": [
    "print_confusion_matrix(conf_mat_K, [\"Show\",\"No-Show\"], figsize = (10,10), fontsize=10)\n",
    "plt.savefig(\"hudbdj.png\")"
   ]
  },
  {
   "cell_type": "code",
   "execution_count": 198,
   "metadata": {},
   "outputs": [],
   "source": [
    "def plot_confusion_matrix(cm, classes,\n",
    "                          normalize=False,\n",
    "                          title='Confusion matrix',\n",
    "                          cmap=plt.cm.Blues):\n",
    "    \"\"\"\n",
    "    This function prints and plots the confusion matrix.\n",
    "    Normalization can be applied by setting `normalize=True`.\n",
    "    \"\"\"\n",
    "    if normalize:\n",
    "        cm = cm.astype('float') / cm.sum(axis=1)[:, np.newaxis]\n",
    "        print(\"Normalized confusion matrix\")\n",
    "    else:\n",
    "        print('Confusion matrix, without normalization')\n",
    "\n",
    "    print(cm)\n",
    "\n",
    "    plt.imshow(cm, interpolation='nearest', cmap=cmap)\n",
    "    plt.title(title)\n",
    "    plt.colorbar()\n",
    "    tick_marks = np.arange(len(classes))\n",
    "    plt.xticks(tick_marks, classes, rotation=45)\n",
    "    plt.yticks(tick_marks, classes)\n",
    "\n",
    "    fmt = '.2f' if normalize else 'd'\n",
    "    thresh = cm.max() / 2.\n",
    "    for i, j in itertools.product(range(cm.shape[0]), range(cm.shape[1])):\n",
    "        plt.text(j, i, format(cm[i, j], fmt),\n",
    "                 horizontalalignment=\"center\",\n",
    "                 color=\"white\" if cm[i, j] > thresh else \"black\")\n",
    "\n",
    "    plt.ylabel('True label')\n",
    "    plt.xlabel('Predicted label')\n",
    "    plt.tight_layout()\n",
    "\n",
    "\n"
   ]
  },
  {
   "cell_type": "code",
   "execution_count": 201,
   "metadata": {},
   "outputs": [],
   "source": [
    "from sklearn.utils.multiclass import unique_labels\n",
    "def plot_confusion_matrix(y_true, y_pred, classes,\n",
    "                          normalize=False,\n",
    "                          title=None,\n",
    "                          cmap=plt.cm.Blues):\n",
    "    \"\"\"\n",
    "    This function prints and plots the confusion matrix.\n",
    "    Normalization can be applied by setting `normalize=True`.\n",
    "    \"\"\"\n",
    "    if not title:\n",
    "        if normalize:\n",
    "            title = 'Normalized confusion matrix'\n",
    "        else:\n",
    "            title ='Confusion matrix, without normalization'\n",
    "    \n",
    "    cm = confusion_matrix(y_true, y_pred)\n",
    "    # Only use the labels that appear in the data\n",
    "    classes = classes[unique_labels(y_true, y_pred)]\n",
    "    if normalize:\n",
    "        cm = cm.astype('float') / cm.sum(axis=1)[:, np.newaxis]\n",
    "        print(\"Normalized confusion matrix\")\n",
    "    else:\n",
    "        print('Confusion matrix, without normalization')\n",
    "\n",
    "    print(cm)\n",
    "\n",
    "    fig, ax = plt.subplots()\n",
    "    im = ax.imshow(cm, interpolation='nearest', cmap=cmap)\n",
    "    ax.figure.colorbar(im, ax=ax)\n",
    "    # We want to show all ticks...\n",
    "    ax.set(xticks=np.arange(cm.shape[1]),\n",
    "           yticks=np.arange(cm.shape[0]),\n",
    "           # ... and label them with the respective list entries\n",
    "           xticklabels=classes, yticklabels=classes,\n",
    "           title=title,\n",
    "           ylabel='True label',\n",
    "           xlabel='Predicted label')\n",
    "    \n",
    "    # Rotate the tick labels and set their alignment.\n",
    "    plt.setp(ax.get_xticklabels(), rotation=45, ha=\"right\",\n",
    "             rotation_mode=\"anchor\")\n",
    "\n",
    "    # Loop over data dimensions and create text annotations.\n",
    "    fmt = '.2f' if normalize else 'd'\n",
    "    thresh = cm.max() / 2.\n",
    "    for i in range(cm.shape[0]):\n",
    "        for j in range(cm.shape[1]):\n",
    "            ax.text(j, i, format(cm[i, j], fmt),\n",
    "                    ha=\"center\", va=\"center\",\n",
    "                    color=\"white\" if cm[i, j] > thresh else \"black\")\n",
    "    fig.tight_layout()\n",
    "    return ax"
   ]
  },
  {
   "cell_type": "code",
   "execution_count": 206,
   "metadata": {},
   "outputs": [
    {
     "ename": "TypeError",
     "evalue": "only integer scalar arrays can be converted to a scalar index",
     "output_type": "error",
     "traceback": [
      "\u001b[0;31m---------------------------------------------------------------------------\u001b[0m",
      "\u001b[0;31mTypeError\u001b[0m                                 Traceback (most recent call last)",
      "\u001b[0;32m<ipython-input-206-e8795093987b>\u001b[0m in \u001b[0;36m<module>\u001b[0;34m\u001b[0m\n\u001b[1;32m      6\u001b[0m \u001b[0;31m# Plot non-normalized confusion matrix\u001b[0m\u001b[0;34m\u001b[0m\u001b[0;34m\u001b[0m\u001b[0;34m\u001b[0m\u001b[0m\n\u001b[1;32m      7\u001b[0m \u001b[0mplt\u001b[0m\u001b[0;34m.\u001b[0m\u001b[0mfigure\u001b[0m\u001b[0;34m(\u001b[0m\u001b[0;34m)\u001b[0m\u001b[0;34m\u001b[0m\u001b[0;34m\u001b[0m\u001b[0m\n\u001b[0;32m----> 8\u001b[0;31m \u001b[0mplot_confusion_matrix\u001b[0m\u001b[0;34m(\u001b[0m\u001b[0my_train\u001b[0m\u001b[0;34m,\u001b[0m \u001b[0my_kmeans\u001b[0m\u001b[0;34m,\u001b[0m \u001b[0mclasses\u001b[0m\u001b[0;34m=\u001b[0m\u001b[0;34m[\u001b[0m\u001b[0;34m\"\"\u001b[0m\u001b[0;34m,\u001b[0m\u001b[0;34m\"\"\u001b[0m\u001b[0;34m]\u001b[0m\u001b[0;34m)\u001b[0m\u001b[0;34m\u001b[0m\u001b[0;34m\u001b[0m\u001b[0m\n\u001b[0m\u001b[1;32m      9\u001b[0m \u001b[0mplt\u001b[0m\u001b[0;34m.\u001b[0m\u001b[0mshow\u001b[0m\u001b[0;34m(\u001b[0m\u001b[0;34m)\u001b[0m\u001b[0;34m\u001b[0m\u001b[0;34m\u001b[0m\u001b[0m\n",
      "\u001b[0;32m<ipython-input-201-c048f50b8754>\u001b[0m in \u001b[0;36mplot_confusion_matrix\u001b[0;34m(y_true, y_pred, classes, normalize, title, cmap)\u001b[0m\n\u001b[1;32m     16\u001b[0m     \u001b[0mcm\u001b[0m \u001b[0;34m=\u001b[0m \u001b[0mconfusion_matrix\u001b[0m\u001b[0;34m(\u001b[0m\u001b[0my_true\u001b[0m\u001b[0;34m,\u001b[0m \u001b[0my_pred\u001b[0m\u001b[0;34m)\u001b[0m\u001b[0;34m\u001b[0m\u001b[0;34m\u001b[0m\u001b[0m\n\u001b[1;32m     17\u001b[0m     \u001b[0;31m# Only use the labels that appear in the data\u001b[0m\u001b[0;34m\u001b[0m\u001b[0;34m\u001b[0m\u001b[0;34m\u001b[0m\u001b[0m\n\u001b[0;32m---> 18\u001b[0;31m     \u001b[0mclasses\u001b[0m \u001b[0;34m=\u001b[0m \u001b[0mclasses\u001b[0m\u001b[0;34m[\u001b[0m\u001b[0munique_labels\u001b[0m\u001b[0;34m(\u001b[0m\u001b[0my_true\u001b[0m\u001b[0;34m,\u001b[0m \u001b[0my_pred\u001b[0m\u001b[0;34m)\u001b[0m\u001b[0;34m]\u001b[0m\u001b[0;34m\u001b[0m\u001b[0;34m\u001b[0m\u001b[0m\n\u001b[0m\u001b[1;32m     19\u001b[0m     \u001b[0;32mif\u001b[0m \u001b[0mnormalize\u001b[0m\u001b[0;34m:\u001b[0m\u001b[0;34m\u001b[0m\u001b[0;34m\u001b[0m\u001b[0m\n\u001b[1;32m     20\u001b[0m         \u001b[0mcm\u001b[0m \u001b[0;34m=\u001b[0m \u001b[0mcm\u001b[0m\u001b[0;34m.\u001b[0m\u001b[0mastype\u001b[0m\u001b[0;34m(\u001b[0m\u001b[0;34m'float'\u001b[0m\u001b[0;34m)\u001b[0m \u001b[0;34m/\u001b[0m \u001b[0mcm\u001b[0m\u001b[0;34m.\u001b[0m\u001b[0msum\u001b[0m\u001b[0;34m(\u001b[0m\u001b[0maxis\u001b[0m\u001b[0;34m=\u001b[0m\u001b[0;36m1\u001b[0m\u001b[0;34m)\u001b[0m\u001b[0;34m[\u001b[0m\u001b[0;34m:\u001b[0m\u001b[0;34m,\u001b[0m \u001b[0mnp\u001b[0m\u001b[0;34m.\u001b[0m\u001b[0mnewaxis\u001b[0m\u001b[0;34m]\u001b[0m\u001b[0;34m\u001b[0m\u001b[0;34m\u001b[0m\u001b[0m\n",
      "\u001b[0;31mTypeError\u001b[0m: only integer scalar arrays can be converted to a scalar index"
     ]
    },
    {
     "data": {
      "text/plain": [
       "<Figure size 432x288 with 0 Axes>"
      ]
     },
     "metadata": {},
     "output_type": "display_data"
    }
   ],
   "source": [
    "# Compute confusion matrix\n",
    "#cnf_matrix = confusion_matrix(y_test, y_pred)\n",
    "#np.set_printoptions(precision=2)\n",
    "import itertools\n",
    "import numpy as np\n",
    "# Plot non-normalized confusion matrix\n",
    "plt.figure()\n",
    "plot_confusion_matrix(y_train, y_kmeans, classes=[\"\",\"\"])\n",
    "plt.show()"
   ]
  },
  {
   "cell_type": "code",
   "execution_count": null,
   "metadata": {},
   "outputs": [],
   "source": [
    "from sklearn.cluster import AgglomerativeClustering \n",
    "hc = AgglomerativeClustering(n_clusters = 2, affinity = 'euclidean', linkage ='ward')\n",
    "y_hc=hc.fit_predict(X_train.iloc[:,2:9])"
   ]
  },
  {
   "cell_type": "code",
   "execution_count": 65,
   "metadata": {},
   "outputs": [
    {
     "data": {
      "text/plain": [
       "Age             int64\n",
       "Scholarship     int64\n",
       "Hipertension    int64\n",
       "Diabetes        int64\n",
       "Alcoholism      int64\n",
       "Handcap         int64\n",
       "SMS_received    int64\n",
       "dtype: object"
      ]
     },
     "execution_count": 65,
     "metadata": {},
     "output_type": "execute_result"
    }
   ],
   "source": [
    "X_train.iloc[:,2:9].dtypes"
   ]
  },
  {
   "cell_type": "code",
   "execution_count": 151,
   "metadata": {},
   "outputs": [],
   "source": [
    "y_test= '1' <= y_test"
   ]
  },
  {
   "cell_type": "code",
   "execution_count": 155,
   "metadata": {},
   "outputs": [],
   "source": [
    "import matplotlib.pyplot as plt "
   ]
  },
  {
   "cell_type": "code",
   "execution_count": null,
   "metadata": {},
   "outputs": [],
   "source": []
  }
 ],
 "metadata": {
  "kernelspec": {
   "display_name": "Python 3",
   "language": "python",
   "name": "python3"
  },
  "language_info": {
   "codemirror_mode": {
    "name": "ipython",
    "version": 3
   },
   "file_extension": ".py",
   "mimetype": "text/x-python",
   "name": "python",
   "nbconvert_exporter": "python",
   "pygments_lexer": "ipython3",
   "version": "3.7.4"
  }
 },
 "nbformat": 4,
 "nbformat_minor": 2
}
